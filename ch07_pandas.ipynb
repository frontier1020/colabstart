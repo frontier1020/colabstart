{
  "nbformat": 4,
  "nbformat_minor": 0,
  "metadata": {
    "colab": {
      "name": "ch07_pandas.ipynb",
      "provenance": [],
      "authorship_tag": "ABX9TyOVSD8hOPaiA92egx+Yi2qU",
      "include_colab_link": true
    },
    "kernelspec": {
      "name": "python3",
      "display_name": "Python 3"
    }
  },
  "cells": [
    {
      "cell_type": "markdown",
      "metadata": {
        "id": "view-in-github",
        "colab_type": "text"
      },
      "source": [
        "<a href=\"https://colab.research.google.com/github/frontier1020/colabstart/blob/master/ch07_pandas.ipynb\" target=\"_parent\"><img src=\"https://colab.research.google.com/assets/colab-badge.svg\" alt=\"Open In Colab\"/></a>"
      ]
    },
    {
      "cell_type": "code",
      "metadata": {
        "id": "1EGAvMalMHGY",
        "colab_type": "code",
        "outputId": "8acdc893-23dc-46ef-d5f1-c0701d7bb15c",
        "colab": {
          "base_uri": "https://localhost:8080/",
          "height": 53
        }
      },
      "source": [
        "import pandas as pd\n",
        "data_tr = pd.read_csv(\"sample_data/california_housing_train.csv\")\n",
        "data_test = pd.read_csv(\"sample_data/california_housing_test.csv\")\n",
        "\n",
        "print(\"캘리포니아 데이터 행열(train) :\", data_tr.shape)\n",
        "print(\"캘리포니아 데이터 행열(test) :\", data_test.shape)"
      ],
      "execution_count": 0,
      "outputs": [
        {
          "output_type": "stream",
          "text": [
            "캘리포니아 데이터 행열(train) : (17000, 9)\n",
            "캘리포니아 데이터 행열(test) : (3000, 9)\n"
          ],
          "name": "stdout"
        }
      ]
    },
    {
      "cell_type": "code",
      "metadata": {
        "id": "cqtjVVtql-Oa",
        "colab_type": "code",
        "outputId": "77f1a592-2a6e-40de-b9f7-02a8410a9e11",
        "colab": {
          "base_uri": "https://localhost:8080/",
          "height": 476
        }
      },
      "source": [
        "print(data_tr.head())     # 5행만 보기\n",
        "print(data_test.head(3)) # 3행만 보기\n",
        "# tail를 이용하여 뒤에 5행을 볼 수 있음.\n",
        "data_tr.tail()     # 뒤에서 5행만 보기"
      ],
      "execution_count": 0,
      "outputs": [
        {
          "output_type": "stream",
          "text": [
            "   longitude  latitude  ...  median_income  median_house_value\n",
            "0    -114.31     34.19  ...         1.4936             66900.0\n",
            "1    -114.47     34.40  ...         1.8200             80100.0\n",
            "2    -114.56     33.69  ...         1.6509             85700.0\n",
            "3    -114.57     33.64  ...         3.1917             73400.0\n",
            "4    -114.57     33.57  ...         1.9250             65500.0\n",
            "\n",
            "[5 rows x 9 columns]\n",
            "   longitude  latitude  ...  median_income  median_house_value\n",
            "0    -122.05     37.37  ...         6.6085            344700.0\n",
            "1    -118.30     34.26  ...         3.5990            176500.0\n",
            "2    -117.81     33.78  ...         5.7934            270500.0\n",
            "\n",
            "[3 rows x 9 columns]\n"
          ],
          "name": "stdout"
        },
        {
          "output_type": "execute_result",
          "data": {
            "text/html": [
              "<div>\n",
              "<style scoped>\n",
              "    .dataframe tbody tr th:only-of-type {\n",
              "        vertical-align: middle;\n",
              "    }\n",
              "\n",
              "    .dataframe tbody tr th {\n",
              "        vertical-align: top;\n",
              "    }\n",
              "\n",
              "    .dataframe thead th {\n",
              "        text-align: right;\n",
              "    }\n",
              "</style>\n",
              "<table border=\"1\" class=\"dataframe\">\n",
              "  <thead>\n",
              "    <tr style=\"text-align: right;\">\n",
              "      <th></th>\n",
              "      <th>longitude</th>\n",
              "      <th>latitude</th>\n",
              "      <th>housing_median_age</th>\n",
              "      <th>total_rooms</th>\n",
              "      <th>total_bedrooms</th>\n",
              "      <th>population</th>\n",
              "      <th>households</th>\n",
              "      <th>median_income</th>\n",
              "      <th>median_house_value</th>\n",
              "    </tr>\n",
              "  </thead>\n",
              "  <tbody>\n",
              "    <tr>\n",
              "      <th>16995</th>\n",
              "      <td>-124.26</td>\n",
              "      <td>40.58</td>\n",
              "      <td>52.0</td>\n",
              "      <td>2217.0</td>\n",
              "      <td>394.0</td>\n",
              "      <td>907.0</td>\n",
              "      <td>369.0</td>\n",
              "      <td>2.3571</td>\n",
              "      <td>111400.0</td>\n",
              "    </tr>\n",
              "    <tr>\n",
              "      <th>16996</th>\n",
              "      <td>-124.27</td>\n",
              "      <td>40.69</td>\n",
              "      <td>36.0</td>\n",
              "      <td>2349.0</td>\n",
              "      <td>528.0</td>\n",
              "      <td>1194.0</td>\n",
              "      <td>465.0</td>\n",
              "      <td>2.5179</td>\n",
              "      <td>79000.0</td>\n",
              "    </tr>\n",
              "    <tr>\n",
              "      <th>16997</th>\n",
              "      <td>-124.30</td>\n",
              "      <td>41.84</td>\n",
              "      <td>17.0</td>\n",
              "      <td>2677.0</td>\n",
              "      <td>531.0</td>\n",
              "      <td>1244.0</td>\n",
              "      <td>456.0</td>\n",
              "      <td>3.0313</td>\n",
              "      <td>103600.0</td>\n",
              "    </tr>\n",
              "    <tr>\n",
              "      <th>16998</th>\n",
              "      <td>-124.30</td>\n",
              "      <td>41.80</td>\n",
              "      <td>19.0</td>\n",
              "      <td>2672.0</td>\n",
              "      <td>552.0</td>\n",
              "      <td>1298.0</td>\n",
              "      <td>478.0</td>\n",
              "      <td>1.9797</td>\n",
              "      <td>85800.0</td>\n",
              "    </tr>\n",
              "    <tr>\n",
              "      <th>16999</th>\n",
              "      <td>-124.35</td>\n",
              "      <td>40.54</td>\n",
              "      <td>52.0</td>\n",
              "      <td>1820.0</td>\n",
              "      <td>300.0</td>\n",
              "      <td>806.0</td>\n",
              "      <td>270.0</td>\n",
              "      <td>3.0147</td>\n",
              "      <td>94600.0</td>\n",
              "    </tr>\n",
              "  </tbody>\n",
              "</table>\n",
              "</div>"
            ],
            "text/plain": [
              "       longitude  latitude  ...  median_income  median_house_value\n",
              "16995    -124.26     40.58  ...         2.3571            111400.0\n",
              "16996    -124.27     40.69  ...         2.5179             79000.0\n",
              "16997    -124.30     41.84  ...         3.0313            103600.0\n",
              "16998    -124.30     41.80  ...         1.9797             85800.0\n",
              "16999    -124.35     40.54  ...         3.0147             94600.0\n",
              "\n",
              "[5 rows x 9 columns]"
            ]
          },
          "metadata": {
            "tags": []
          },
          "execution_count": 4
        }
      ]
    },
    {
      "cell_type": "code",
      "metadata": {
        "id": "HGdxlhPuna1c",
        "colab_type": "code",
        "colab": {}
      },
      "source": [
        "### 구글 콜랩의 데이터 셋을 이용해서 csv, excel파일을 만들자.\n",
        "data_tr.to_csv(\"data.csv\", index=False)\n",
        "data_tr.to_excel(\"data.xlsx\", index=True)\n",
        "\n",
        "### 파일을 불러와 보자.\n",
        "excel_data = pd.read_excel(\"data.xlsx\")\n",
        "csv_data = pd.read_csv(\"data.csv\")"
      ],
      "execution_count": 0,
      "outputs": []
    },
    {
      "cell_type": "code",
      "metadata": {
        "id": "cy96CJFEqZnS",
        "colab_type": "code",
        "outputId": "93342e89-2eb0-4d50-c207-092ecbd1f076",
        "colab": {
          "base_uri": "https://localhost:8080/",
          "height": 35
        }
      },
      "source": [
        "### 파일 생성 확인(리눅스 명령 이용)\n",
        "!ls"
      ],
      "execution_count": 0,
      "outputs": [
        {
          "output_type": "stream",
          "text": [
            "data.csv  data.xlsx  sample_data\n"
          ],
          "name": "stdout"
        }
      ]
    },
    {
      "cell_type": "code",
      "metadata": {
        "id": "WxtEI_OkrjpW",
        "colab_type": "code",
        "outputId": "84482378-efd1-4683-829a-05b7fcaf8dd8",
        "colab": {
          "base_uri": "https://localhost:8080/",
          "height": 241
        }
      },
      "source": [
        "excel_data.head()"
      ],
      "execution_count": 0,
      "outputs": [
        {
          "output_type": "execute_result",
          "data": {
            "text/html": [
              "<div>\n",
              "<style scoped>\n",
              "    .dataframe tbody tr th:only-of-type {\n",
              "        vertical-align: middle;\n",
              "    }\n",
              "\n",
              "    .dataframe tbody tr th {\n",
              "        vertical-align: top;\n",
              "    }\n",
              "\n",
              "    .dataframe thead th {\n",
              "        text-align: right;\n",
              "    }\n",
              "</style>\n",
              "<table border=\"1\" class=\"dataframe\">\n",
              "  <thead>\n",
              "    <tr style=\"text-align: right;\">\n",
              "      <th></th>\n",
              "      <th>Unnamed: 0</th>\n",
              "      <th>longitude</th>\n",
              "      <th>latitude</th>\n",
              "      <th>housing_median_age</th>\n",
              "      <th>total_rooms</th>\n",
              "      <th>total_bedrooms</th>\n",
              "      <th>population</th>\n",
              "      <th>households</th>\n",
              "      <th>median_income</th>\n",
              "      <th>median_house_value</th>\n",
              "    </tr>\n",
              "  </thead>\n",
              "  <tbody>\n",
              "    <tr>\n",
              "      <th>0</th>\n",
              "      <td>0</td>\n",
              "      <td>-114.31</td>\n",
              "      <td>34.19</td>\n",
              "      <td>15</td>\n",
              "      <td>5612</td>\n",
              "      <td>1283</td>\n",
              "      <td>1015</td>\n",
              "      <td>472</td>\n",
              "      <td>1.4936</td>\n",
              "      <td>66900</td>\n",
              "    </tr>\n",
              "    <tr>\n",
              "      <th>1</th>\n",
              "      <td>1</td>\n",
              "      <td>-114.47</td>\n",
              "      <td>34.40</td>\n",
              "      <td>19</td>\n",
              "      <td>7650</td>\n",
              "      <td>1901</td>\n",
              "      <td>1129</td>\n",
              "      <td>463</td>\n",
              "      <td>1.8200</td>\n",
              "      <td>80100</td>\n",
              "    </tr>\n",
              "    <tr>\n",
              "      <th>2</th>\n",
              "      <td>2</td>\n",
              "      <td>-114.56</td>\n",
              "      <td>33.69</td>\n",
              "      <td>17</td>\n",
              "      <td>720</td>\n",
              "      <td>174</td>\n",
              "      <td>333</td>\n",
              "      <td>117</td>\n",
              "      <td>1.6509</td>\n",
              "      <td>85700</td>\n",
              "    </tr>\n",
              "    <tr>\n",
              "      <th>3</th>\n",
              "      <td>3</td>\n",
              "      <td>-114.57</td>\n",
              "      <td>33.64</td>\n",
              "      <td>14</td>\n",
              "      <td>1501</td>\n",
              "      <td>337</td>\n",
              "      <td>515</td>\n",
              "      <td>226</td>\n",
              "      <td>3.1917</td>\n",
              "      <td>73400</td>\n",
              "    </tr>\n",
              "    <tr>\n",
              "      <th>4</th>\n",
              "      <td>4</td>\n",
              "      <td>-114.57</td>\n",
              "      <td>33.57</td>\n",
              "      <td>20</td>\n",
              "      <td>1454</td>\n",
              "      <td>326</td>\n",
              "      <td>624</td>\n",
              "      <td>262</td>\n",
              "      <td>1.9250</td>\n",
              "      <td>65500</td>\n",
              "    </tr>\n",
              "  </tbody>\n",
              "</table>\n",
              "</div>"
            ],
            "text/plain": [
              "   Unnamed: 0  longitude  ...  median_income  median_house_value\n",
              "0           0    -114.31  ...         1.4936               66900\n",
              "1           1    -114.47  ...         1.8200               80100\n",
              "2           2    -114.56  ...         1.6509               85700\n",
              "3           3    -114.57  ...         3.1917               73400\n",
              "4           4    -114.57  ...         1.9250               65500\n",
              "\n",
              "[5 rows x 10 columns]"
            ]
          },
          "metadata": {
            "tags": []
          },
          "execution_count": 9
        }
      ]
    },
    {
      "cell_type": "code",
      "metadata": {
        "id": "5k56w9J7sJh4",
        "colab_type": "code",
        "outputId": "5aec92da-1e74-4a05-b793-4aa6b1b5515a",
        "colab": {
          "base_uri": "https://localhost:8080/",
          "height": 224
        }
      },
      "source": [
        "csv_data.head()"
      ],
      "execution_count": 0,
      "outputs": [
        {
          "output_type": "execute_result",
          "data": {
            "text/html": [
              "<div>\n",
              "<style scoped>\n",
              "    .dataframe tbody tr th:only-of-type {\n",
              "        vertical-align: middle;\n",
              "    }\n",
              "\n",
              "    .dataframe tbody tr th {\n",
              "        vertical-align: top;\n",
              "    }\n",
              "\n",
              "    .dataframe thead th {\n",
              "        text-align: right;\n",
              "    }\n",
              "</style>\n",
              "<table border=\"1\" class=\"dataframe\">\n",
              "  <thead>\n",
              "    <tr style=\"text-align: right;\">\n",
              "      <th></th>\n",
              "      <th>longitude</th>\n",
              "      <th>latitude</th>\n",
              "      <th>housing_median_age</th>\n",
              "      <th>total_rooms</th>\n",
              "      <th>total_bedrooms</th>\n",
              "      <th>population</th>\n",
              "      <th>households</th>\n",
              "      <th>median_income</th>\n",
              "      <th>median_house_value</th>\n",
              "    </tr>\n",
              "  </thead>\n",
              "  <tbody>\n",
              "    <tr>\n",
              "      <th>0</th>\n",
              "      <td>-114.31</td>\n",
              "      <td>34.19</td>\n",
              "      <td>15.0</td>\n",
              "      <td>5612.0</td>\n",
              "      <td>1283.0</td>\n",
              "      <td>1015.0</td>\n",
              "      <td>472.0</td>\n",
              "      <td>1.4936</td>\n",
              "      <td>66900.0</td>\n",
              "    </tr>\n",
              "    <tr>\n",
              "      <th>1</th>\n",
              "      <td>-114.47</td>\n",
              "      <td>34.40</td>\n",
              "      <td>19.0</td>\n",
              "      <td>7650.0</td>\n",
              "      <td>1901.0</td>\n",
              "      <td>1129.0</td>\n",
              "      <td>463.0</td>\n",
              "      <td>1.8200</td>\n",
              "      <td>80100.0</td>\n",
              "    </tr>\n",
              "    <tr>\n",
              "      <th>2</th>\n",
              "      <td>-114.56</td>\n",
              "      <td>33.69</td>\n",
              "      <td>17.0</td>\n",
              "      <td>720.0</td>\n",
              "      <td>174.0</td>\n",
              "      <td>333.0</td>\n",
              "      <td>117.0</td>\n",
              "      <td>1.6509</td>\n",
              "      <td>85700.0</td>\n",
              "    </tr>\n",
              "    <tr>\n",
              "      <th>3</th>\n",
              "      <td>-114.57</td>\n",
              "      <td>33.64</td>\n",
              "      <td>14.0</td>\n",
              "      <td>1501.0</td>\n",
              "      <td>337.0</td>\n",
              "      <td>515.0</td>\n",
              "      <td>226.0</td>\n",
              "      <td>3.1917</td>\n",
              "      <td>73400.0</td>\n",
              "    </tr>\n",
              "    <tr>\n",
              "      <th>4</th>\n",
              "      <td>-114.57</td>\n",
              "      <td>33.57</td>\n",
              "      <td>20.0</td>\n",
              "      <td>1454.0</td>\n",
              "      <td>326.0</td>\n",
              "      <td>624.0</td>\n",
              "      <td>262.0</td>\n",
              "      <td>1.9250</td>\n",
              "      <td>65500.0</td>\n",
              "    </tr>\n",
              "  </tbody>\n",
              "</table>\n",
              "</div>"
            ],
            "text/plain": [
              "   longitude  latitude  ...  median_income  median_house_value\n",
              "0    -114.31     34.19  ...         1.4936             66900.0\n",
              "1    -114.47     34.40  ...         1.8200             80100.0\n",
              "2    -114.56     33.69  ...         1.6509             85700.0\n",
              "3    -114.57     33.64  ...         3.1917             73400.0\n",
              "4    -114.57     33.57  ...         1.9250             65500.0\n",
              "\n",
              "[5 rows x 9 columns]"
            ]
          },
          "metadata": {
            "tags": []
          },
          "execution_count": 10
        }
      ]
    },
    {
      "cell_type": "code",
      "metadata": {
        "id": "xtK4_E-g3_HT",
        "colab_type": "code",
        "colab": {}
      },
      "source": [
        "data_tr = pd.read_csv(\"sample_data/california_housing_train.csv\")\n",
        "data_test = pd.read_csv(\"sample_data/california_housing_test.csv\")"
      ],
      "execution_count": 0,
      "outputs": []
    },
    {
      "cell_type": "code",
      "metadata": {
        "id": "UEr0QS0fsKn8",
        "colab_type": "code",
        "outputId": "24f4f072-efe9-49cd-8c9d-9b9bbe1a1920",
        "colab": {
          "base_uri": "https://localhost:8080/",
          "height": 161
        }
      },
      "source": [
        "print(\"데이터 열의 제목(train) : \", data_tr.columns) \n",
        "print(\"데이터 열의 제목(test) : \", data_test.columns) "
      ],
      "execution_count": 0,
      "outputs": [
        {
          "output_type": "stream",
          "text": [
            "데이터 열의 제목(train) :  Index(['longitude', 'latitude', 'housing_median_age', 'total_rooms',\n",
            "       'total_bedrooms', 'population', 'households', 'median_income',\n",
            "       'median_house_value'],\n",
            "      dtype='object')\n",
            "데이터 열의 제목(test) :  Index(['longitude', 'latitude', 'housing_median_age', 'total_rooms',\n",
            "       'total_bedrooms', 'population', 'households', 'median_income',\n",
            "       'median_house_value'],\n",
            "      dtype='object')\n"
          ],
          "name": "stdout"
        }
      ]
    },
    {
      "cell_type": "code",
      "metadata": {
        "id": "BhFGhqPPuDFE",
        "colab_type": "code",
        "outputId": "632022c0-a463-4383-98fc-abc9d658e71a",
        "colab": {
          "base_uri": "https://localhost:8080/",
          "height": 287
        }
      },
      "source": [
        "print(data_tr.info() ) "
      ],
      "execution_count": 0,
      "outputs": [
        {
          "output_type": "stream",
          "text": [
            "<class 'pandas.core.frame.DataFrame'>\n",
            "RangeIndex: 17000 entries, 0 to 16999\n",
            "Data columns (total 9 columns):\n",
            "longitude             17000 non-null float64\n",
            "latitude              17000 non-null float64\n",
            "housing_median_age    17000 non-null float64\n",
            "total_rooms           17000 non-null float64\n",
            "total_bedrooms        17000 non-null float64\n",
            "population            17000 non-null float64\n",
            "households            17000 non-null float64\n",
            "median_income         17000 non-null float64\n",
            "median_house_value    17000 non-null float64\n",
            "dtypes: float64(9)\n",
            "memory usage: 1.2 MB\n",
            "None\n"
          ],
          "name": "stdout"
        }
      ]
    },
    {
      "cell_type": "code",
      "metadata": {
        "id": "kQs4TM7FwKnW",
        "colab_type": "code",
        "outputId": "a858050d-12e6-4b7f-c166-4f4202822f47",
        "colab": {
          "base_uri": "https://localhost:8080/",
          "height": 287
        }
      },
      "source": [
        "print(data_test.info() ) "
      ],
      "execution_count": 0,
      "outputs": [
        {
          "output_type": "stream",
          "text": [
            "<class 'pandas.core.frame.DataFrame'>\n",
            "RangeIndex: 3000 entries, 0 to 2999\n",
            "Data columns (total 9 columns):\n",
            "longitude             3000 non-null float64\n",
            "latitude              3000 non-null float64\n",
            "housing_median_age    3000 non-null float64\n",
            "total_rooms           3000 non-null float64\n",
            "total_bedrooms        3000 non-null float64\n",
            "population            3000 non-null float64\n",
            "households            3000 non-null float64\n",
            "median_income         3000 non-null float64\n",
            "median_house_value    3000 non-null float64\n",
            "dtypes: float64(9)\n",
            "memory usage: 211.1 KB\n",
            "None\n"
          ],
          "name": "stdout"
        }
      ]
    },
    {
      "cell_type": "code",
      "metadata": {
        "id": "RyMm50dswNye",
        "colab_type": "code",
        "outputId": "dfa62191-2682-4764-c368-8a6598113e33",
        "colab": {
          "base_uri": "https://localhost:8080/",
          "height": 305
        }
      },
      "source": [
        "import numpy as np\n",
        "data_tr.iloc[0,1] = np.nan\n",
        "data_test.iloc[2,1:8] = np.nan\n",
        "\n",
        "print(data_tr.head() ) \n",
        "print(data_test.head() ) "
      ],
      "execution_count": 0,
      "outputs": [
        {
          "output_type": "stream",
          "text": [
            "   longitude  latitude  ...  median_income  median_house_value\n",
            "0    -114.31       NaN  ...         1.4936             66900.0\n",
            "1    -114.47     34.40  ...         1.8200             80100.0\n",
            "2    -114.56     33.69  ...         1.6509             85700.0\n",
            "3    -114.57     33.64  ...         3.1917             73400.0\n",
            "4    -114.57     33.57  ...         1.9250             65500.0\n",
            "\n",
            "[5 rows x 9 columns]\n",
            "   longitude  latitude  ...  median_income  median_house_value\n",
            "0    -122.05     37.37  ...         6.6085            344700.0\n",
            "1    -118.30     34.26  ...         3.5990            176500.0\n",
            "2    -117.81       NaN  ...            NaN            270500.0\n",
            "3    -118.36     33.82  ...         6.1359            330000.0\n",
            "4    -119.67     36.33  ...         2.9375             81700.0\n",
            "\n",
            "[5 rows x 9 columns]\n"
          ],
          "name": "stdout"
        }
      ]
    },
    {
      "cell_type": "code",
      "metadata": {
        "id": "97xBDHRo0LQ3",
        "colab_type": "code",
        "outputId": "cefee569-8548-4d90-a6b7-73fdcb346d9f",
        "colab": {
          "base_uri": "https://localhost:8080/",
          "height": 575
        }
      },
      "source": [
        "print(\"train 데이터 셋 : \", data_tr.info() ) \n",
        "print()\n",
        "print(\"test 데이터 셋 : \", data_test.info() ) "
      ],
      "execution_count": 0,
      "outputs": [
        {
          "output_type": "stream",
          "text": [
            "<class 'pandas.core.frame.DataFrame'>\n",
            "RangeIndex: 17000 entries, 0 to 16999\n",
            "Data columns (total 9 columns):\n",
            "longitude             17000 non-null float64\n",
            "latitude              16999 non-null float64\n",
            "housing_median_age    17000 non-null float64\n",
            "total_rooms           17000 non-null float64\n",
            "total_bedrooms        17000 non-null float64\n",
            "population            17000 non-null float64\n",
            "households            17000 non-null float64\n",
            "median_income         17000 non-null float64\n",
            "median_house_value    17000 non-null float64\n",
            "dtypes: float64(9)\n",
            "memory usage: 1.2 MB\n",
            "train 데이터 셋 :  None\n",
            "\n",
            "<class 'pandas.core.frame.DataFrame'>\n",
            "RangeIndex: 3000 entries, 0 to 2999\n",
            "Data columns (total 9 columns):\n",
            "longitude             3000 non-null float64\n",
            "latitude              2999 non-null float64\n",
            "housing_median_age    2999 non-null float64\n",
            "total_rooms           2999 non-null float64\n",
            "total_bedrooms        2999 non-null float64\n",
            "population            2999 non-null float64\n",
            "households            2999 non-null float64\n",
            "median_income         2999 non-null float64\n",
            "median_house_value    3000 non-null float64\n",
            "dtypes: float64(9)\n",
            "memory usage: 211.1 KB\n",
            "test 데이터 셋 :  None\n"
          ],
          "name": "stdout"
        }
      ]
    },
    {
      "cell_type": "code",
      "metadata": {
        "id": "ybbRj0ieESIH",
        "colab_type": "code",
        "colab": {}
      },
      "source": [
        "import pandas as pd"
      ],
      "execution_count": 0,
      "outputs": []
    },
    {
      "cell_type": "code",
      "metadata": {
        "id": "PhqAa1bG1l5w",
        "colab_type": "code",
        "colab": {
          "base_uri": "https://localhost:8080/",
          "height": 194
        },
        "outputId": "10f72968-74bc-4551-ad83-41e50b7277c1"
      },
      "source": [
        "base_dir = \"./sample_data/\"\n",
        "data_tr = pd.read_csv(base_dir + \"california_housing_train.csv\")\n",
        "data_test = pd.read_csv(base_dir + \"california_housing_test.csv\")\n",
        "\n",
        "# 두번째 행 선택\n",
        "print(data_tr.iloc[1])"
      ],
      "execution_count": 4,
      "outputs": [
        {
          "output_type": "stream",
          "text": [
            "longitude              -114.47\n",
            "latitude                 34.40\n",
            "housing_median_age       19.00\n",
            "total_rooms            7650.00\n",
            "total_bedrooms         1901.00\n",
            "population             1129.00\n",
            "households              463.00\n",
            "median_income             1.82\n",
            "median_house_value    80100.00\n",
            "Name: 1, dtype: float64\n"
          ],
          "name": "stdout"
        }
      ]
    },
    {
      "cell_type": "code",
      "metadata": {
        "id": "QrRkDEsgEPTZ",
        "colab_type": "code",
        "colab": {
          "base_uri": "https://localhost:8080/",
          "height": 34
        },
        "outputId": "b733d22b-5a1f-497d-8c56-1a5ea4ca3c4b"
      },
      "source": [
        "data_tr.shape"
      ],
      "execution_count": 5,
      "outputs": [
        {
          "output_type": "execute_result",
          "data": {
            "text/plain": [
              "(17000, 9)"
            ]
          },
          "metadata": {
            "tags": []
          },
          "execution_count": 5
        }
      ]
    },
    {
      "cell_type": "code",
      "metadata": {
        "id": "Cl1AgIDNH3yc",
        "colab_type": "code",
        "colab": {
          "base_uri": "https://localhost:8080/",
          "height": 336
        },
        "outputId": "d2626371-4591-4f4c-a58a-5c8a5778ca85"
      },
      "source": [
        "print(data_tr.iloc[2:4])    # (2+1)행부터 4행까지 선택\n",
        "print(data_tr.iloc[:4])     # 처음부터 4행까지 선택\n",
        "print(data_tr.iloc[16997:]) # 16998행부터 끝까지 선택"
      ],
      "execution_count": 8,
      "outputs": [
        {
          "output_type": "stream",
          "text": [
            "   longitude  latitude  ...  median_income  median_house_value\n",
            "2    -114.56     33.69  ...         1.6509             85700.0\n",
            "3    -114.57     33.64  ...         3.1917             73400.0\n",
            "\n",
            "[2 rows x 9 columns]\n",
            "   longitude  latitude  ...  median_income  median_house_value\n",
            "0    -114.31     34.19  ...         1.4936             66900.0\n",
            "1    -114.47     34.40  ...         1.8200             80100.0\n",
            "2    -114.56     33.69  ...         1.6509             85700.0\n",
            "3    -114.57     33.64  ...         3.1917             73400.0\n",
            "\n",
            "[4 rows x 9 columns]\n",
            "       longitude  latitude  ...  median_income  median_house_value\n",
            "16997    -124.30     41.84  ...         3.0313            103600.0\n",
            "16998    -124.30     41.80  ...         1.9797             85800.0\n",
            "16999    -124.35     40.54  ...         3.0147             94600.0\n",
            "\n",
            "[3 rows x 9 columns]\n"
          ],
          "name": "stdout"
        }
      ]
    },
    {
      "cell_type": "code",
      "metadata": {
        "id": "oVLx2EnRO-Qq",
        "colab_type": "code",
        "colab": {
          "base_uri": "https://localhost:8080/",
          "height": 157
        },
        "outputId": "9241f6f0-4fc0-451c-a0db-2a453509ea7c"
      },
      "source": [
        "data_tr.head(3)"
      ],
      "execution_count": 14,
      "outputs": [
        {
          "output_type": "execute_result",
          "data": {
            "text/html": [
              "<div>\n",
              "<style scoped>\n",
              "    .dataframe tbody tr th:only-of-type {\n",
              "        vertical-align: middle;\n",
              "    }\n",
              "\n",
              "    .dataframe tbody tr th {\n",
              "        vertical-align: top;\n",
              "    }\n",
              "\n",
              "    .dataframe thead th {\n",
              "        text-align: right;\n",
              "    }\n",
              "</style>\n",
              "<table border=\"1\" class=\"dataframe\">\n",
              "  <thead>\n",
              "    <tr style=\"text-align: right;\">\n",
              "      <th></th>\n",
              "      <th>longitude</th>\n",
              "      <th>latitude</th>\n",
              "      <th>housing_median_age</th>\n",
              "      <th>total_rooms</th>\n",
              "      <th>total_bedrooms</th>\n",
              "      <th>population</th>\n",
              "      <th>households</th>\n",
              "      <th>median_income</th>\n",
              "      <th>median_house_value</th>\n",
              "    </tr>\n",
              "  </thead>\n",
              "  <tbody>\n",
              "    <tr>\n",
              "      <th>0</th>\n",
              "      <td>-114.31</td>\n",
              "      <td>34.19</td>\n",
              "      <td>15.0</td>\n",
              "      <td>5612.0</td>\n",
              "      <td>1283.0</td>\n",
              "      <td>1015.0</td>\n",
              "      <td>472.0</td>\n",
              "      <td>1.4936</td>\n",
              "      <td>66900.0</td>\n",
              "    </tr>\n",
              "    <tr>\n",
              "      <th>1</th>\n",
              "      <td>-114.47</td>\n",
              "      <td>34.40</td>\n",
              "      <td>19.0</td>\n",
              "      <td>7650.0</td>\n",
              "      <td>1901.0</td>\n",
              "      <td>1129.0</td>\n",
              "      <td>463.0</td>\n",
              "      <td>1.8200</td>\n",
              "      <td>80100.0</td>\n",
              "    </tr>\n",
              "    <tr>\n",
              "      <th>2</th>\n",
              "      <td>-114.56</td>\n",
              "      <td>33.69</td>\n",
              "      <td>17.0</td>\n",
              "      <td>720.0</td>\n",
              "      <td>174.0</td>\n",
              "      <td>333.0</td>\n",
              "      <td>117.0</td>\n",
              "      <td>1.6509</td>\n",
              "      <td>85700.0</td>\n",
              "    </tr>\n",
              "  </tbody>\n",
              "</table>\n",
              "</div>"
            ],
            "text/plain": [
              "   longitude  latitude  ...  median_income  median_house_value\n",
              "0    -114.31     34.19  ...         1.4936             66900.0\n",
              "1    -114.47     34.40  ...         1.8200             80100.0\n",
              "2    -114.56     33.69  ...         1.6509             85700.0\n",
              "\n",
              "[3 rows x 9 columns]"
            ]
          },
          "metadata": {
            "tags": []
          },
          "execution_count": 14
        }
      ]
    },
    {
      "cell_type": "code",
      "metadata": {
        "id": "mPNv9F75Oh1R",
        "colab_type": "code",
        "colab": {
          "base_uri": "https://localhost:8080/",
          "height": 141
        },
        "outputId": "6ce4d132-9c01-4447-f985-48780cbbbd85"
      },
      "source": [
        "# 열 선택(열 컬럼명으로 선택)\n",
        "print(\"latitude 컬럼명으로 선택\")\n",
        "col_sel = data_tr['latitude']\n",
        "print(col_sel.head())"
      ],
      "execution_count": 15,
      "outputs": [
        {
          "output_type": "stream",
          "text": [
            "latitude 컬럼명으로 선택\n",
            "0    34.19\n",
            "1    34.40\n",
            "2    33.69\n",
            "3    33.64\n",
            "4    33.57\n",
            "Name: latitude, dtype: float64\n"
          ],
          "name": "stdout"
        }
      ]
    },
    {
      "cell_type": "code",
      "metadata": {
        "id": "Wb1bdM_QIB9e",
        "colab_type": "code",
        "colab": {
          "base_uri": "https://localhost:8080/",
          "height": 141
        },
        "outputId": "919de00b-61f4-451d-e3c0-a87852bc232a"
      },
      "source": [
        "# 두번째 열 선택(열도 0부터 시작하므로 지정값의 +1열)\n",
        "print(\"두번째 열 선택\")\n",
        "col_sel = data_tr.iloc[:,1]\n",
        "print( col_sel.head() )"
      ],
      "execution_count": 18,
      "outputs": [
        {
          "output_type": "stream",
          "text": [
            "두번째 열 선택\n",
            "0    34.19\n",
            "1    34.40\n",
            "2    33.69\n",
            "3    33.64\n",
            "4    33.57\n",
            "Name: latitude, dtype: float64\n"
          ],
          "name": "stdout"
        }
      ]
    },
    {
      "cell_type": "code",
      "metadata": {
        "id": "Fx75mDk8OWmz",
        "colab_type": "code",
        "colab": {
          "base_uri": "https://localhost:8080/",
          "height": 141
        },
        "outputId": "bd25c069-0660-4363-9549-d0f56014e275"
      },
      "source": [
        "# 복수열 선택 : 3개 열 선택(컬럼명으로)\n",
        "print(\"컬럼명으로 선택_3개 컬럼\")\n",
        "column_name = ['latitude', 'total_rooms', 'population']\n",
        "row_sel = data_tr[column_name]\n",
        "print( row_sel.head() )"
      ],
      "execution_count": 22,
      "outputs": [
        {
          "output_type": "stream",
          "text": [
            "컬럼명으로 선택_3개 컬럼\n",
            "   latitude  total_rooms  population\n",
            "0     34.19       5612.0      1015.0\n",
            "1     34.40       7650.0      1129.0\n",
            "2     33.69        720.0       333.0\n",
            "3     33.64       1501.0       515.0\n",
            "4     33.57       1454.0       624.0\n"
          ],
          "name": "stdout"
        }
      ]
    },
    {
      "cell_type": "code",
      "metadata": {
        "id": "chU6JCVuOaKL",
        "colab_type": "code",
        "colab": {
          "base_uri": "https://localhost:8080/",
          "height": 141
        },
        "outputId": "a587de04-5eef-40ad-c675-ac040452abdc"
      },
      "source": [
        "# 복수열 선택 : 3개 열 선택(숫자 이용)\n",
        "print(\"컬럼명으로 선택_3개 컬럼\")\n",
        "row_sel = data_tr.iloc[:,[1,3,5]]\n",
        "print( row_sel.head() )"
      ],
      "execution_count": 23,
      "outputs": [
        {
          "output_type": "stream",
          "text": [
            "컬럼명으로 선택_3개 컬럼\n",
            "   latitude  total_rooms  population\n",
            "0     34.19       5612.0      1015.0\n",
            "1     34.40       7650.0      1129.0\n",
            "2     33.69        720.0       333.0\n",
            "3     33.64       1501.0       515.0\n",
            "4     33.57       1454.0       624.0\n"
          ],
          "name": "stdout"
        }
      ]
    },
    {
      "cell_type": "code",
      "metadata": {
        "id": "BCMngX9xX6cI",
        "colab_type": "code",
        "colab": {
          "base_uri": "https://localhost:8080/",
          "height": 141
        },
        "outputId": "6b7dd06e-cadb-4f40-a0fe-dfd9083d37c8"
      },
      "source": [
        "# 일부 데이터 선택 (iloc 를 이용 행과 열에 접근)\n",
        "# 1~10행, longitude, latitude, total_rooms, population에 접근 \n",
        "print(\"데이터의 일부 가져오기\")\n",
        "dat_part = data_tr.iloc[0:10,[0,1,3,5]]\n",
        "print( dat_part.head() )"
      ],
      "execution_count": 42,
      "outputs": [
        {
          "output_type": "stream",
          "text": [
            "데이터의 일부 가져오기\n",
            "   longitude  latitude  total_rooms  population\n",
            "0    -114.31     34.19       5612.0      1015.0\n",
            "1    -114.47     34.40       7650.0      1129.0\n",
            "2    -114.56     33.69        720.0       333.0\n",
            "3    -114.57     33.64       1501.0       515.0\n",
            "4    -114.57     33.57       1454.0       624.0\n"
          ],
          "name": "stdout"
        }
      ]
    },
    {
      "cell_type": "code",
      "metadata": {
        "id": "vpezzcQ6eRce",
        "colab_type": "code",
        "colab": {}
      },
      "source": [
        "import folium"
      ],
      "execution_count": 0,
      "outputs": []
    },
    {
      "cell_type": "code",
      "metadata": {
        "id": "IhxfskX0ht2F",
        "colab_type": "code",
        "colab": {
          "base_uri": "https://localhost:8080/",
          "height": 663
        },
        "outputId": "066d6acd-657d-43b7-f295-4a304c1abe4b"
      },
      "source": [
        "lat_m = dat_part['latitude'].mean()  # 위도 위치의 평균\n",
        "log_m = dat_part['longitude'].mean() # 경도 위치의 평균\n",
        "rooms_m = dat_part['total_rooms'].mean() # 총 방수의 평균\n",
        "pop_m = dat_part['population'].mean() # 인구의 평균\n",
        "\n",
        "print(\"위도, 경도\", lat_m , log_m )\n",
        "print(\"방, 인구(평균\", rooms_m , pop_m )\n",
        "\n",
        "# 지도 중심위치 및 확대\n",
        "map1 = folium.Map(location=[lat_m, log_m], zoom_start=7)\n",
        "# Marker 설명(집, 인구) \n",
        "des = \"방\" + str(rooms_m) + \"<br>\" + \"인구\" + str(pop_m) \n",
        "\n",
        "folium.Marker([lat_m, log_m], popup=des).add_to(map1) # 마커 추가\n",
        "map1"
      ],
      "execution_count": 49,
      "outputs": [
        {
          "output_type": "stream",
          "text": [
            "위도, 경도 34.0 -114.542\n",
            "방, 인구(평균 2832.9 1042.4\n"
          ],
          "name": "stdout"
        },
        {
          "output_type": "execute_result",
          "data": {
            "text/html": [
              "<div style=\"width:100%;\"><div style=\"position:relative;width:100%;height:0;padding-bottom:60%;\"><iframe src=\"data:text/html;charset=utf-8;base64,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\" style=\"position:absolute;width:100%;height:100%;left:0;top:0;border:none !important;\" allowfullscreen webkitallowfullscreen mozallowfullscreen></iframe></div></div>"
            ],
            "text/plain": [
              "<folium.folium.Map at 0x7fc08b91ca90>"
            ]
          },
          "metadata": {
            "tags": []
          },
          "execution_count": 49
        }
      ]
    },
    {
      "cell_type": "code",
      "metadata": {
        "id": "quT99OKLdV_x",
        "colab_type": "code",
        "colab": {
          "base_uri": "https://localhost:8080/",
          "height": 34
        },
        "outputId": "6da3183c-1b4d-4b74-c0bd-532602736471"
      },
      "source": [
        "## 컬럼명 변경\n",
        "dat_part.columns = ['long', 'lat', 'tot_rooms', 'pop']\n",
        "dat_part.columns"
      ],
      "execution_count": 67,
      "outputs": [
        {
          "output_type": "execute_result",
          "data": {
            "text/plain": [
              "Index(['long', 'lat', 'tot_rooms', 'pop'], dtype='object')"
            ]
          },
          "metadata": {
            "tags": []
          },
          "execution_count": 67
        }
      ]
    },
    {
      "cell_type": "code",
      "metadata": {
        "id": "QsaYOrCmr0Kn",
        "colab_type": "code",
        "colab": {
          "base_uri": "https://localhost:8080/",
          "height": 287
        },
        "outputId": "e57f72a7-29ab-4a45-9ba1-cdaf3e8222ac"
      },
      "source": [
        "df = dat_part.copy()\n",
        "df.describe()"
      ],
      "execution_count": 71,
      "outputs": [
        {
          "output_type": "execute_result",
          "data": {
            "text/html": [
              "<div>\n",
              "<style scoped>\n",
              "    .dataframe tbody tr th:only-of-type {\n",
              "        vertical-align: middle;\n",
              "    }\n",
              "\n",
              "    .dataframe tbody tr th {\n",
              "        vertical-align: top;\n",
              "    }\n",
              "\n",
              "    .dataframe thead th {\n",
              "        text-align: right;\n",
              "    }\n",
              "</style>\n",
              "<table border=\"1\" class=\"dataframe\">\n",
              "  <thead>\n",
              "    <tr style=\"text-align: right;\">\n",
              "      <th></th>\n",
              "      <th>long</th>\n",
              "      <th>lat</th>\n",
              "      <th>tot_rooms</th>\n",
              "      <th>pop</th>\n",
              "    </tr>\n",
              "  </thead>\n",
              "  <tbody>\n",
              "    <tr>\n",
              "      <th>count</th>\n",
              "      <td>10.000000</td>\n",
              "      <td>10.000000</td>\n",
              "      <td>10.000000</td>\n",
              "      <td>10.000000</td>\n",
              "    </tr>\n",
              "    <tr>\n",
              "      <th>mean</th>\n",
              "      <td>-114.542000</td>\n",
              "      <td>34.000000</td>\n",
              "      <td>2832.900000</td>\n",
              "      <td>1042.400000</td>\n",
              "    </tr>\n",
              "    <tr>\n",
              "      <th>std</th>\n",
              "      <td>0.089294</td>\n",
              "      <td>0.519145</td>\n",
              "      <td>2377.174534</td>\n",
              "      <td>858.024242</td>\n",
              "    </tr>\n",
              "    <tr>\n",
              "      <th>min</th>\n",
              "      <td>-114.600000</td>\n",
              "      <td>33.570000</td>\n",
              "      <td>720.000000</td>\n",
              "      <td>333.000000</td>\n",
              "    </tr>\n",
              "    <tr>\n",
              "      <th>25%</th>\n",
              "      <td>-114.587500</td>\n",
              "      <td>33.615000</td>\n",
              "      <td>1403.750000</td>\n",
              "      <td>542.250000</td>\n",
              "    </tr>\n",
              "    <tr>\n",
              "      <th>50%</th>\n",
              "      <td>-114.575000</td>\n",
              "      <td>33.665000</td>\n",
              "      <td>1499.000000</td>\n",
              "      <td>729.000000</td>\n",
              "    </tr>\n",
              "    <tr>\n",
              "      <th>75%</th>\n",
              "      <td>-114.562500</td>\n",
              "      <td>34.347500</td>\n",
              "      <td>4318.500000</td>\n",
              "      <td>1100.500000</td>\n",
              "    </tr>\n",
              "    <tr>\n",
              "      <th>max</th>\n",
              "      <td>-114.310000</td>\n",
              "      <td>34.830000</td>\n",
              "      <td>7650.000000</td>\n",
              "      <td>3134.000000</td>\n",
              "    </tr>\n",
              "  </tbody>\n",
              "</table>\n",
              "</div>"
            ],
            "text/plain": [
              "             long        lat    tot_rooms          pop\n",
              "count   10.000000  10.000000    10.000000    10.000000\n",
              "mean  -114.542000  34.000000  2832.900000  1042.400000\n",
              "std      0.089294   0.519145  2377.174534   858.024242\n",
              "min   -114.600000  33.570000   720.000000   333.000000\n",
              "25%   -114.587500  33.615000  1403.750000   542.250000\n",
              "50%   -114.575000  33.665000  1499.000000   729.000000\n",
              "75%   -114.562500  34.347500  4318.500000  1100.500000\n",
              "max   -114.310000  34.830000  7650.000000  3134.000000"
            ]
          },
          "metadata": {
            "tags": []
          },
          "execution_count": 71
        }
      ]
    },
    {
      "cell_type": "code",
      "metadata": {
        "id": "ISkxSHNsdycx",
        "colab_type": "code",
        "colab": {}
      },
      "source": [
        "# 여러개의 데이터 표시\n",
        "# 데이터 셋 복사 및 컬럼명 변경\n",
        "df = dat_part.copy()\n",
        "df.columns = ['long', 'lat', 'tot_rooms', 'pop']\n",
        "df.columns\n",
        "\n",
        "map2 = folium.Map(location=[lat_m, log_m], zoom_start=9)\n",
        "\n",
        "# 추후 색 지정을 위한 함수\n",
        "def color(pop_num): \n",
        "    if pop_num in range(0,1000): \n",
        "        col = 'green'\n",
        "    elif pop_num in range(1001,1999): \n",
        "        col = 'blue'\n",
        "    elif pop_num in range(2000,2999): \n",
        "        col = 'orange'\n",
        "    else: \n",
        "        col='red'\n",
        "    return col"
      ],
      "execution_count": 0,
      "outputs": []
    },
    {
      "cell_type": "code",
      "metadata": {
        "id": "m6Tmh1NPoFo1",
        "colab_type": "code",
        "colab": {
          "base_uri": "https://localhost:8080/",
          "height": 645
        },
        "outputId": "66b1ba88-da7c-4dc2-a0a0-5cb9789ab9eb"
      },
      "source": [
        "for lat,lan,room,pop in zip(df['lat'],df['long'],df['tot_rooms'],df['pop']): \n",
        "    # as a list as an argument \n",
        "    folium.Marker(location=[lat,lan],popup = \"방\" + str(room), \n",
        "                  icon= folium.Icon(color=color(pop), \n",
        "                  icon_color='yellow',icon = 'cloud')).add_to(map2) \n",
        "\n",
        "\n",
        "# Save the file created above \n",
        "print(map2.save('test7.html'))\n",
        "map2"
      ],
      "execution_count": 81,
      "outputs": [
        {
          "output_type": "stream",
          "text": [
            "None\n"
          ],
          "name": "stdout"
        },
        {
          "output_type": "execute_result",
          "data": {
            "text/html": [
              "<div style=\"width:100%;\"><div style=\"position:relative;width:100%;height:0;padding-bottom:60%;\"><iframe src=\"data:text/html;charset=utf-8;base64,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\" style=\"position:absolute;width:100%;height:100%;left:0;top:0;border:none !important;\" allowfullscreen webkitallowfullscreen mozallowfullscreen></iframe></div></div>"
            ],
            "text/plain": [
              "<folium.folium.Map at 0x7fc08b77f6d8>"
            ]
          },
          "metadata": {
            "tags": []
          },
          "execution_count": 81
        }
      ]
    },
    {
      "cell_type": "code",
      "metadata": {
        "id": "VDGWc15EtvzD",
        "colab_type": "code",
        "colab": {}
      },
      "source": [
        ""
      ],
      "execution_count": 0,
      "outputs": []
    }
  ]
}