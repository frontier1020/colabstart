{
  "nbformat": 4,
  "nbformat_minor": 0,
  "metadata": {
    "colab": {
      "name": "ch07_pandas.ipynb",
      "provenance": [],
      "authorship_tag": "ABX9TyNQNsMgXBR6Yj/cZSbCJK6W",
      "include_colab_link": true
    },
    "kernelspec": {
      "name": "python3",
      "display_name": "Python 3"
    }
  },
  "cells": [
    {
      "cell_type": "markdown",
      "metadata": {
        "id": "view-in-github",
        "colab_type": "text"
      },
      "source": [
        "<a href=\"https://colab.research.google.com/github/frontier1020/colabstart/blob/master/ch07_pandas.ipynb\" target=\"_parent\"><img src=\"https://colab.research.google.com/assets/colab-badge.svg\" alt=\"Open In Colab\"/></a>"
      ]
    },
    {
      "cell_type": "code",
      "metadata": {
        "id": "1EGAvMalMHGY",
        "colab_type": "code",
        "colab": {
          "base_uri": "https://localhost:8080/",
          "height": 53
        },
        "outputId": "8acdc893-23dc-46ef-d5f1-c0701d7bb15c"
      },
      "source": [
        "import pandas as pd\n",
        "data_tr = pd.read_csv(\"sample_data/california_housing_train.csv\")\n",
        "data_test = pd.read_csv(\"sample_data/california_housing_test.csv\")\n",
        "\n",
        "print(\"캘리포니아 데이터 행열(train) :\", data_tr.shape)\n",
        "print(\"캘리포니아 데이터 행열(test) :\", data_test.shape)"
      ],
      "execution_count": 2,
      "outputs": [
        {
          "output_type": "stream",
          "text": [
            "캘리포니아 데이터 행열(train) : (17000, 9)\n",
            "캘리포니아 데이터 행열(test) : (3000, 9)\n"
          ],
          "name": "stdout"
        }
      ]
    },
    {
      "cell_type": "code",
      "metadata": {
        "id": "cqtjVVtql-Oa",
        "colab_type": "code",
        "colab": {
          "base_uri": "https://localhost:8080/",
          "height": 476
        },
        "outputId": "77f1a592-2a6e-40de-b9f7-02a8410a9e11"
      },
      "source": [
        "print(data_tr.head())     # 5행만 보기\n",
        "print(data_test.head(3)) # 3행만 보기\n",
        "# tail를 이용하여 뒤에 5행을 볼 수 있음.\n",
        "data_tr.tail()     # 뒤에서 5행만 보기"
      ],
      "execution_count": 4,
      "outputs": [
        {
          "output_type": "stream",
          "text": [
            "   longitude  latitude  ...  median_income  median_house_value\n",
            "0    -114.31     34.19  ...         1.4936             66900.0\n",
            "1    -114.47     34.40  ...         1.8200             80100.0\n",
            "2    -114.56     33.69  ...         1.6509             85700.0\n",
            "3    -114.57     33.64  ...         3.1917             73400.0\n",
            "4    -114.57     33.57  ...         1.9250             65500.0\n",
            "\n",
            "[5 rows x 9 columns]\n",
            "   longitude  latitude  ...  median_income  median_house_value\n",
            "0    -122.05     37.37  ...         6.6085            344700.0\n",
            "1    -118.30     34.26  ...         3.5990            176500.0\n",
            "2    -117.81     33.78  ...         5.7934            270500.0\n",
            "\n",
            "[3 rows x 9 columns]\n"
          ],
          "name": "stdout"
        },
        {
          "output_type": "execute_result",
          "data": {
            "text/html": [
              "<div>\n",
              "<style scoped>\n",
              "    .dataframe tbody tr th:only-of-type {\n",
              "        vertical-align: middle;\n",
              "    }\n",
              "\n",
              "    .dataframe tbody tr th {\n",
              "        vertical-align: top;\n",
              "    }\n",
              "\n",
              "    .dataframe thead th {\n",
              "        text-align: right;\n",
              "    }\n",
              "</style>\n",
              "<table border=\"1\" class=\"dataframe\">\n",
              "  <thead>\n",
              "    <tr style=\"text-align: right;\">\n",
              "      <th></th>\n",
              "      <th>longitude</th>\n",
              "      <th>latitude</th>\n",
              "      <th>housing_median_age</th>\n",
              "      <th>total_rooms</th>\n",
              "      <th>total_bedrooms</th>\n",
              "      <th>population</th>\n",
              "      <th>households</th>\n",
              "      <th>median_income</th>\n",
              "      <th>median_house_value</th>\n",
              "    </tr>\n",
              "  </thead>\n",
              "  <tbody>\n",
              "    <tr>\n",
              "      <th>16995</th>\n",
              "      <td>-124.26</td>\n",
              "      <td>40.58</td>\n",
              "      <td>52.0</td>\n",
              "      <td>2217.0</td>\n",
              "      <td>394.0</td>\n",
              "      <td>907.0</td>\n",
              "      <td>369.0</td>\n",
              "      <td>2.3571</td>\n",
              "      <td>111400.0</td>\n",
              "    </tr>\n",
              "    <tr>\n",
              "      <th>16996</th>\n",
              "      <td>-124.27</td>\n",
              "      <td>40.69</td>\n",
              "      <td>36.0</td>\n",
              "      <td>2349.0</td>\n",
              "      <td>528.0</td>\n",
              "      <td>1194.0</td>\n",
              "      <td>465.0</td>\n",
              "      <td>2.5179</td>\n",
              "      <td>79000.0</td>\n",
              "    </tr>\n",
              "    <tr>\n",
              "      <th>16997</th>\n",
              "      <td>-124.30</td>\n",
              "      <td>41.84</td>\n",
              "      <td>17.0</td>\n",
              "      <td>2677.0</td>\n",
              "      <td>531.0</td>\n",
              "      <td>1244.0</td>\n",
              "      <td>456.0</td>\n",
              "      <td>3.0313</td>\n",
              "      <td>103600.0</td>\n",
              "    </tr>\n",
              "    <tr>\n",
              "      <th>16998</th>\n",
              "      <td>-124.30</td>\n",
              "      <td>41.80</td>\n",
              "      <td>19.0</td>\n",
              "      <td>2672.0</td>\n",
              "      <td>552.0</td>\n",
              "      <td>1298.0</td>\n",
              "      <td>478.0</td>\n",
              "      <td>1.9797</td>\n",
              "      <td>85800.0</td>\n",
              "    </tr>\n",
              "    <tr>\n",
              "      <th>16999</th>\n",
              "      <td>-124.35</td>\n",
              "      <td>40.54</td>\n",
              "      <td>52.0</td>\n",
              "      <td>1820.0</td>\n",
              "      <td>300.0</td>\n",
              "      <td>806.0</td>\n",
              "      <td>270.0</td>\n",
              "      <td>3.0147</td>\n",
              "      <td>94600.0</td>\n",
              "    </tr>\n",
              "  </tbody>\n",
              "</table>\n",
              "</div>"
            ],
            "text/plain": [
              "       longitude  latitude  ...  median_income  median_house_value\n",
              "16995    -124.26     40.58  ...         2.3571            111400.0\n",
              "16996    -124.27     40.69  ...         2.5179             79000.0\n",
              "16997    -124.30     41.84  ...         3.0313            103600.0\n",
              "16998    -124.30     41.80  ...         1.9797             85800.0\n",
              "16999    -124.35     40.54  ...         3.0147             94600.0\n",
              "\n",
              "[5 rows x 9 columns]"
            ]
          },
          "metadata": {
            "tags": []
          },
          "execution_count": 4
        }
      ]
    },
    {
      "cell_type": "code",
      "metadata": {
        "id": "HGdxlhPuna1c",
        "colab_type": "code",
        "colab": {}
      },
      "source": [
        "### 구글 콜랩의 데이터 셋을 이용해서 csv, excel파일을 만들자.\n",
        "data_tr.to_csv(\"data.csv\", index=False)\n",
        "data_tr.to_excel(\"data.xlsx\", index=True)\n",
        "\n",
        "### 파일을 불러와 보자.\n",
        "excel_data = pd.read_excel(\"data.xlsx\")\n",
        "csv_data = pd.read_csv(\"data.csv\")"
      ],
      "execution_count": 0,
      "outputs": []
    },
    {
      "cell_type": "code",
      "metadata": {
        "id": "cy96CJFEqZnS",
        "colab_type": "code",
        "colab": {
          "base_uri": "https://localhost:8080/",
          "height": 35
        },
        "outputId": "93342e89-2eb0-4d50-c207-092ecbd1f076"
      },
      "source": [
        "### 파일 생성 확인(리눅스 명령 이용)\n",
        "!ls"
      ],
      "execution_count": 8,
      "outputs": [
        {
          "output_type": "stream",
          "text": [
            "data.csv  data.xlsx  sample_data\n"
          ],
          "name": "stdout"
        }
      ]
    },
    {
      "cell_type": "code",
      "metadata": {
        "id": "WxtEI_OkrjpW",
        "colab_type": "code",
        "colab": {
          "base_uri": "https://localhost:8080/",
          "height": 241
        },
        "outputId": "84482378-efd1-4683-829a-05b7fcaf8dd8"
      },
      "source": [
        "excel_data.head()"
      ],
      "execution_count": 9,
      "outputs": [
        {
          "output_type": "execute_result",
          "data": {
            "text/html": [
              "<div>\n",
              "<style scoped>\n",
              "    .dataframe tbody tr th:only-of-type {\n",
              "        vertical-align: middle;\n",
              "    }\n",
              "\n",
              "    .dataframe tbody tr th {\n",
              "        vertical-align: top;\n",
              "    }\n",
              "\n",
              "    .dataframe thead th {\n",
              "        text-align: right;\n",
              "    }\n",
              "</style>\n",
              "<table border=\"1\" class=\"dataframe\">\n",
              "  <thead>\n",
              "    <tr style=\"text-align: right;\">\n",
              "      <th></th>\n",
              "      <th>Unnamed: 0</th>\n",
              "      <th>longitude</th>\n",
              "      <th>latitude</th>\n",
              "      <th>housing_median_age</th>\n",
              "      <th>total_rooms</th>\n",
              "      <th>total_bedrooms</th>\n",
              "      <th>population</th>\n",
              "      <th>households</th>\n",
              "      <th>median_income</th>\n",
              "      <th>median_house_value</th>\n",
              "    </tr>\n",
              "  </thead>\n",
              "  <tbody>\n",
              "    <tr>\n",
              "      <th>0</th>\n",
              "      <td>0</td>\n",
              "      <td>-114.31</td>\n",
              "      <td>34.19</td>\n",
              "      <td>15</td>\n",
              "      <td>5612</td>\n",
              "      <td>1283</td>\n",
              "      <td>1015</td>\n",
              "      <td>472</td>\n",
              "      <td>1.4936</td>\n",
              "      <td>66900</td>\n",
              "    </tr>\n",
              "    <tr>\n",
              "      <th>1</th>\n",
              "      <td>1</td>\n",
              "      <td>-114.47</td>\n",
              "      <td>34.40</td>\n",
              "      <td>19</td>\n",
              "      <td>7650</td>\n",
              "      <td>1901</td>\n",
              "      <td>1129</td>\n",
              "      <td>463</td>\n",
              "      <td>1.8200</td>\n",
              "      <td>80100</td>\n",
              "    </tr>\n",
              "    <tr>\n",
              "      <th>2</th>\n",
              "      <td>2</td>\n",
              "      <td>-114.56</td>\n",
              "      <td>33.69</td>\n",
              "      <td>17</td>\n",
              "      <td>720</td>\n",
              "      <td>174</td>\n",
              "      <td>333</td>\n",
              "      <td>117</td>\n",
              "      <td>1.6509</td>\n",
              "      <td>85700</td>\n",
              "    </tr>\n",
              "    <tr>\n",
              "      <th>3</th>\n",
              "      <td>3</td>\n",
              "      <td>-114.57</td>\n",
              "      <td>33.64</td>\n",
              "      <td>14</td>\n",
              "      <td>1501</td>\n",
              "      <td>337</td>\n",
              "      <td>515</td>\n",
              "      <td>226</td>\n",
              "      <td>3.1917</td>\n",
              "      <td>73400</td>\n",
              "    </tr>\n",
              "    <tr>\n",
              "      <th>4</th>\n",
              "      <td>4</td>\n",
              "      <td>-114.57</td>\n",
              "      <td>33.57</td>\n",
              "      <td>20</td>\n",
              "      <td>1454</td>\n",
              "      <td>326</td>\n",
              "      <td>624</td>\n",
              "      <td>262</td>\n",
              "      <td>1.9250</td>\n",
              "      <td>65500</td>\n",
              "    </tr>\n",
              "  </tbody>\n",
              "</table>\n",
              "</div>"
            ],
            "text/plain": [
              "   Unnamed: 0  longitude  ...  median_income  median_house_value\n",
              "0           0    -114.31  ...         1.4936               66900\n",
              "1           1    -114.47  ...         1.8200               80100\n",
              "2           2    -114.56  ...         1.6509               85700\n",
              "3           3    -114.57  ...         3.1917               73400\n",
              "4           4    -114.57  ...         1.9250               65500\n",
              "\n",
              "[5 rows x 10 columns]"
            ]
          },
          "metadata": {
            "tags": []
          },
          "execution_count": 9
        }
      ]
    },
    {
      "cell_type": "code",
      "metadata": {
        "id": "5k56w9J7sJh4",
        "colab_type": "code",
        "colab": {
          "base_uri": "https://localhost:8080/",
          "height": 224
        },
        "outputId": "5aec92da-1e74-4a05-b793-4aa6b1b5515a"
      },
      "source": [
        "csv_data.head()"
      ],
      "execution_count": 10,
      "outputs": [
        {
          "output_type": "execute_result",
          "data": {
            "text/html": [
              "<div>\n",
              "<style scoped>\n",
              "    .dataframe tbody tr th:only-of-type {\n",
              "        vertical-align: middle;\n",
              "    }\n",
              "\n",
              "    .dataframe tbody tr th {\n",
              "        vertical-align: top;\n",
              "    }\n",
              "\n",
              "    .dataframe thead th {\n",
              "        text-align: right;\n",
              "    }\n",
              "</style>\n",
              "<table border=\"1\" class=\"dataframe\">\n",
              "  <thead>\n",
              "    <tr style=\"text-align: right;\">\n",
              "      <th></th>\n",
              "      <th>longitude</th>\n",
              "      <th>latitude</th>\n",
              "      <th>housing_median_age</th>\n",
              "      <th>total_rooms</th>\n",
              "      <th>total_bedrooms</th>\n",
              "      <th>population</th>\n",
              "      <th>households</th>\n",
              "      <th>median_income</th>\n",
              "      <th>median_house_value</th>\n",
              "    </tr>\n",
              "  </thead>\n",
              "  <tbody>\n",
              "    <tr>\n",
              "      <th>0</th>\n",
              "      <td>-114.31</td>\n",
              "      <td>34.19</td>\n",
              "      <td>15.0</td>\n",
              "      <td>5612.0</td>\n",
              "      <td>1283.0</td>\n",
              "      <td>1015.0</td>\n",
              "      <td>472.0</td>\n",
              "      <td>1.4936</td>\n",
              "      <td>66900.0</td>\n",
              "    </tr>\n",
              "    <tr>\n",
              "      <th>1</th>\n",
              "      <td>-114.47</td>\n",
              "      <td>34.40</td>\n",
              "      <td>19.0</td>\n",
              "      <td>7650.0</td>\n",
              "      <td>1901.0</td>\n",
              "      <td>1129.0</td>\n",
              "      <td>463.0</td>\n",
              "      <td>1.8200</td>\n",
              "      <td>80100.0</td>\n",
              "    </tr>\n",
              "    <tr>\n",
              "      <th>2</th>\n",
              "      <td>-114.56</td>\n",
              "      <td>33.69</td>\n",
              "      <td>17.0</td>\n",
              "      <td>720.0</td>\n",
              "      <td>174.0</td>\n",
              "      <td>333.0</td>\n",
              "      <td>117.0</td>\n",
              "      <td>1.6509</td>\n",
              "      <td>85700.0</td>\n",
              "    </tr>\n",
              "    <tr>\n",
              "      <th>3</th>\n",
              "      <td>-114.57</td>\n",
              "      <td>33.64</td>\n",
              "      <td>14.0</td>\n",
              "      <td>1501.0</td>\n",
              "      <td>337.0</td>\n",
              "      <td>515.0</td>\n",
              "      <td>226.0</td>\n",
              "      <td>3.1917</td>\n",
              "      <td>73400.0</td>\n",
              "    </tr>\n",
              "    <tr>\n",
              "      <th>4</th>\n",
              "      <td>-114.57</td>\n",
              "      <td>33.57</td>\n",
              "      <td>20.0</td>\n",
              "      <td>1454.0</td>\n",
              "      <td>326.0</td>\n",
              "      <td>624.0</td>\n",
              "      <td>262.0</td>\n",
              "      <td>1.9250</td>\n",
              "      <td>65500.0</td>\n",
              "    </tr>\n",
              "  </tbody>\n",
              "</table>\n",
              "</div>"
            ],
            "text/plain": [
              "   longitude  latitude  ...  median_income  median_house_value\n",
              "0    -114.31     34.19  ...         1.4936             66900.0\n",
              "1    -114.47     34.40  ...         1.8200             80100.0\n",
              "2    -114.56     33.69  ...         1.6509             85700.0\n",
              "3    -114.57     33.64  ...         3.1917             73400.0\n",
              "4    -114.57     33.57  ...         1.9250             65500.0\n",
              "\n",
              "[5 rows x 9 columns]"
            ]
          },
          "metadata": {
            "tags": []
          },
          "execution_count": 10
        }
      ]
    },
    {
      "cell_type": "code",
      "metadata": {
        "id": "UEr0QS0fsKn8",
        "colab_type": "code",
        "colab": {
          "base_uri": "https://localhost:8080/",
          "height": 161
        },
        "outputId": "8cf2b244-a439-466f-b2de-c045be664994"
      },
      "source": [
        "print(\"데이터 열의 제목(train) : \", data_tr.columns) \n",
        "print(\"데이터 열의 제목(test) : \", data_test.columns) "
      ],
      "execution_count": 11,
      "outputs": [
        {
          "output_type": "stream",
          "text": [
            "데이터 열의 제목(train) :  Index(['longitude', 'latitude', 'housing_median_age', 'total_rooms',\n",
            "       'total_bedrooms', 'population', 'households', 'median_income',\n",
            "       'median_house_value'],\n",
            "      dtype='object')\n",
            "데이터 열의 제목(test) :  Index(['longitude', 'latitude', 'housing_median_age', 'total_rooms',\n",
            "       'total_bedrooms', 'population', 'households', 'median_income',\n",
            "       'median_house_value'],\n",
            "      dtype='object')\n"
          ],
          "name": "stdout"
        }
      ]
    },
    {
      "cell_type": "code",
      "metadata": {
        "id": "BhFGhqPPuDFE",
        "colab_type": "code",
        "colab": {
          "base_uri": "https://localhost:8080/",
          "height": 287
        },
        "outputId": "37ffbaba-7e5f-4023-fa8d-8743acd59210"
      },
      "source": [
        "print(data_tr.info() ) "
      ],
      "execution_count": 13,
      "outputs": [
        {
          "output_type": "stream",
          "text": [
            "<class 'pandas.core.frame.DataFrame'>\n",
            "RangeIndex: 17000 entries, 0 to 16999\n",
            "Data columns (total 9 columns):\n",
            "longitude             17000 non-null float64\n",
            "latitude              17000 non-null float64\n",
            "housing_median_age    17000 non-null float64\n",
            "total_rooms           17000 non-null float64\n",
            "total_bedrooms        17000 non-null float64\n",
            "population            17000 non-null float64\n",
            "households            17000 non-null float64\n",
            "median_income         17000 non-null float64\n",
            "median_house_value    17000 non-null float64\n",
            "dtypes: float64(9)\n",
            "memory usage: 1.2 MB\n",
            "None\n"
          ],
          "name": "stdout"
        }
      ]
    },
    {
      "cell_type": "code",
      "metadata": {
        "id": "kQs4TM7FwKnW",
        "colab_type": "code",
        "colab": {
          "base_uri": "https://localhost:8080/",
          "height": 297
        },
        "outputId": "f2e17705-d21a-49a4-ac22-3756107002f1"
      },
      "source": [
        "print(data_test.info() ) "
      ],
      "execution_count": 14,
      "outputs": [
        {
          "output_type": "stream",
          "text": [
            "<class 'pandas.core.frame.DataFrame'>\n",
            "RangeIndex: 3000 entries, 0 to 2999\n",
            "Data columns (total 9 columns):\n",
            "longitude             3000 non-null float64\n",
            "latitude              3000 non-null float64\n",
            "housing_median_age    3000 non-null float64\n",
            "total_rooms           3000 non-null float64\n",
            "total_bedrooms        3000 non-null float64\n",
            "population            3000 non-null float64\n",
            "households            3000 non-null float64\n",
            "median_income         3000 non-null float64\n",
            "median_house_value    3000 non-null float64\n",
            "dtypes: float64(9)\n",
            "memory usage: 211.1 KB\n",
            "None\n"
          ],
          "name": "stdout"
        }
      ]
    },
    {
      "cell_type": "code",
      "metadata": {
        "id": "RyMm50dswNye",
        "colab_type": "code",
        "colab": {
          "base_uri": "https://localhost:8080/",
          "height": 305
        },
        "outputId": "8ecac940-eb16-43b2-e0f9-9525ce013337"
      },
      "source": [
        "import numpy as np\n",
        "data_tr.iloc[0,1] = np.nan\n",
        "data_test.iloc[2,1:8] = np.nan\n",
        "\n",
        "print(data_tr.head() ) \n",
        "print(data_test.head() ) "
      ],
      "execution_count": 18,
      "outputs": [
        {
          "output_type": "stream",
          "text": [
            "   longitude  latitude  ...  median_income  median_house_value\n",
            "0    -114.31       NaN  ...         1.4936             66900.0\n",
            "1    -114.47     34.40  ...         1.8200             80100.0\n",
            "2    -114.56     33.69  ...         1.6509             85700.0\n",
            "3    -114.57     33.64  ...         3.1917             73400.0\n",
            "4    -114.57     33.57  ...         1.9250             65500.0\n",
            "\n",
            "[5 rows x 9 columns]\n",
            "   longitude  latitude  ...  median_income  median_house_value\n",
            "0    -122.05     37.37  ...         6.6085            344700.0\n",
            "1    -118.30     34.26  ...         3.5990            176500.0\n",
            "2    -117.81       NaN  ...            NaN            270500.0\n",
            "3    -118.36     33.82  ...         6.1359            330000.0\n",
            "4    -119.67     36.33  ...         2.9375             81700.0\n",
            "\n",
            "[5 rows x 9 columns]\n"
          ],
          "name": "stdout"
        }
      ]
    },
    {
      "cell_type": "code",
      "metadata": {
        "id": "97xBDHRo0LQ3",
        "colab_type": "code",
        "colab": {
          "base_uri": "https://localhost:8080/",
          "height": 557
        },
        "outputId": "c9b50447-d49f-47ac-df3a-113a4bd61c47"
      },
      "source": [
        "print(\"train 데이터 셋 : \", data_tr.info() ) \n",
        "print(\"test 데이터 셋 : \", data_test.info() ) "
      ],
      "execution_count": 19,
      "outputs": [
        {
          "output_type": "stream",
          "text": [
            "<class 'pandas.core.frame.DataFrame'>\n",
            "RangeIndex: 17000 entries, 0 to 16999\n",
            "Data columns (total 9 columns):\n",
            "longitude             17000 non-null float64\n",
            "latitude              16999 non-null float64\n",
            "housing_median_age    16999 non-null float64\n",
            "total_rooms           17000 non-null float64\n",
            "total_bedrooms        17000 non-null float64\n",
            "population            17000 non-null float64\n",
            "households            17000 non-null float64\n",
            "median_income         17000 non-null float64\n",
            "median_house_value    17000 non-null float64\n",
            "dtypes: float64(9)\n",
            "memory usage: 1.2 MB\n",
            "train 데이터 셋 :  None\n",
            "<class 'pandas.core.frame.DataFrame'>\n",
            "RangeIndex: 3000 entries, 0 to 2999\n",
            "Data columns (total 9 columns):\n",
            "longitude             3000 non-null float64\n",
            "latitude              2999 non-null float64\n",
            "housing_median_age    2998 non-null float64\n",
            "total_rooms           2998 non-null float64\n",
            "total_bedrooms        2998 non-null float64\n",
            "population            2999 non-null float64\n",
            "households            2999 non-null float64\n",
            "median_income         2999 non-null float64\n",
            "median_house_value    3000 non-null float64\n",
            "dtypes: float64(9)\n",
            "memory usage: 211.1 KB\n",
            "test 데이터 셋 :  None\n"
          ],
          "name": "stdout"
        }
      ]
    },
    {
      "cell_type": "code",
      "metadata": {
        "id": "PhqAa1bG1l5w",
        "colab_type": "code",
        "colab": {}
      },
      "source": [
        ""
      ],
      "execution_count": 0,
      "outputs": []
    }
  ]
}