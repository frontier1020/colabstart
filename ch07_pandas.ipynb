{
  "nbformat": 4,
  "nbformat_minor": 0,
  "metadata": {
    "colab": {
      "name": "ch07_pandas.ipynb",
      "provenance": [],
      "authorship_tag": "ABX9TyN8eXw+c9HH5lCHtWnYD5Xr",
      "include_colab_link": true
    },
    "kernelspec": {
      "name": "python3",
      "display_name": "Python 3"
    }
  },
  "cells": [
    {
      "cell_type": "markdown",
      "metadata": {
        "id": "view-in-github",
        "colab_type": "text"
      },
      "source": [
        "<a href=\"https://colab.research.google.com/github/frontier1020/colabstart/blob/master/ch07_pandas.ipynb\" target=\"_parent\"><img src=\"https://colab.research.google.com/assets/colab-badge.svg\" alt=\"Open In Colab\"/></a>"
      ]
    },
    {
      "cell_type": "markdown",
      "metadata": {
        "id": "5B7lasHenfgn",
        "colab_type": "text"
      },
      "source": [
        "### 라이브러리 불러오기"
      ]
    },
    {
      "cell_type": "code",
      "metadata": {
        "id": "H40yb83do2Ib",
        "colab_type": "code",
        "colab": {}
      },
      "source": [
        "import pandas as pd\n",
        "import matplotlib.pyplot as plt\n",
        "import seaborn as sns\n",
        "import os "
      ],
      "execution_count": 0,
      "outputs": []
    },
    {
      "cell_type": "code",
      "metadata": {
        "id": "1EGAvMalMHGY",
        "colab_type": "code",
        "outputId": "36782a51-4107-4d21-c29a-69a75f25f8f1",
        "colab": {
          "base_uri": "https://localhost:8080/",
          "height": 52
        }
      },
      "source": [
        "import pandas as pd\n",
        "data_tr = pd.read_csv(\"sample_data/california_housing_train.csv\")\n",
        "data_test = pd.read_csv(\"sample_data/california_housing_test.csv\")\n",
        "\n",
        "print(\"캘리포니아 데이터 행열(train) :\", data_tr.shape)\n",
        "print(\"캘리포니아 데이터 행열(test) :\", data_test.shape)"
      ],
      "execution_count": 2,
      "outputs": [
        {
          "output_type": "stream",
          "text": [
            "캘리포니아 데이터 행열(train) : (17000, 9)\n",
            "캘리포니아 데이터 행열(test) : (3000, 9)\n"
          ],
          "name": "stdout"
        }
      ]
    },
    {
      "cell_type": "markdown",
      "metadata": {
        "id": "eWVNaqoPnn4C",
        "colab_type": "text"
      },
      "source": [
        "### 일부 행만 보기"
      ]
    },
    {
      "cell_type": "code",
      "metadata": {
        "id": "cqtjVVtql-Oa",
        "colab_type": "code",
        "outputId": "4b684498-6b3e-4bb0-ecaf-7f46fad078d1",
        "colab": {
          "base_uri": "https://localhost:8080/",
          "height": 442
        }
      },
      "source": [
        "print(data_tr.head())     # 5행만 보기\n",
        "print(data_test.head(3)) # 3행만 보기\n",
        "# tail를 이용하여 뒤에 5행을 볼 수 있음.\n",
        "data_tr.tail()     # 뒤에서 5행만 보기"
      ],
      "execution_count": 6,
      "outputs": [
        {
          "output_type": "stream",
          "text": [
            "   longitude  latitude  ...  median_income  median_house_value\n",
            "0    -114.31     34.19  ...         1.4936             66900.0\n",
            "1    -114.47     34.40  ...         1.8200             80100.0\n",
            "2    -114.56     33.69  ...         1.6509             85700.0\n",
            "3    -114.57     33.64  ...         3.1917             73400.0\n",
            "4    -114.57     33.57  ...         1.9250             65500.0\n",
            "\n",
            "[5 rows x 9 columns]\n",
            "   longitude  latitude  ...  median_income  median_house_value\n",
            "0    -122.05     37.37  ...         6.6085            344700.0\n",
            "1    -118.30     34.26  ...         3.5990            176500.0\n",
            "2    -117.81     33.78  ...         5.7934            270500.0\n",
            "\n",
            "[3 rows x 9 columns]\n"
          ],
          "name": "stdout"
        },
        {
          "output_type": "execute_result",
          "data": {
            "text/html": [
              "<div>\n",
              "<style scoped>\n",
              "    .dataframe tbody tr th:only-of-type {\n",
              "        vertical-align: middle;\n",
              "    }\n",
              "\n",
              "    .dataframe tbody tr th {\n",
              "        vertical-align: top;\n",
              "    }\n",
              "\n",
              "    .dataframe thead th {\n",
              "        text-align: right;\n",
              "    }\n",
              "</style>\n",
              "<table border=\"1\" class=\"dataframe\">\n",
              "  <thead>\n",
              "    <tr style=\"text-align: right;\">\n",
              "      <th></th>\n",
              "      <th>longitude</th>\n",
              "      <th>latitude</th>\n",
              "      <th>housing_median_age</th>\n",
              "      <th>total_rooms</th>\n",
              "      <th>total_bedrooms</th>\n",
              "      <th>population</th>\n",
              "      <th>households</th>\n",
              "      <th>median_income</th>\n",
              "      <th>median_house_value</th>\n",
              "    </tr>\n",
              "  </thead>\n",
              "  <tbody>\n",
              "    <tr>\n",
              "      <th>16995</th>\n",
              "      <td>-124.26</td>\n",
              "      <td>40.58</td>\n",
              "      <td>52.0</td>\n",
              "      <td>2217.0</td>\n",
              "      <td>394.0</td>\n",
              "      <td>907.0</td>\n",
              "      <td>369.0</td>\n",
              "      <td>2.3571</td>\n",
              "      <td>111400.0</td>\n",
              "    </tr>\n",
              "    <tr>\n",
              "      <th>16996</th>\n",
              "      <td>-124.27</td>\n",
              "      <td>40.69</td>\n",
              "      <td>36.0</td>\n",
              "      <td>2349.0</td>\n",
              "      <td>528.0</td>\n",
              "      <td>1194.0</td>\n",
              "      <td>465.0</td>\n",
              "      <td>2.5179</td>\n",
              "      <td>79000.0</td>\n",
              "    </tr>\n",
              "    <tr>\n",
              "      <th>16997</th>\n",
              "      <td>-124.30</td>\n",
              "      <td>41.84</td>\n",
              "      <td>17.0</td>\n",
              "      <td>2677.0</td>\n",
              "      <td>531.0</td>\n",
              "      <td>1244.0</td>\n",
              "      <td>456.0</td>\n",
              "      <td>3.0313</td>\n",
              "      <td>103600.0</td>\n",
              "    </tr>\n",
              "    <tr>\n",
              "      <th>16998</th>\n",
              "      <td>-124.30</td>\n",
              "      <td>41.80</td>\n",
              "      <td>19.0</td>\n",
              "      <td>2672.0</td>\n",
              "      <td>552.0</td>\n",
              "      <td>1298.0</td>\n",
              "      <td>478.0</td>\n",
              "      <td>1.9797</td>\n",
              "      <td>85800.0</td>\n",
              "    </tr>\n",
              "    <tr>\n",
              "      <th>16999</th>\n",
              "      <td>-124.35</td>\n",
              "      <td>40.54</td>\n",
              "      <td>52.0</td>\n",
              "      <td>1820.0</td>\n",
              "      <td>300.0</td>\n",
              "      <td>806.0</td>\n",
              "      <td>270.0</td>\n",
              "      <td>3.0147</td>\n",
              "      <td>94600.0</td>\n",
              "    </tr>\n",
              "  </tbody>\n",
              "</table>\n",
              "</div>"
            ],
            "text/plain": [
              "       longitude  latitude  ...  median_income  median_house_value\n",
              "16995    -124.26     40.58  ...         2.3571            111400.0\n",
              "16996    -124.27     40.69  ...         2.5179             79000.0\n",
              "16997    -124.30     41.84  ...         3.0313            103600.0\n",
              "16998    -124.30     41.80  ...         1.9797             85800.0\n",
              "16999    -124.35     40.54  ...         3.0147             94600.0\n",
              "\n",
              "[5 rows x 9 columns]"
            ]
          },
          "metadata": {
            "tags": []
          },
          "execution_count": 6
        }
      ]
    },
    {
      "cell_type": "markdown",
      "metadata": {
        "id": "T8cPdXG3nj-5",
        "colab_type": "text"
      },
      "source": [
        "### 파일 만들기(csv, excel)"
      ]
    },
    {
      "cell_type": "code",
      "metadata": {
        "id": "HGdxlhPuna1c",
        "colab_type": "code",
        "colab": {}
      },
      "source": [
        "### 구글 콜랩의 데이터 셋을 이용해서 csv, excel파일을 만들자.\n",
        "data_tr.to_csv(\"data.csv\", index=False)\n",
        "data_tr.to_excel(\"data.xlsx\", index=True)\n",
        "\n",
        "### 파일을 불러와 보자.\n",
        "excel_data = pd.read_excel(\"data.xlsx\")\n",
        "csv_data = pd.read_csv(\"data.csv\")"
      ],
      "execution_count": 0,
      "outputs": []
    },
    {
      "cell_type": "code",
      "metadata": {
        "id": "cy96CJFEqZnS",
        "colab_type": "code",
        "outputId": "218ea16f-2664-4eae-ebf6-ba8ab0ffde5d",
        "colab": {
          "base_uri": "https://localhost:8080/",
          "height": 34
        }
      },
      "source": [
        "### 파일 생성 확인(리눅스 명령 이용)\n",
        "!ls"
      ],
      "execution_count": 10,
      "outputs": [
        {
          "output_type": "stream",
          "text": [
            "data.csv  data.xlsx  sample_data\n"
          ],
          "name": "stdout"
        }
      ]
    },
    {
      "cell_type": "code",
      "metadata": {
        "id": "WxtEI_OkrjpW",
        "colab_type": "code",
        "outputId": "cd8b4819-90c6-4c64-87bd-68dbed4da493",
        "colab": {
          "base_uri": "https://localhost:8080/",
          "height": 212
        }
      },
      "source": [
        "excel_data.head()"
      ],
      "execution_count": 11,
      "outputs": [
        {
          "output_type": "execute_result",
          "data": {
            "text/html": [
              "<div>\n",
              "<style scoped>\n",
              "    .dataframe tbody tr th:only-of-type {\n",
              "        vertical-align: middle;\n",
              "    }\n",
              "\n",
              "    .dataframe tbody tr th {\n",
              "        vertical-align: top;\n",
              "    }\n",
              "\n",
              "    .dataframe thead th {\n",
              "        text-align: right;\n",
              "    }\n",
              "</style>\n",
              "<table border=\"1\" class=\"dataframe\">\n",
              "  <thead>\n",
              "    <tr style=\"text-align: right;\">\n",
              "      <th></th>\n",
              "      <th>Unnamed: 0</th>\n",
              "      <th>longitude</th>\n",
              "      <th>latitude</th>\n",
              "      <th>housing_median_age</th>\n",
              "      <th>total_rooms</th>\n",
              "      <th>total_bedrooms</th>\n",
              "      <th>population</th>\n",
              "      <th>households</th>\n",
              "      <th>median_income</th>\n",
              "      <th>median_house_value</th>\n",
              "    </tr>\n",
              "  </thead>\n",
              "  <tbody>\n",
              "    <tr>\n",
              "      <th>0</th>\n",
              "      <td>0</td>\n",
              "      <td>-114.31</td>\n",
              "      <td>34.19</td>\n",
              "      <td>15</td>\n",
              "      <td>5612</td>\n",
              "      <td>1283</td>\n",
              "      <td>1015</td>\n",
              "      <td>472</td>\n",
              "      <td>1.4936</td>\n",
              "      <td>66900</td>\n",
              "    </tr>\n",
              "    <tr>\n",
              "      <th>1</th>\n",
              "      <td>1</td>\n",
              "      <td>-114.47</td>\n",
              "      <td>34.40</td>\n",
              "      <td>19</td>\n",
              "      <td>7650</td>\n",
              "      <td>1901</td>\n",
              "      <td>1129</td>\n",
              "      <td>463</td>\n",
              "      <td>1.8200</td>\n",
              "      <td>80100</td>\n",
              "    </tr>\n",
              "    <tr>\n",
              "      <th>2</th>\n",
              "      <td>2</td>\n",
              "      <td>-114.56</td>\n",
              "      <td>33.69</td>\n",
              "      <td>17</td>\n",
              "      <td>720</td>\n",
              "      <td>174</td>\n",
              "      <td>333</td>\n",
              "      <td>117</td>\n",
              "      <td>1.6509</td>\n",
              "      <td>85700</td>\n",
              "    </tr>\n",
              "    <tr>\n",
              "      <th>3</th>\n",
              "      <td>3</td>\n",
              "      <td>-114.57</td>\n",
              "      <td>33.64</td>\n",
              "      <td>14</td>\n",
              "      <td>1501</td>\n",
              "      <td>337</td>\n",
              "      <td>515</td>\n",
              "      <td>226</td>\n",
              "      <td>3.1917</td>\n",
              "      <td>73400</td>\n",
              "    </tr>\n",
              "    <tr>\n",
              "      <th>4</th>\n",
              "      <td>4</td>\n",
              "      <td>-114.57</td>\n",
              "      <td>33.57</td>\n",
              "      <td>20</td>\n",
              "      <td>1454</td>\n",
              "      <td>326</td>\n",
              "      <td>624</td>\n",
              "      <td>262</td>\n",
              "      <td>1.9250</td>\n",
              "      <td>65500</td>\n",
              "    </tr>\n",
              "  </tbody>\n",
              "</table>\n",
              "</div>"
            ],
            "text/plain": [
              "   Unnamed: 0  longitude  ...  median_income  median_house_value\n",
              "0           0    -114.31  ...         1.4936               66900\n",
              "1           1    -114.47  ...         1.8200               80100\n",
              "2           2    -114.56  ...         1.6509               85700\n",
              "3           3    -114.57  ...         3.1917               73400\n",
              "4           4    -114.57  ...         1.9250               65500\n",
              "\n",
              "[5 rows x 10 columns]"
            ]
          },
          "metadata": {
            "tags": []
          },
          "execution_count": 11
        }
      ]
    },
    {
      "cell_type": "code",
      "metadata": {
        "id": "5k56w9J7sJh4",
        "colab_type": "code",
        "outputId": "beea97cc-8462-4cc0-b798-81babb2fdd9b",
        "colab": {
          "base_uri": "https://localhost:8080/",
          "height": 195
        }
      },
      "source": [
        "csv_data.head()"
      ],
      "execution_count": 12,
      "outputs": [
        {
          "output_type": "execute_result",
          "data": {
            "text/html": [
              "<div>\n",
              "<style scoped>\n",
              "    .dataframe tbody tr th:only-of-type {\n",
              "        vertical-align: middle;\n",
              "    }\n",
              "\n",
              "    .dataframe tbody tr th {\n",
              "        vertical-align: top;\n",
              "    }\n",
              "\n",
              "    .dataframe thead th {\n",
              "        text-align: right;\n",
              "    }\n",
              "</style>\n",
              "<table border=\"1\" class=\"dataframe\">\n",
              "  <thead>\n",
              "    <tr style=\"text-align: right;\">\n",
              "      <th></th>\n",
              "      <th>longitude</th>\n",
              "      <th>latitude</th>\n",
              "      <th>housing_median_age</th>\n",
              "      <th>total_rooms</th>\n",
              "      <th>total_bedrooms</th>\n",
              "      <th>population</th>\n",
              "      <th>households</th>\n",
              "      <th>median_income</th>\n",
              "      <th>median_house_value</th>\n",
              "    </tr>\n",
              "  </thead>\n",
              "  <tbody>\n",
              "    <tr>\n",
              "      <th>0</th>\n",
              "      <td>-114.31</td>\n",
              "      <td>34.19</td>\n",
              "      <td>15.0</td>\n",
              "      <td>5612.0</td>\n",
              "      <td>1283.0</td>\n",
              "      <td>1015.0</td>\n",
              "      <td>472.0</td>\n",
              "      <td>1.4936</td>\n",
              "      <td>66900.0</td>\n",
              "    </tr>\n",
              "    <tr>\n",
              "      <th>1</th>\n",
              "      <td>-114.47</td>\n",
              "      <td>34.40</td>\n",
              "      <td>19.0</td>\n",
              "      <td>7650.0</td>\n",
              "      <td>1901.0</td>\n",
              "      <td>1129.0</td>\n",
              "      <td>463.0</td>\n",
              "      <td>1.8200</td>\n",
              "      <td>80100.0</td>\n",
              "    </tr>\n",
              "    <tr>\n",
              "      <th>2</th>\n",
              "      <td>-114.56</td>\n",
              "      <td>33.69</td>\n",
              "      <td>17.0</td>\n",
              "      <td>720.0</td>\n",
              "      <td>174.0</td>\n",
              "      <td>333.0</td>\n",
              "      <td>117.0</td>\n",
              "      <td>1.6509</td>\n",
              "      <td>85700.0</td>\n",
              "    </tr>\n",
              "    <tr>\n",
              "      <th>3</th>\n",
              "      <td>-114.57</td>\n",
              "      <td>33.64</td>\n",
              "      <td>14.0</td>\n",
              "      <td>1501.0</td>\n",
              "      <td>337.0</td>\n",
              "      <td>515.0</td>\n",
              "      <td>226.0</td>\n",
              "      <td>3.1917</td>\n",
              "      <td>73400.0</td>\n",
              "    </tr>\n",
              "    <tr>\n",
              "      <th>4</th>\n",
              "      <td>-114.57</td>\n",
              "      <td>33.57</td>\n",
              "      <td>20.0</td>\n",
              "      <td>1454.0</td>\n",
              "      <td>326.0</td>\n",
              "      <td>624.0</td>\n",
              "      <td>262.0</td>\n",
              "      <td>1.9250</td>\n",
              "      <td>65500.0</td>\n",
              "    </tr>\n",
              "  </tbody>\n",
              "</table>\n",
              "</div>"
            ],
            "text/plain": [
              "   longitude  latitude  ...  median_income  median_house_value\n",
              "0    -114.31     34.19  ...         1.4936             66900.0\n",
              "1    -114.47     34.40  ...         1.8200             80100.0\n",
              "2    -114.56     33.69  ...         1.6509             85700.0\n",
              "3    -114.57     33.64  ...         3.1917             73400.0\n",
              "4    -114.57     33.57  ...         1.9250             65500.0\n",
              "\n",
              "[5 rows x 9 columns]"
            ]
          },
          "metadata": {
            "tags": []
          },
          "execution_count": 12
        }
      ]
    },
    {
      "cell_type": "code",
      "metadata": {
        "id": "xtK4_E-g3_HT",
        "colab_type": "code",
        "colab": {}
      },
      "source": [
        "data_tr = pd.read_csv(\"sample_data/california_housing_train.csv\")\n",
        "data_test = pd.read_csv(\"sample_data/california_housing_test.csv\")"
      ],
      "execution_count": 0,
      "outputs": []
    },
    {
      "cell_type": "markdown",
      "metadata": {
        "id": "Vrq7fxC5nvQE",
        "colab_type": "text"
      },
      "source": [
        "### 데이터의 컬럼명 확인"
      ]
    },
    {
      "cell_type": "code",
      "metadata": {
        "id": "UEr0QS0fsKn8",
        "colab_type": "code",
        "outputId": "4708067a-95a4-475e-a908-7f2f7d749a0b",
        "colab": {
          "base_uri": "https://localhost:8080/",
          "height": 158
        }
      },
      "source": [
        "print(\"데이터 열의 제목(train) : \", data_tr.columns) \n",
        "print(\"데이터 열의 제목(test) : \", data_test.columns) "
      ],
      "execution_count": 16,
      "outputs": [
        {
          "output_type": "stream",
          "text": [
            "데이터 열의 제목(train) :  Index(['longitude', 'latitude', 'housing_median_age', 'total_rooms',\n",
            "       'total_bedrooms', 'population', 'households', 'median_income',\n",
            "       'median_house_value'],\n",
            "      dtype='object')\n",
            "데이터 열의 제목(test) :  Index(['longitude', 'latitude', 'housing_median_age', 'total_rooms',\n",
            "       'total_bedrooms', 'population', 'households', 'median_income',\n",
            "       'median_house_value'],\n",
            "      dtype='object')\n"
          ],
          "name": "stdout"
        }
      ]
    },
    {
      "cell_type": "markdown",
      "metadata": {
        "id": "Q4sooPrwnyRh",
        "colab_type": "text"
      },
      "source": [
        "### 데이터의 정보 확인\n",
        "  * 컬럼의 자료형, 행열, 비어있는 값의 개수"
      ]
    },
    {
      "cell_type": "code",
      "metadata": {
        "id": "BhFGhqPPuDFE",
        "colab_type": "code",
        "outputId": "ff92df96-8d25-432c-f6f0-ec7cefea253a",
        "colab": {
          "base_uri": "https://localhost:8080/",
          "height": 281
        }
      },
      "source": [
        "print(data_tr.info() ) "
      ],
      "execution_count": 18,
      "outputs": [
        {
          "output_type": "stream",
          "text": [
            "<class 'pandas.core.frame.DataFrame'>\n",
            "RangeIndex: 17000 entries, 0 to 16999\n",
            "Data columns (total 9 columns):\n",
            "longitude             17000 non-null float64\n",
            "latitude              17000 non-null float64\n",
            "housing_median_age    17000 non-null float64\n",
            "total_rooms           17000 non-null float64\n",
            "total_bedrooms        17000 non-null float64\n",
            "population            17000 non-null float64\n",
            "households            17000 non-null float64\n",
            "median_income         17000 non-null float64\n",
            "median_house_value    17000 non-null float64\n",
            "dtypes: float64(9)\n",
            "memory usage: 1.2 MB\n",
            "None\n"
          ],
          "name": "stdout"
        }
      ]
    },
    {
      "cell_type": "code",
      "metadata": {
        "id": "kQs4TM7FwKnW",
        "colab_type": "code",
        "outputId": "7a6d5088-9ca8-48c3-b6da-025d00cd07ad",
        "colab": {
          "base_uri": "https://localhost:8080/",
          "height": 281
        }
      },
      "source": [
        "print(data_test.info() ) "
      ],
      "execution_count": 19,
      "outputs": [
        {
          "output_type": "stream",
          "text": [
            "<class 'pandas.core.frame.DataFrame'>\n",
            "RangeIndex: 3000 entries, 0 to 2999\n",
            "Data columns (total 9 columns):\n",
            "longitude             3000 non-null float64\n",
            "latitude              3000 non-null float64\n",
            "housing_median_age    3000 non-null float64\n",
            "total_rooms           3000 non-null float64\n",
            "total_bedrooms        3000 non-null float64\n",
            "population            3000 non-null float64\n",
            "households            3000 non-null float64\n",
            "median_income         3000 non-null float64\n",
            "median_house_value    3000 non-null float64\n",
            "dtypes: float64(9)\n",
            "memory usage: 211.1 KB\n",
            "None\n"
          ],
          "name": "stdout"
        }
      ]
    },
    {
      "cell_type": "markdown",
      "metadata": {
        "id": "mX_qwRBTn8p8",
        "colab_type": "text"
      },
      "source": [
        "### 데이터의 빈 값을 채우기"
      ]
    },
    {
      "cell_type": "code",
      "metadata": {
        "id": "RyMm50dswNye",
        "colab_type": "code",
        "outputId": "5c2a731e-22a0-4af3-8b43-5b580af4c411",
        "colab": {
          "base_uri": "https://localhost:8080/",
          "height": 298
        }
      },
      "source": [
        "import numpy as np\n",
        "data_tr.iloc[0,1] = np.nan\n",
        "data_test.iloc[2,1:8] = np.nan\n",
        "\n",
        "print(data_tr.head() ) \n",
        "print(data_test.head() ) "
      ],
      "execution_count": 21,
      "outputs": [
        {
          "output_type": "stream",
          "text": [
            "   longitude  latitude  ...  median_income  median_house_value\n",
            "0    -114.31       NaN  ...         1.4936             66900.0\n",
            "1    -114.47     34.40  ...         1.8200             80100.0\n",
            "2    -114.56     33.69  ...         1.6509             85700.0\n",
            "3    -114.57     33.64  ...         3.1917             73400.0\n",
            "4    -114.57     33.57  ...         1.9250             65500.0\n",
            "\n",
            "[5 rows x 9 columns]\n",
            "   longitude  latitude  ...  median_income  median_house_value\n",
            "0    -122.05     37.37  ...         6.6085            344700.0\n",
            "1    -118.30     34.26  ...         3.5990            176500.0\n",
            "2    -117.81       NaN  ...            NaN            270500.0\n",
            "3    -118.36     33.82  ...         6.1359            330000.0\n",
            "4    -119.67     36.33  ...         2.9375             81700.0\n",
            "\n",
            "[5 rows x 9 columns]\n"
          ],
          "name": "stdout"
        }
      ]
    },
    {
      "cell_type": "code",
      "metadata": {
        "id": "97xBDHRo0LQ3",
        "colab_type": "code",
        "outputId": "d55c1e3b-48b6-46b3-a5f8-4f85205d632e",
        "colab": {
          "base_uri": "https://localhost:8080/",
          "height": 562
        }
      },
      "source": [
        "print(\"train 데이터 셋 : \", data_tr.info() ) \n",
        "print()\n",
        "print(\"test 데이터 셋 : \", data_test.info() ) "
      ],
      "execution_count": 22,
      "outputs": [
        {
          "output_type": "stream",
          "text": [
            "<class 'pandas.core.frame.DataFrame'>\n",
            "RangeIndex: 17000 entries, 0 to 16999\n",
            "Data columns (total 9 columns):\n",
            "longitude             17000 non-null float64\n",
            "latitude              16999 non-null float64\n",
            "housing_median_age    17000 non-null float64\n",
            "total_rooms           17000 non-null float64\n",
            "total_bedrooms        17000 non-null float64\n",
            "population            17000 non-null float64\n",
            "households            17000 non-null float64\n",
            "median_income         17000 non-null float64\n",
            "median_house_value    17000 non-null float64\n",
            "dtypes: float64(9)\n",
            "memory usage: 1.2 MB\n",
            "train 데이터 셋 :  None\n",
            "\n",
            "<class 'pandas.core.frame.DataFrame'>\n",
            "RangeIndex: 3000 entries, 0 to 2999\n",
            "Data columns (total 9 columns):\n",
            "longitude             3000 non-null float64\n",
            "latitude              2999 non-null float64\n",
            "housing_median_age    2999 non-null float64\n",
            "total_rooms           2999 non-null float64\n",
            "total_bedrooms        2999 non-null float64\n",
            "population            2999 non-null float64\n",
            "households            2999 non-null float64\n",
            "median_income         2999 non-null float64\n",
            "median_house_value    3000 non-null float64\n",
            "dtypes: float64(9)\n",
            "memory usage: 211.1 KB\n",
            "test 데이터 셋 :  None\n"
          ],
          "name": "stdout"
        }
      ]
    },
    {
      "cell_type": "code",
      "metadata": {
        "id": "ybbRj0ieESIH",
        "colab_type": "code",
        "colab": {}
      },
      "source": [
        "import pandas as pd"
      ],
      "execution_count": 0,
      "outputs": []
    },
    {
      "cell_type": "markdown",
      "metadata": {
        "id": "LhtlKUUmoBvI",
        "colab_type": "text"
      },
      "source": [
        "### 데이터 선택(iloc : 인덱스로 선택함)"
      ]
    },
    {
      "cell_type": "code",
      "metadata": {
        "id": "PhqAa1bG1l5w",
        "colab_type": "code",
        "outputId": "1e6458fc-4e38-4de8-b688-d325d1a432b9",
        "colab": {
          "base_uri": "https://localhost:8080/",
          "height": 193
        }
      },
      "source": [
        "base_dir = \"./sample_data/\"\n",
        "data_tr = pd.read_csv(base_dir + \"california_housing_train.csv\")\n",
        "data_test = pd.read_csv(base_dir + \"california_housing_test.csv\")\n",
        "\n",
        "# 두번째 행 선택\n",
        "print(data_tr.iloc[1])"
      ],
      "execution_count": 26,
      "outputs": [
        {
          "output_type": "stream",
          "text": [
            "longitude              -114.47\n",
            "latitude                 34.40\n",
            "housing_median_age       19.00\n",
            "total_rooms            7650.00\n",
            "total_bedrooms         1901.00\n",
            "population             1129.00\n",
            "households              463.00\n",
            "median_income             1.82\n",
            "median_house_value    80100.00\n",
            "Name: 1, dtype: float64\n"
          ],
          "name": "stdout"
        }
      ]
    },
    {
      "cell_type": "code",
      "metadata": {
        "id": "QrRkDEsgEPTZ",
        "colab_type": "code",
        "outputId": "26744d0c-6f72-4270-c23b-1264fe9c021d",
        "colab": {
          "base_uri": "https://localhost:8080/",
          "height": 34
        }
      },
      "source": [
        "data_tr.shape"
      ],
      "execution_count": 27,
      "outputs": [
        {
          "output_type": "execute_result",
          "data": {
            "text/plain": [
              "(17000, 9)"
            ]
          },
          "metadata": {
            "tags": []
          },
          "execution_count": 27
        }
      ]
    },
    {
      "cell_type": "code",
      "metadata": {
        "id": "Cl1AgIDNH3yc",
        "colab_type": "code",
        "outputId": "3bc1c76d-a09e-4926-da73-1c5a51f3f577",
        "colab": {
          "base_uri": "https://localhost:8080/",
          "height": 334
        }
      },
      "source": [
        "print(data_tr.iloc[2:4])    # (2+1)행부터 4행까지 선택\n",
        "print(data_tr.iloc[:4])     # 처음부터 4행까지 선택\n",
        "print(data_tr.iloc[16997:]) # 16998행부터 끝까지 선택"
      ],
      "execution_count": 28,
      "outputs": [
        {
          "output_type": "stream",
          "text": [
            "   longitude  latitude  ...  median_income  median_house_value\n",
            "2    -114.56     33.69  ...         1.6509             85700.0\n",
            "3    -114.57     33.64  ...         3.1917             73400.0\n",
            "\n",
            "[2 rows x 9 columns]\n",
            "   longitude  latitude  ...  median_income  median_house_value\n",
            "0    -114.31     34.19  ...         1.4936             66900.0\n",
            "1    -114.47     34.40  ...         1.8200             80100.0\n",
            "2    -114.56     33.69  ...         1.6509             85700.0\n",
            "3    -114.57     33.64  ...         3.1917             73400.0\n",
            "\n",
            "[4 rows x 9 columns]\n",
            "       longitude  latitude  ...  median_income  median_house_value\n",
            "16997    -124.30     41.84  ...         3.0313            103600.0\n",
            "16998    -124.30     41.80  ...         1.9797             85800.0\n",
            "16999    -124.35     40.54  ...         3.0147             94600.0\n",
            "\n",
            "[3 rows x 9 columns]\n"
          ],
          "name": "stdout"
        }
      ]
    },
    {
      "cell_type": "code",
      "metadata": {
        "id": "oVLx2EnRO-Qq",
        "colab_type": "code",
        "outputId": "ce522890-1a0a-4f87-cc6a-3ae8c5b845c6",
        "colab": {
          "base_uri": "https://localhost:8080/",
          "height": 136
        }
      },
      "source": [
        "data_tr.head(3)"
      ],
      "execution_count": 29,
      "outputs": [
        {
          "output_type": "execute_result",
          "data": {
            "text/html": [
              "<div>\n",
              "<style scoped>\n",
              "    .dataframe tbody tr th:only-of-type {\n",
              "        vertical-align: middle;\n",
              "    }\n",
              "\n",
              "    .dataframe tbody tr th {\n",
              "        vertical-align: top;\n",
              "    }\n",
              "\n",
              "    .dataframe thead th {\n",
              "        text-align: right;\n",
              "    }\n",
              "</style>\n",
              "<table border=\"1\" class=\"dataframe\">\n",
              "  <thead>\n",
              "    <tr style=\"text-align: right;\">\n",
              "      <th></th>\n",
              "      <th>longitude</th>\n",
              "      <th>latitude</th>\n",
              "      <th>housing_median_age</th>\n",
              "      <th>total_rooms</th>\n",
              "      <th>total_bedrooms</th>\n",
              "      <th>population</th>\n",
              "      <th>households</th>\n",
              "      <th>median_income</th>\n",
              "      <th>median_house_value</th>\n",
              "    </tr>\n",
              "  </thead>\n",
              "  <tbody>\n",
              "    <tr>\n",
              "      <th>0</th>\n",
              "      <td>-114.31</td>\n",
              "      <td>34.19</td>\n",
              "      <td>15.0</td>\n",
              "      <td>5612.0</td>\n",
              "      <td>1283.0</td>\n",
              "      <td>1015.0</td>\n",
              "      <td>472.0</td>\n",
              "      <td>1.4936</td>\n",
              "      <td>66900.0</td>\n",
              "    </tr>\n",
              "    <tr>\n",
              "      <th>1</th>\n",
              "      <td>-114.47</td>\n",
              "      <td>34.40</td>\n",
              "      <td>19.0</td>\n",
              "      <td>7650.0</td>\n",
              "      <td>1901.0</td>\n",
              "      <td>1129.0</td>\n",
              "      <td>463.0</td>\n",
              "      <td>1.8200</td>\n",
              "      <td>80100.0</td>\n",
              "    </tr>\n",
              "    <tr>\n",
              "      <th>2</th>\n",
              "      <td>-114.56</td>\n",
              "      <td>33.69</td>\n",
              "      <td>17.0</td>\n",
              "      <td>720.0</td>\n",
              "      <td>174.0</td>\n",
              "      <td>333.0</td>\n",
              "      <td>117.0</td>\n",
              "      <td>1.6509</td>\n",
              "      <td>85700.0</td>\n",
              "    </tr>\n",
              "  </tbody>\n",
              "</table>\n",
              "</div>"
            ],
            "text/plain": [
              "   longitude  latitude  ...  median_income  median_house_value\n",
              "0    -114.31     34.19  ...         1.4936             66900.0\n",
              "1    -114.47     34.40  ...         1.8200             80100.0\n",
              "2    -114.56     33.69  ...         1.6509             85700.0\n",
              "\n",
              "[3 rows x 9 columns]"
            ]
          },
          "metadata": {
            "tags": []
          },
          "execution_count": 29
        }
      ]
    },
    {
      "cell_type": "markdown",
      "metadata": {
        "id": "-wc6512uoH4d",
        "colab_type": "text"
      },
      "source": [
        "### 데이터의 열선택\n",
        " * 컬럼명으로 데이터를 선택하기"
      ]
    },
    {
      "cell_type": "code",
      "metadata": {
        "id": "mPNv9F75Oh1R",
        "colab_type": "code",
        "outputId": "786cfcca-c415-44c4-982d-84a04c569005",
        "colab": {
          "base_uri": "https://localhost:8080/",
          "height": 140
        }
      },
      "source": [
        "# 열 선택(열 컬럼명으로 선택)\n",
        "print(\"latitude 컬럼명으로 선택\")\n",
        "col_sel = data_tr['latitude']\n",
        "print(col_sel.head())"
      ],
      "execution_count": 31,
      "outputs": [
        {
          "output_type": "stream",
          "text": [
            "latitude 컬럼명으로 선택\n",
            "0    34.19\n",
            "1    34.40\n",
            "2    33.69\n",
            "3    33.64\n",
            "4    33.57\n",
            "Name: latitude, dtype: float64\n"
          ],
          "name": "stdout"
        }
      ]
    },
    {
      "cell_type": "markdown",
      "metadata": {
        "id": "Me2Mp6aeoPZo",
        "colab_type": "text"
      },
      "source": [
        "### 데이터의 열선택(iloc 이용)"
      ]
    },
    {
      "cell_type": "code",
      "metadata": {
        "id": "Wb1bdM_QIB9e",
        "colab_type": "code",
        "outputId": "3b6f911f-7708-4ae9-9f84-1cb54507f6b7",
        "colab": {
          "base_uri": "https://localhost:8080/",
          "height": 140
        }
      },
      "source": [
        "# 두번째 열 선택(열도 0부터 시작하므로 지정값의 +1열)\n",
        "print(\"두번째 열 선택\")\n",
        "col_sel = data_tr.iloc[:,1]\n",
        "print( col_sel.head() )"
      ],
      "execution_count": 33,
      "outputs": [
        {
          "output_type": "stream",
          "text": [
            "두번째 열 선택\n",
            "0    34.19\n",
            "1    34.40\n",
            "2    33.69\n",
            "3    33.64\n",
            "4    33.57\n",
            "Name: latitude, dtype: float64\n"
          ],
          "name": "stdout"
        }
      ]
    },
    {
      "cell_type": "code",
      "metadata": {
        "id": "Fx75mDk8OWmz",
        "colab_type": "code",
        "outputId": "c3b251b4-bd51-459e-f482-1f1c4900d2e4",
        "colab": {
          "base_uri": "https://localhost:8080/",
          "height": 140
        }
      },
      "source": [
        "# 복수열 선택 : 3개 열 선택(컬럼명으로)\n",
        "print(\"컬럼명으로 선택_3개 컬럼\")\n",
        "column_name = ['latitude', 'total_rooms', 'population']\n",
        "row_sel = data_tr[column_name]\n",
        "print( row_sel.head() )"
      ],
      "execution_count": 34,
      "outputs": [
        {
          "output_type": "stream",
          "text": [
            "컬럼명으로 선택_3개 컬럼\n",
            "   latitude  total_rooms  population\n",
            "0     34.19       5612.0      1015.0\n",
            "1     34.40       7650.0      1129.0\n",
            "2     33.69        720.0       333.0\n",
            "3     33.64       1501.0       515.0\n",
            "4     33.57       1454.0       624.0\n"
          ],
          "name": "stdout"
        }
      ]
    },
    {
      "cell_type": "code",
      "metadata": {
        "id": "chU6JCVuOaKL",
        "colab_type": "code",
        "outputId": "10b5c853-762b-4358-f023-0430e331e58d",
        "colab": {
          "base_uri": "https://localhost:8080/",
          "height": 140
        }
      },
      "source": [
        "# 복수열 선택 : 3개 열 선택(숫자 이용)\n",
        "print(\"컬럼명으로 선택_3개 컬럼\")\n",
        "row_sel = data_tr.iloc[:,[1,3,5]]\n",
        "print( row_sel.head() )"
      ],
      "execution_count": 35,
      "outputs": [
        {
          "output_type": "stream",
          "text": [
            "컬럼명으로 선택_3개 컬럼\n",
            "   latitude  total_rooms  population\n",
            "0     34.19       5612.0      1015.0\n",
            "1     34.40       7650.0      1129.0\n",
            "2     33.69        720.0       333.0\n",
            "3     33.64       1501.0       515.0\n",
            "4     33.57       1454.0       624.0\n"
          ],
          "name": "stdout"
        }
      ]
    },
    {
      "cell_type": "code",
      "metadata": {
        "id": "BCMngX9xX6cI",
        "colab_type": "code",
        "outputId": "c8e19f0c-8b1d-4c89-f379-ca0bea4654bd",
        "colab": {
          "base_uri": "https://localhost:8080/",
          "height": 140
        }
      },
      "source": [
        "# 일부 데이터 선택 (iloc 를 이용 행과 열에 접근)\n",
        "# 1~10행, longitude, latitude, total_rooms, population에 접근 \n",
        "print(\"데이터의 일부 가져오기\")\n",
        "dat_part = data_tr.iloc[0:10,[0,1,3,5]]\n",
        "print( dat_part.head() )"
      ],
      "execution_count": 36,
      "outputs": [
        {
          "output_type": "stream",
          "text": [
            "데이터의 일부 가져오기\n",
            "   longitude  latitude  total_rooms  population\n",
            "0    -114.31     34.19       5612.0      1015.0\n",
            "1    -114.47     34.40       7650.0      1129.0\n",
            "2    -114.56     33.69        720.0       333.0\n",
            "3    -114.57     33.64       1501.0       515.0\n",
            "4    -114.57     33.57       1454.0       624.0\n"
          ],
          "name": "stdout"
        }
      ]
    },
    {
      "cell_type": "markdown",
      "metadata": {
        "id": "1vSPL8hWoWBC",
        "colab_type": "text"
      },
      "source": [
        "### 지도 시각화\n",
        " * folium 을 이용하기"
      ]
    },
    {
      "cell_type": "code",
      "metadata": {
        "id": "vpezzcQ6eRce",
        "colab_type": "code",
        "colab": {}
      },
      "source": [
        "import folium"
      ],
      "execution_count": 0,
      "outputs": []
    },
    {
      "cell_type": "markdown",
      "metadata": {
        "id": "AXPVUyccoZri",
        "colab_type": "text"
      },
      "source": [
        "### 데이터 셋의 경도, 위도 정보를 이용해서 이에 대한 위치를 지도위에 표시"
      ]
    },
    {
      "cell_type": "code",
      "metadata": {
        "id": "IhxfskX0ht2F",
        "colab_type": "code",
        "outputId": "dd0c37dc-04c2-43ff-a9ae-cc30ec6df075",
        "colab": {
          "base_uri": "https://localhost:8080/",
          "height": 721
        }
      },
      "source": [
        "lat_m = dat_part['latitude'].mean()  # 위도 위치의 평균\n",
        "log_m = dat_part['longitude'].mean() # 경도 위치의 평균\n",
        "rooms_m = dat_part['total_rooms'].mean() # 총 방수의 평균\n",
        "pop_m = dat_part['population'].mean() # 인구의 평균\n",
        "\n",
        "print(\"위도, 경도\", lat_m , log_m )\n",
        "print(\"방, 인구(평균\", rooms_m , pop_m )\n",
        "\n",
        "# 지도 중심위치 및 확대\n",
        "map1 = folium.Map(location=[lat_m, log_m], zoom_start=7)\n",
        "# Marker 설명(집, 인구) \n",
        "des = \"room : \" + str(rooms_m) + \"<br>\" + \"pop :\" + str(pop_m) \n",
        "\n",
        "folium.Marker([lat_m, log_m], popup=des).add_to(map1) # 마커 추가\n",
        "map1"
      ],
      "execution_count": 44,
      "outputs": [
        {
          "output_type": "error",
          "ename": "KeyError",
          "evalue": "ignored",
          "traceback": [
            "\u001b[0;31m---------------------------------------------------------------------------\u001b[0m",
            "\u001b[0;31mKeyError\u001b[0m                                  Traceback (most recent call last)",
            "\u001b[0;32m/usr/local/lib/python3.6/dist-packages/pandas/core/indexes/base.py\u001b[0m in \u001b[0;36mget_loc\u001b[0;34m(self, key, method, tolerance)\u001b[0m\n\u001b[1;32m   2896\u001b[0m             \u001b[0;32mtry\u001b[0m\u001b[0;34m:\u001b[0m\u001b[0;34m\u001b[0m\u001b[0;34m\u001b[0m\u001b[0m\n\u001b[0;32m-> 2897\u001b[0;31m                 \u001b[0;32mreturn\u001b[0m \u001b[0mself\u001b[0m\u001b[0;34m.\u001b[0m\u001b[0m_engine\u001b[0m\u001b[0;34m.\u001b[0m\u001b[0mget_loc\u001b[0m\u001b[0;34m(\u001b[0m\u001b[0mkey\u001b[0m\u001b[0;34m)\u001b[0m\u001b[0;34m\u001b[0m\u001b[0;34m\u001b[0m\u001b[0m\n\u001b[0m\u001b[1;32m   2898\u001b[0m             \u001b[0;32mexcept\u001b[0m \u001b[0mKeyError\u001b[0m\u001b[0;34m:\u001b[0m\u001b[0;34m\u001b[0m\u001b[0;34m\u001b[0m\u001b[0m\n",
            "\u001b[0;32mpandas/_libs/index.pyx\u001b[0m in \u001b[0;36mpandas._libs.index.IndexEngine.get_loc\u001b[0;34m()\u001b[0m\n",
            "\u001b[0;32mpandas/_libs/index.pyx\u001b[0m in \u001b[0;36mpandas._libs.index.IndexEngine.get_loc\u001b[0;34m()\u001b[0m\n",
            "\u001b[0;32mpandas/_libs/hashtable_class_helper.pxi\u001b[0m in \u001b[0;36mpandas._libs.hashtable.PyObjectHashTable.get_item\u001b[0;34m()\u001b[0m\n",
            "\u001b[0;32mpandas/_libs/hashtable_class_helper.pxi\u001b[0m in \u001b[0;36mpandas._libs.hashtable.PyObjectHashTable.get_item\u001b[0;34m()\u001b[0m\n",
            "\u001b[0;31mKeyError\u001b[0m: 'latitude'",
            "\nDuring handling of the above exception, another exception occurred:\n",
            "\u001b[0;31mKeyError\u001b[0m                                  Traceback (most recent call last)",
            "\u001b[0;32m<ipython-input-44-e22696118184>\u001b[0m in \u001b[0;36m<module>\u001b[0;34m()\u001b[0m\n\u001b[0;32m----> 1\u001b[0;31m \u001b[0mlat_m\u001b[0m \u001b[0;34m=\u001b[0m \u001b[0mdat_part\u001b[0m\u001b[0;34m[\u001b[0m\u001b[0;34m'latitude'\u001b[0m\u001b[0;34m]\u001b[0m\u001b[0;34m.\u001b[0m\u001b[0mmean\u001b[0m\u001b[0;34m(\u001b[0m\u001b[0;34m)\u001b[0m  \u001b[0;31m# 위도 위치의 평균\u001b[0m\u001b[0;34m\u001b[0m\u001b[0;34m\u001b[0m\u001b[0m\n\u001b[0m\u001b[1;32m      2\u001b[0m \u001b[0mlog_m\u001b[0m \u001b[0;34m=\u001b[0m \u001b[0mdat_part\u001b[0m\u001b[0;34m[\u001b[0m\u001b[0;34m'longitude'\u001b[0m\u001b[0;34m]\u001b[0m\u001b[0;34m.\u001b[0m\u001b[0mmean\u001b[0m\u001b[0;34m(\u001b[0m\u001b[0;34m)\u001b[0m \u001b[0;31m# 경도 위치의 평균\u001b[0m\u001b[0;34m\u001b[0m\u001b[0;34m\u001b[0m\u001b[0m\n\u001b[1;32m      3\u001b[0m \u001b[0mrooms_m\u001b[0m \u001b[0;34m=\u001b[0m \u001b[0mdat_part\u001b[0m\u001b[0;34m[\u001b[0m\u001b[0;34m'total_rooms'\u001b[0m\u001b[0;34m]\u001b[0m\u001b[0;34m.\u001b[0m\u001b[0mmean\u001b[0m\u001b[0;34m(\u001b[0m\u001b[0;34m)\u001b[0m \u001b[0;31m# 총 방수의 평균\u001b[0m\u001b[0;34m\u001b[0m\u001b[0;34m\u001b[0m\u001b[0m\n\u001b[1;32m      4\u001b[0m \u001b[0mpop_m\u001b[0m \u001b[0;34m=\u001b[0m \u001b[0mdat_part\u001b[0m\u001b[0;34m[\u001b[0m\u001b[0;34m'population'\u001b[0m\u001b[0;34m]\u001b[0m\u001b[0;34m.\u001b[0m\u001b[0mmean\u001b[0m\u001b[0;34m(\u001b[0m\u001b[0;34m)\u001b[0m \u001b[0;31m# 인구의 평균\u001b[0m\u001b[0;34m\u001b[0m\u001b[0;34m\u001b[0m\u001b[0m\n\u001b[1;32m      5\u001b[0m \u001b[0;34m\u001b[0m\u001b[0m\n",
            "\u001b[0;32m/usr/local/lib/python3.6/dist-packages/pandas/core/frame.py\u001b[0m in \u001b[0;36m__getitem__\u001b[0;34m(self, key)\u001b[0m\n\u001b[1;32m   2993\u001b[0m             \u001b[0;32mif\u001b[0m \u001b[0mself\u001b[0m\u001b[0;34m.\u001b[0m\u001b[0mcolumns\u001b[0m\u001b[0;34m.\u001b[0m\u001b[0mnlevels\u001b[0m \u001b[0;34m>\u001b[0m \u001b[0;36m1\u001b[0m\u001b[0;34m:\u001b[0m\u001b[0;34m\u001b[0m\u001b[0;34m\u001b[0m\u001b[0m\n\u001b[1;32m   2994\u001b[0m                 \u001b[0;32mreturn\u001b[0m \u001b[0mself\u001b[0m\u001b[0;34m.\u001b[0m\u001b[0m_getitem_multilevel\u001b[0m\u001b[0;34m(\u001b[0m\u001b[0mkey\u001b[0m\u001b[0;34m)\u001b[0m\u001b[0;34m\u001b[0m\u001b[0;34m\u001b[0m\u001b[0m\n\u001b[0;32m-> 2995\u001b[0;31m             \u001b[0mindexer\u001b[0m \u001b[0;34m=\u001b[0m \u001b[0mself\u001b[0m\u001b[0;34m.\u001b[0m\u001b[0mcolumns\u001b[0m\u001b[0;34m.\u001b[0m\u001b[0mget_loc\u001b[0m\u001b[0;34m(\u001b[0m\u001b[0mkey\u001b[0m\u001b[0;34m)\u001b[0m\u001b[0;34m\u001b[0m\u001b[0;34m\u001b[0m\u001b[0m\n\u001b[0m\u001b[1;32m   2996\u001b[0m             \u001b[0;32mif\u001b[0m \u001b[0mis_integer\u001b[0m\u001b[0;34m(\u001b[0m\u001b[0mindexer\u001b[0m\u001b[0;34m)\u001b[0m\u001b[0;34m:\u001b[0m\u001b[0;34m\u001b[0m\u001b[0;34m\u001b[0m\u001b[0m\n\u001b[1;32m   2997\u001b[0m                 \u001b[0mindexer\u001b[0m \u001b[0;34m=\u001b[0m \u001b[0;34m[\u001b[0m\u001b[0mindexer\u001b[0m\u001b[0;34m]\u001b[0m\u001b[0;34m\u001b[0m\u001b[0;34m\u001b[0m\u001b[0m\n",
            "\u001b[0;32m/usr/local/lib/python3.6/dist-packages/pandas/core/indexes/base.py\u001b[0m in \u001b[0;36mget_loc\u001b[0;34m(self, key, method, tolerance)\u001b[0m\n\u001b[1;32m   2897\u001b[0m                 \u001b[0;32mreturn\u001b[0m \u001b[0mself\u001b[0m\u001b[0;34m.\u001b[0m\u001b[0m_engine\u001b[0m\u001b[0;34m.\u001b[0m\u001b[0mget_loc\u001b[0m\u001b[0;34m(\u001b[0m\u001b[0mkey\u001b[0m\u001b[0;34m)\u001b[0m\u001b[0;34m\u001b[0m\u001b[0;34m\u001b[0m\u001b[0m\n\u001b[1;32m   2898\u001b[0m             \u001b[0;32mexcept\u001b[0m \u001b[0mKeyError\u001b[0m\u001b[0;34m:\u001b[0m\u001b[0;34m\u001b[0m\u001b[0;34m\u001b[0m\u001b[0m\n\u001b[0;32m-> 2899\u001b[0;31m                 \u001b[0;32mreturn\u001b[0m \u001b[0mself\u001b[0m\u001b[0;34m.\u001b[0m\u001b[0m_engine\u001b[0m\u001b[0;34m.\u001b[0m\u001b[0mget_loc\u001b[0m\u001b[0;34m(\u001b[0m\u001b[0mself\u001b[0m\u001b[0;34m.\u001b[0m\u001b[0m_maybe_cast_indexer\u001b[0m\u001b[0;34m(\u001b[0m\u001b[0mkey\u001b[0m\u001b[0;34m)\u001b[0m\u001b[0;34m)\u001b[0m\u001b[0;34m\u001b[0m\u001b[0;34m\u001b[0m\u001b[0m\n\u001b[0m\u001b[1;32m   2900\u001b[0m         \u001b[0mindexer\u001b[0m \u001b[0;34m=\u001b[0m \u001b[0mself\u001b[0m\u001b[0;34m.\u001b[0m\u001b[0mget_indexer\u001b[0m\u001b[0;34m(\u001b[0m\u001b[0;34m[\u001b[0m\u001b[0mkey\u001b[0m\u001b[0;34m]\u001b[0m\u001b[0;34m,\u001b[0m \u001b[0mmethod\u001b[0m\u001b[0;34m=\u001b[0m\u001b[0mmethod\u001b[0m\u001b[0;34m,\u001b[0m \u001b[0mtolerance\u001b[0m\u001b[0;34m=\u001b[0m\u001b[0mtolerance\u001b[0m\u001b[0;34m)\u001b[0m\u001b[0;34m\u001b[0m\u001b[0;34m\u001b[0m\u001b[0m\n\u001b[1;32m   2901\u001b[0m         \u001b[0;32mif\u001b[0m \u001b[0mindexer\u001b[0m\u001b[0;34m.\u001b[0m\u001b[0mndim\u001b[0m \u001b[0;34m>\u001b[0m \u001b[0;36m1\u001b[0m \u001b[0;32mor\u001b[0m \u001b[0mindexer\u001b[0m\u001b[0;34m.\u001b[0m\u001b[0msize\u001b[0m \u001b[0;34m>\u001b[0m \u001b[0;36m1\u001b[0m\u001b[0;34m:\u001b[0m\u001b[0;34m\u001b[0m\u001b[0;34m\u001b[0m\u001b[0m\n",
            "\u001b[0;32mpandas/_libs/index.pyx\u001b[0m in \u001b[0;36mpandas._libs.index.IndexEngine.get_loc\u001b[0;34m()\u001b[0m\n",
            "\u001b[0;32mpandas/_libs/index.pyx\u001b[0m in \u001b[0;36mpandas._libs.index.IndexEngine.get_loc\u001b[0;34m()\u001b[0m\n",
            "\u001b[0;32mpandas/_libs/hashtable_class_helper.pxi\u001b[0m in \u001b[0;36mpandas._libs.hashtable.PyObjectHashTable.get_item\u001b[0;34m()\u001b[0m\n",
            "\u001b[0;32mpandas/_libs/hashtable_class_helper.pxi\u001b[0m in \u001b[0;36mpandas._libs.hashtable.PyObjectHashTable.get_item\u001b[0;34m()\u001b[0m\n",
            "\u001b[0;31mKeyError\u001b[0m: 'latitude'"
          ]
        }
      ]
    },
    {
      "cell_type": "code",
      "metadata": {
        "id": "quT99OKLdV_x",
        "colab_type": "code",
        "outputId": "8e9035de-96a5-40fd-d237-6d36a42728f9",
        "colab": {
          "base_uri": "https://localhost:8080/",
          "height": 34
        }
      },
      "source": [
        "## 컬럼명 변경\n",
        "dat_part.columns = ['long', 'lat', 'tot_rooms', 'pop']\n",
        "dat_part.columns"
      ],
      "execution_count": 45,
      "outputs": [
        {
          "output_type": "execute_result",
          "data": {
            "text/plain": [
              "Index(['long', 'lat', 'tot_rooms', 'pop'], dtype='object')"
            ]
          },
          "metadata": {
            "tags": []
          },
          "execution_count": 45
        }
      ]
    },
    {
      "cell_type": "code",
      "metadata": {
        "id": "QsaYOrCmr0Kn",
        "colab_type": "code",
        "outputId": "0af3e7c0-59c0-423e-8e16-5df46d75141b",
        "colab": {
          "base_uri": "https://localhost:8080/",
          "height": 284
        }
      },
      "source": [
        "df = dat_part.copy()\n",
        "df.describe()"
      ],
      "execution_count": 46,
      "outputs": [
        {
          "output_type": "execute_result",
          "data": {
            "text/html": [
              "<div>\n",
              "<style scoped>\n",
              "    .dataframe tbody tr th:only-of-type {\n",
              "        vertical-align: middle;\n",
              "    }\n",
              "\n",
              "    .dataframe tbody tr th {\n",
              "        vertical-align: top;\n",
              "    }\n",
              "\n",
              "    .dataframe thead th {\n",
              "        text-align: right;\n",
              "    }\n",
              "</style>\n",
              "<table border=\"1\" class=\"dataframe\">\n",
              "  <thead>\n",
              "    <tr style=\"text-align: right;\">\n",
              "      <th></th>\n",
              "      <th>long</th>\n",
              "      <th>lat</th>\n",
              "      <th>tot_rooms</th>\n",
              "      <th>pop</th>\n",
              "    </tr>\n",
              "  </thead>\n",
              "  <tbody>\n",
              "    <tr>\n",
              "      <th>count</th>\n",
              "      <td>10.000000</td>\n",
              "      <td>10.000000</td>\n",
              "      <td>10.000000</td>\n",
              "      <td>10.000000</td>\n",
              "    </tr>\n",
              "    <tr>\n",
              "      <th>mean</th>\n",
              "      <td>-114.542000</td>\n",
              "      <td>34.000000</td>\n",
              "      <td>2832.900000</td>\n",
              "      <td>1042.400000</td>\n",
              "    </tr>\n",
              "    <tr>\n",
              "      <th>std</th>\n",
              "      <td>0.089294</td>\n",
              "      <td>0.519145</td>\n",
              "      <td>2377.174534</td>\n",
              "      <td>858.024242</td>\n",
              "    </tr>\n",
              "    <tr>\n",
              "      <th>min</th>\n",
              "      <td>-114.600000</td>\n",
              "      <td>33.570000</td>\n",
              "      <td>720.000000</td>\n",
              "      <td>333.000000</td>\n",
              "    </tr>\n",
              "    <tr>\n",
              "      <th>25%</th>\n",
              "      <td>-114.587500</td>\n",
              "      <td>33.615000</td>\n",
              "      <td>1403.750000</td>\n",
              "      <td>542.250000</td>\n",
              "    </tr>\n",
              "    <tr>\n",
              "      <th>50%</th>\n",
              "      <td>-114.575000</td>\n",
              "      <td>33.665000</td>\n",
              "      <td>1499.000000</td>\n",
              "      <td>729.000000</td>\n",
              "    </tr>\n",
              "    <tr>\n",
              "      <th>75%</th>\n",
              "      <td>-114.562500</td>\n",
              "      <td>34.347500</td>\n",
              "      <td>4318.500000</td>\n",
              "      <td>1100.500000</td>\n",
              "    </tr>\n",
              "    <tr>\n",
              "      <th>max</th>\n",
              "      <td>-114.310000</td>\n",
              "      <td>34.830000</td>\n",
              "      <td>7650.000000</td>\n",
              "      <td>3134.000000</td>\n",
              "    </tr>\n",
              "  </tbody>\n",
              "</table>\n",
              "</div>"
            ],
            "text/plain": [
              "             long        lat    tot_rooms          pop\n",
              "count   10.000000  10.000000    10.000000    10.000000\n",
              "mean  -114.542000  34.000000  2832.900000  1042.400000\n",
              "std      0.089294   0.519145  2377.174534   858.024242\n",
              "min   -114.600000  33.570000   720.000000   333.000000\n",
              "25%   -114.587500  33.615000  1403.750000   542.250000\n",
              "50%   -114.575000  33.665000  1499.000000   729.000000\n",
              "75%   -114.562500  34.347500  4318.500000  1100.500000\n",
              "max   -114.310000  34.830000  7650.000000  3134.000000"
            ]
          },
          "metadata": {
            "tags": []
          },
          "execution_count": 46
        }
      ]
    },
    {
      "cell_type": "code",
      "metadata": {
        "id": "ISkxSHNsdycx",
        "colab_type": "code",
        "colab": {}
      },
      "source": [
        "# 여러개의 데이터 표시\n",
        "# 데이터 셋 복사 및 컬럼명 변경\n",
        "df = dat_part.copy()\n",
        "df.columns = ['long', 'lat', 'tot_rooms', 'pop']\n",
        "map2 = folium.Map(location=[lat_m, log_m], zoom_start=9)\n",
        "\n",
        "# 추후 색 지정을 위한 함수\n",
        "def color(pop_num): \n",
        "    if pop_num in range(0,1000): \n",
        "        col = 'green'\n",
        "    elif pop_num in range(1001,1999): \n",
        "        col = 'blue'\n",
        "    elif pop_num in range(2000,2999): \n",
        "        col = 'orange'\n",
        "    else: \n",
        "        col='red'\n",
        "    return col"
      ],
      "execution_count": 0,
      "outputs": []
    },
    {
      "cell_type": "code",
      "metadata": {
        "id": "m6Tmh1NPoFo1",
        "colab_type": "code",
        "outputId": "11172d59-49d0-4e4e-d2bd-fdcd03276a07",
        "colab": {
          "base_uri": "https://localhost:8080/",
          "height": 694
        }
      },
      "source": [
        "for lat,lan,room,pop in zip(df['lat'],df['long'],df['tot_rooms'],df['pop']): \n",
        "    # as a list as an argument \n",
        "    folium.Marker(location=[lat,lan],popup = \"room:\" + str(room), \n",
        "                  icon= folium.Icon(color=color(pop), \n",
        "                  icon_color='yellow',icon = 'cloud')).add_to(map2) \n",
        "\n",
        "\n",
        "# Save the file created above \n",
        "map2.save('test7.html')\n",
        "map2"
      ],
      "execution_count": 48,
      "outputs": [
        {
          "output_type": "execute_result",
          "data": {
            "text/html": [
              "<div style=\"width:100%;\"><div style=\"position:relative;width:100%;height:0;padding-bottom:60%;\"><iframe src=\"about:blank\" style=\"position:absolute;width:100%;height:100%;left:0;top:0;border:none !important;\" data-html=PCFET0NUWVBFIGh0bWw+CjxoZWFkPiAgICAKICAgIDxtZXRhIGh0dHAtZXF1aXY9ImNvbnRlbnQtdHlwZSIgY29udGVudD0idGV4dC9odG1sOyBjaGFyc2V0PVVURi04IiAvPgogICAgPHNjcmlwdD5MX1BSRUZFUl9DQU5WQVM9ZmFsc2U7IExfTk9fVE9VQ0g9ZmFsc2U7IExfRElTQUJMRV8zRD1mYWxzZTs8L3NjcmlwdD4KICAgIDxzY3JpcHQgc3JjPSJodHRwczovL2Nkbi5qc2RlbGl2ci5uZXQvbnBtL2xlYWZsZXRAMS40LjAvZGlzdC9sZWFmbGV0LmpzIj48L3NjcmlwdD4KICAgIDxzY3JpcHQgc3JjPSJodHRwczovL2NvZGUuanF1ZXJ5LmNvbS9qcXVlcnktMS4xMi40Lm1pbi5qcyI+PC9zY3JpcHQ+CiAgICA8c2NyaXB0IHNyYz0iaHR0cHM6Ly9tYXhjZG4uYm9vdHN0cmFwY2RuLmNvbS9ib290c3RyYXAvMy4yLjAvanMvYm9vdHN0cmFwLm1pbi5qcyI+PC9zY3JpcHQ+CiAgICA8c2NyaXB0IHNyYz0iaHR0cHM6Ly9jZG5qcy5jbG91ZGZsYXJlLmNvbS9hamF4L2xpYnMvTGVhZmxldC5hd2Vzb21lLW1hcmtlcnMvMi4wLjIvbGVhZmxldC5hd2Vzb21lLW1hcmtlcnMuanMiPjwvc2NyaXB0PgogICAgPGxpbmsgcmVsPSJzdHlsZXNoZWV0IiBocmVmPSJodHRwczovL2Nkbi5qc2RlbGl2ci5uZXQvbnBtL2xlYWZsZXRAMS40LjAvZGlzdC9sZWFmbGV0LmNzcyIvPgogICAgPGxpbmsgcmVsPSJzdHlsZXNoZWV0IiBocmVmPSJodHRwczovL21heGNkbi5ib290c3RyYXBjZG4uY29tL2Jvb3RzdHJhcC8zLjIuMC9jc3MvYm9vdHN0cmFwLm1pbi5jc3MiLz4KICAgIDxsaW5rIHJlbD0ic3R5bGVzaGVldCIgaHJlZj0iaHR0cHM6Ly9tYXhjZG4uYm9vdHN0cmFwY2RuLmNvbS9ib290c3RyYXAvMy4yLjAvY3NzL2Jvb3RzdHJhcC10aGVtZS5taW4uY3NzIi8+CiAgICA8bGluayByZWw9InN0eWxlc2hlZXQiIGhyZWY9Imh0dHBzOi8vbWF4Y2RuLmJvb3RzdHJhcGNkbi5jb20vZm9udC1hd2Vzb21lLzQuNi4zL2Nzcy9mb250LWF3ZXNvbWUubWluLmNzcyIvPgogICAgPGxpbmsgcmVsPSJzdHlsZXNoZWV0IiBocmVmPSJodHRwczovL2NkbmpzLmNsb3VkZmxhcmUuY29tL2FqYXgvbGlicy9MZWFmbGV0LmF3ZXNvbWUtbWFya2Vycy8yLjAuMi9sZWFmbGV0LmF3ZXNvbWUtbWFya2Vycy5jc3MiLz4KICAgIDxsaW5rIHJlbD0ic3R5bGVzaGVldCIgaHJlZj0iaHR0cHM6Ly9yYXdjZG4uZ2l0aGFjay5jb20vcHl0aG9uLXZpc3VhbGl6YXRpb24vZm9saXVtL21hc3Rlci9mb2xpdW0vdGVtcGxhdGVzL2xlYWZsZXQuYXdlc29tZS5yb3RhdGUuY3NzIi8+CiAgICA8c3R5bGU+aHRtbCwgYm9keSB7d2lkdGg6IDEwMCU7aGVpZ2h0OiAxMDAlO21hcmdpbjogMDtwYWRkaW5nOiAwO308L3N0eWxlPgogICAgPHN0eWxlPiNtYXAge3Bvc2l0aW9uOmFic29sdXRlO3RvcDowO2JvdHRvbTowO3JpZ2h0OjA7bGVmdDowO308L3N0eWxlPgogICAgCiAgICA8bWV0YSBuYW1lPSJ2aWV3cG9ydCIgY29udGVudD0id2lkdGg9ZGV2aWNlLXdpZHRoLAogICAgICAgIGluaXRpYWwtc2NhbGU9MS4wLCBtYXhpbXVtLXNjYWxlPTEuMCwgdXNlci1zY2FsYWJsZT1ubyIgLz4KICAgIDxzdHlsZT4jbWFwXzdhYmUzNjI5MzY4NzQ3MTU4MDk0YTM5NGQwMWZlZTkyIHsKICAgICAgICBwb3NpdGlvbjogcmVsYXRpdmU7CiAgICAgICAgd2lkdGg6IDEwMC4wJTsKICAgICAgICBoZWlnaHQ6IDEwMC4wJTsKICAgICAgICBsZWZ0OiAwLjAlOwogICAgICAgIHRvcDogMC4wJTsKICAgICAgICB9CiAgICA8L3N0eWxlPgo8L2hlYWQ+Cjxib2R5PiAgICAKICAgIAogICAgPGRpdiBjbGFzcz0iZm9saXVtLW1hcCIgaWQ9Im1hcF83YWJlMzYyOTM2ODc0NzE1ODA5NGEzOTRkMDFmZWU5MiIgPjwvZGl2Pgo8L2JvZHk+CjxzY3JpcHQ+ICAgIAogICAgCiAgICAKICAgICAgICB2YXIgYm91bmRzID0gbnVsbDsKICAgIAoKICAgIHZhciBtYXBfN2FiZTM2MjkzNjg3NDcxNTgwOTRhMzk0ZDAxZmVlOTIgPSBMLm1hcCgKICAgICAgICAnbWFwXzdhYmUzNjI5MzY4NzQ3MTU4MDk0YTM5NGQwMWZlZTkyJywgewogICAgICAgIGNlbnRlcjogWzM0LjAsIC0xMTQuNTQyXSwKICAgICAgICB6b29tOiA5LAogICAgICAgIG1heEJvdW5kczogYm91bmRzLAogICAgICAgIGxheWVyczogW10sCiAgICAgICAgd29ybGRDb3B5SnVtcDogZmFsc2UsCiAgICAgICAgY3JzOiBMLkNSUy5FUFNHMzg1NywKICAgICAgICB6b29tQ29udHJvbDogdHJ1ZSwKICAgICAgICB9KTsKCgogICAgCiAgICB2YXIgdGlsZV9sYXllcl9jZWZiMDE0MjE1ODA0ZTU4OWVkMTBkZTgwYTczNGQyNCA9IEwudGlsZUxheWVyKAogICAgICAgICdodHRwczovL3tzfS50aWxlLm9wZW5zdHJlZXRtYXAub3JnL3t6fS97eH0ve3l9LnBuZycsCiAgICAgICAgewogICAgICAgICJhdHRyaWJ1dGlvbiI6IG51bGwsCiAgICAgICAgImRldGVjdFJldGluYSI6IGZhbHNlLAogICAgICAgICJtYXhOYXRpdmVab29tIjogMTgsCiAgICAgICAgIm1heFpvb20iOiAxOCwKICAgICAgICAibWluWm9vbSI6IDAsCiAgICAgICAgIm5vV3JhcCI6IGZhbHNlLAogICAgICAgICJvcGFjaXR5IjogMSwKICAgICAgICAic3ViZG9tYWlucyI6ICJhYmMiLAogICAgICAgICJ0bXMiOiBmYWxzZQp9KS5hZGRUbyhtYXBfN2FiZTM2MjkzNjg3NDcxNTgwOTRhMzk0ZDAxZmVlOTIpOwogICAgCiAgICAgICAgdmFyIG1hcmtlcl8wZmI1YTU3NzkzOTg0NDIxOWU1NzVkNzI2OTQwMWMxMSA9IEwubWFya2VyKAogICAgICAgICAgICBbMzQuMTksIC0xMTQuMzFdLAogICAgICAgICAgICB7CiAgICAgICAgICAgICAgICBpY29uOiBuZXcgTC5JY29uLkRlZmF1bHQoKSwKICAgICAgICAgICAgICAgIH0KICAgICAgICAgICAgKS5hZGRUbyhtYXBfN2FiZTM2MjkzNjg3NDcxNTgwOTRhMzk0ZDAxZmVlOTIpOwogICAgICAgIAogICAgCgogICAgICAgICAgICAgICAgdmFyIGljb25fMTI5MmM4MTIwMWZlNDFmZjhhMWQ4NmVkMzc1ZGY3ZmIgPSBMLkF3ZXNvbWVNYXJrZXJzLmljb24oewogICAgICAgICAgICAgICAgICAgIGljb246ICdjbG91ZCcsCiAgICAgICAgICAgICAgICAgICAgaWNvbkNvbG9yOiAneWVsbG93JywKICAgICAgICAgICAgICAgICAgICBtYXJrZXJDb2xvcjogJ2JsdWUnLAogICAgICAgICAgICAgICAgICAgIHByZWZpeDogJ2dseXBoaWNvbicsCiAgICAgICAgICAgICAgICAgICAgZXh0cmFDbGFzc2VzOiAnZmEtcm90YXRlLTAnCiAgICAgICAgICAgICAgICAgICAgfSk7CiAgICAgICAgICAgICAgICBtYXJrZXJfMGZiNWE1Nzc5Mzk4NDQyMTllNTc1ZDcyNjk0MDFjMTEuc2V0SWNvbihpY29uXzEyOTJjODEyMDFmZTQxZmY4YTFkODZlZDM3NWRmN2ZiKTsKICAgICAgICAgICAgCiAgICAKICAgICAgICAgICAgdmFyIHBvcHVwXzdjZmQzYjFmZWE1NzQ3ZTA5NjY0NDY5NGE2YWMwNDdiID0gTC5wb3B1cCh7bWF4V2lkdGg6ICcxMDAlJwogICAgICAgICAgICAKICAgICAgICAgICAgfSk7CgogICAgICAgICAgICAKICAgICAgICAgICAgICAgIHZhciBodG1sXzQwZGYxMDAyNzU3ZDQwYTJhNDgzZmY2Yjc1N2Q3YTY3ID0gJChgPGRpdiBpZD0iaHRtbF80MGRmMTAwMjc1N2Q0MGEyYTQ4M2ZmNmI3NTdkN2E2NyIgc3R5bGU9IndpZHRoOiAxMDAuMCU7IGhlaWdodDogMTAwLjAlOyI+cm9vbTo1NjEyLjA8L2Rpdj5gKVswXTsKICAgICAgICAgICAgICAgIHBvcHVwXzdjZmQzYjFmZWE1NzQ3ZTA5NjY0NDY5NGE2YWMwNDdiLnNldENvbnRlbnQoaHRtbF80MGRmMTAwMjc1N2Q0MGEyYTQ4M2ZmNmI3NTdkN2E2Nyk7CiAgICAgICAgICAgIAoKICAgICAgICAgICAgbWFya2VyXzBmYjVhNTc3OTM5ODQ0MjE5ZTU3NWQ3MjY5NDAxYzExLmJpbmRQb3B1cChwb3B1cF83Y2ZkM2IxZmVhNTc0N2UwOTY2NDQ2OTRhNmFjMDQ3YikKICAgICAgICAgICAgOwoKICAgICAgICAgICAgCiAgICAgICAgCiAgICAKICAgICAgICB2YXIgbWFya2VyX2NjMWM2ZGQzNzFhMTQ5NzU5MjJmOTYxZGIwNTY3ZDU0ID0gTC5tYXJrZXIoCiAgICAgICAgICAgIFszNC40LCAtMTE0LjQ3XSwKICAgICAgICAgICAgewogICAgICAgICAgICAgICAgaWNvbjogbmV3IEwuSWNvbi5EZWZhdWx0KCksCiAgICAgICAgICAgICAgICB9CiAgICAgICAgICAgICkuYWRkVG8obWFwXzdhYmUzNjI5MzY4NzQ3MTU4MDk0YTM5NGQwMWZlZTkyKTsKICAgICAgICAKICAgIAoKICAgICAgICAgICAgICAgIHZhciBpY29uX2EzZTMyZWExOTBlNDQzMDZhM2I3YThkZjQ5Y2MyYTFhID0gTC5Bd2Vzb21lTWFya2Vycy5pY29uKHsKICAgICAgICAgICAgICAgICAgICBpY29uOiAnY2xvdWQnLAogICAgICAgICAgICAgICAgICAgIGljb25Db2xvcjogJ3llbGxvdycsCiAgICAgICAgICAgICAgICAgICAgbWFya2VyQ29sb3I6ICdibHVlJywKICAgICAgICAgICAgICAgICAgICBwcmVmaXg6ICdnbHlwaGljb24nLAogICAgICAgICAgICAgICAgICAgIGV4dHJhQ2xhc3NlczogJ2ZhLXJvdGF0ZS0wJwogICAgICAgICAgICAgICAgICAgIH0pOwogICAgICAgICAgICAgICAgbWFya2VyX2NjMWM2ZGQzNzFhMTQ5NzU5MjJmOTYxZGIwNTY3ZDU0LnNldEljb24oaWNvbl9hM2UzMmVhMTkwZTQ0MzA2YTNiN2E4ZGY0OWNjMmExYSk7CiAgICAgICAgICAgIAogICAgCiAgICAgICAgICAgIHZhciBwb3B1cF85ODU2OWU4MDIzZjM0OWQ4YjY2YjY4MDIzZTA1YjAyYiA9IEwucG9wdXAoe21heFdpZHRoOiAnMTAwJScKICAgICAgICAgICAgCiAgICAgICAgICAgIH0pOwoKICAgICAgICAgICAgCiAgICAgICAgICAgICAgICB2YXIgaHRtbF82OTc1MGU1ZjkzMWE0YzE1OGYyMmRiNTNhZTI4ZDE3ZSA9ICQoYDxkaXYgaWQ9Imh0bWxfNjk3NTBlNWY5MzFhNGMxNThmMjJkYjUzYWUyOGQxN2UiIHN0eWxlPSJ3aWR0aDogMTAwLjAlOyBoZWlnaHQ6IDEwMC4wJTsiPnJvb206NzY1MC4wPC9kaXY+YClbMF07CiAgICAgICAgICAgICAgICBwb3B1cF85ODU2OWU4MDIzZjM0OWQ4YjY2YjY4MDIzZTA1YjAyYi5zZXRDb250ZW50KGh0bWxfNjk3NTBlNWY5MzFhNGMxNThmMjJkYjUzYWUyOGQxN2UpOwogICAgICAgICAgICAKCiAgICAgICAgICAgIG1hcmtlcl9jYzFjNmRkMzcxYTE0OTc1OTIyZjk2MWRiMDU2N2Q1NC5iaW5kUG9wdXAocG9wdXBfOTg1NjllODAyM2YzNDlkOGI2NmI2ODAyM2UwNWIwMmIpCiAgICAgICAgICAgIDsKCiAgICAgICAgICAgIAogICAgICAgIAogICAgCiAgICAgICAgdmFyIG1hcmtlcl83MmRlNWExMTIyNjM0Y2VlOTAzOTA2ODgzNjE4OGJjNyA9IEwubWFya2VyKAogICAgICAgICAgICBbMzMuNjksIC0xMTQuNTZdLAogICAgICAgICAgICB7CiAgICAgICAgICAgICAgICBpY29uOiBuZXcgTC5JY29uLkRlZmF1bHQoKSwKICAgICAgICAgICAgICAgIH0KICAgICAgICAgICAgKS5hZGRUbyhtYXBfN2FiZTM2MjkzNjg3NDcxNTgwOTRhMzk0ZDAxZmVlOTIpOwogICAgICAgIAogICAgCgogICAgICAgICAgICAgICAgdmFyIGljb25fNjBiNGY5ZjQ3MTBiNDYxY2JlY2M2YTYwZjgwNDcyMjYgPSBMLkF3ZXNvbWVNYXJrZXJzLmljb24oewogICAgICAgICAgICAgICAgICAgIGljb246ICdjbG91ZCcsCiAgICAgICAgICAgICAgICAgICAgaWNvbkNvbG9yOiAneWVsbG93JywKICAgICAgICAgICAgICAgICAgICBtYXJrZXJDb2xvcjogJ2dyZWVuJywKICAgICAgICAgICAgICAgICAgICBwcmVmaXg6ICdnbHlwaGljb24nLAogICAgICAgICAgICAgICAgICAgIGV4dHJhQ2xhc3NlczogJ2ZhLXJvdGF0ZS0wJwogICAgICAgICAgICAgICAgICAgIH0pOwogICAgICAgICAgICAgICAgbWFya2VyXzcyZGU1YTExMjI2MzRjZWU5MDM5MDY4ODM2MTg4YmM3LnNldEljb24oaWNvbl82MGI0ZjlmNDcxMGI0NjFjYmVjYzZhNjBmODA0NzIyNik7CiAgICAgICAgICAgIAogICAgCiAgICAgICAgICAgIHZhciBwb3B1cF9hMGU3ZWFhMmIxZjc0MDBkODhjODFhODgwYjRlOWI1MyA9IEwucG9wdXAoe21heFdpZHRoOiAnMTAwJScKICAgICAgICAgICAgCiAgICAgICAgICAgIH0pOwoKICAgICAgICAgICAgCiAgICAgICAgICAgICAgICB2YXIgaHRtbF9jNDY1NGYyNGEzOWY0MWNhYmQ0ZDk1MzExYWMwNjNkNiA9ICQoYDxkaXYgaWQ9Imh0bWxfYzQ2NTRmMjRhMzlmNDFjYWJkNGQ5NTMxMWFjMDYzZDYiIHN0eWxlPSJ3aWR0aDogMTAwLjAlOyBoZWlnaHQ6IDEwMC4wJTsiPnJvb206NzIwLjA8L2Rpdj5gKVswXTsKICAgICAgICAgICAgICAgIHBvcHVwX2EwZTdlYWEyYjFmNzQwMGQ4OGM4MWE4ODBiNGU5YjUzLnNldENvbnRlbnQoaHRtbF9jNDY1NGYyNGEzOWY0MWNhYmQ0ZDk1MzExYWMwNjNkNik7CiAgICAgICAgICAgIAoKICAgICAgICAgICAgbWFya2VyXzcyZGU1YTExMjI2MzRjZWU5MDM5MDY4ODM2MTg4YmM3LmJpbmRQb3B1cChwb3B1cF9hMGU3ZWFhMmIxZjc0MDBkODhjODFhODgwYjRlOWI1MykKICAgICAgICAgICAgOwoKICAgICAgICAgICAgCiAgICAgICAgCiAgICAKICAgICAgICB2YXIgbWFya2VyXzM0NjZmOWFkMTM2MTQwNzBiZmMxMmRlOTIxM2EzOTIyID0gTC5tYXJrZXIoCiAgICAgICAgICAgIFszMy42NCwgLTExNC41N10sCiAgICAgICAgICAgIHsKICAgICAgICAgICAgICAgIGljb246IG5ldyBMLkljb24uRGVmYXVsdCgpLAogICAgICAgICAgICAgICAgfQogICAgICAgICAgICApLmFkZFRvKG1hcF83YWJlMzYyOTM2ODc0NzE1ODA5NGEzOTRkMDFmZWU5Mik7CiAgICAgICAgCiAgICAKCiAgICAgICAgICAgICAgICB2YXIgaWNvbl9mMWU5NjE1YTNmZjE0MjgwYWFlNzM4ZjNhMWYzM2ZiZCA9IEwuQXdlc29tZU1hcmtlcnMuaWNvbih7CiAgICAgICAgICAgICAgICAgICAgaWNvbjogJ2Nsb3VkJywKICAgICAgICAgICAgICAgICAgICBpY29uQ29sb3I6ICd5ZWxsb3cnLAogICAgICAgICAgICAgICAgICAgIG1hcmtlckNvbG9yOiAnZ3JlZW4nLAogICAgICAgICAgICAgICAgICAgIHByZWZpeDogJ2dseXBoaWNvbicsCiAgICAgICAgICAgICAgICAgICAgZXh0cmFDbGFzc2VzOiAnZmEtcm90YXRlLTAnCiAgICAgICAgICAgICAgICAgICAgfSk7CiAgICAgICAgICAgICAgICBtYXJrZXJfMzQ2NmY5YWQxMzYxNDA3MGJmYzEyZGU5MjEzYTM5MjIuc2V0SWNvbihpY29uX2YxZTk2MTVhM2ZmMTQyODBhYWU3MzhmM2ExZjMzZmJkKTsKICAgICAgICAgICAgCiAgICAKICAgICAgICAgICAgdmFyIHBvcHVwXzkzY2U2NzBkZjA0YzQzOWI5NmZhMmMyMjIzYjk4ZTczID0gTC5wb3B1cCh7bWF4V2lkdGg6ICcxMDAlJwogICAgICAgICAgICAKICAgICAgICAgICAgfSk7CgogICAgICAgICAgICAKICAgICAgICAgICAgICAgIHZhciBodG1sXzIyMTE2Yjc1ZDUwODRlMTliMDdlYTU1M2QxMjJhNGQ0ID0gJChgPGRpdiBpZD0iaHRtbF8yMjExNmI3NWQ1MDg0ZTE5YjA3ZWE1NTNkMTIyYTRkNCIgc3R5bGU9IndpZHRoOiAxMDAuMCU7IGhlaWdodDogMTAwLjAlOyI+cm9vbToxNTAxLjA8L2Rpdj5gKVswXTsKICAgICAgICAgICAgICAgIHBvcHVwXzkzY2U2NzBkZjA0YzQzOWI5NmZhMmMyMjIzYjk4ZTczLnNldENvbnRlbnQoaHRtbF8yMjExNmI3NWQ1MDg0ZTE5YjA3ZWE1NTNkMTIyYTRkNCk7CiAgICAgICAgICAgIAoKICAgICAgICAgICAgbWFya2VyXzM0NjZmOWFkMTM2MTQwNzBiZmMxMmRlOTIxM2EzOTIyLmJpbmRQb3B1cChwb3B1cF85M2NlNjcwZGYwNGM0MzliOTZmYTJjMjIyM2I5OGU3MykKICAgICAgICAgICAgOwoKICAgICAgICAgICAgCiAgICAgICAgCiAgICAKICAgICAgICB2YXIgbWFya2VyXzRkNTNmMzZmNDIwZjQxNDJiMTlmMDQ0NjJiNjFhMzRmID0gTC5tYXJrZXIoCiAgICAgICAgICAgIFszMy41NywgLTExNC41N10sCiAgICAgICAgICAgIHsKICAgICAgICAgICAgICAgIGljb246IG5ldyBMLkljb24uRGVmYXVsdCgpLAogICAgICAgICAgICAgICAgfQogICAgICAgICAgICApLmFkZFRvKG1hcF83YWJlMzYyOTM2ODc0NzE1ODA5NGEzOTRkMDFmZWU5Mik7CiAgICAgICAgCiAgICAKCiAgICAgICAgICAgICAgICB2YXIgaWNvbl83NmVjOTYzMjE5M2Y0NGVmYmJmZjEwYzNhNzg1MTEyOCA9IEwuQXdlc29tZU1hcmtlcnMuaWNvbih7CiAgICAgICAgICAgICAgICAgICAgaWNvbjogJ2Nsb3VkJywKICAgICAgICAgICAgICAgICAgICBpY29uQ29sb3I6ICd5ZWxsb3cnLAogICAgICAgICAgICAgICAgICAgIG1hcmtlckNvbG9yOiAnZ3JlZW4nLAogICAgICAgICAgICAgICAgICAgIHByZWZpeDogJ2dseXBoaWNvbicsCiAgICAgICAgICAgICAgICAgICAgZXh0cmFDbGFzc2VzOiAnZmEtcm90YXRlLTAnCiAgICAgICAgICAgICAgICAgICAgfSk7CiAgICAgICAgICAgICAgICBtYXJrZXJfNGQ1M2YzNmY0MjBmNDE0MmIxOWYwNDQ2MmI2MWEzNGYuc2V0SWNvbihpY29uXzc2ZWM5NjMyMTkzZjQ0ZWZiYmZmMTBjM2E3ODUxMTI4KTsKICAgICAgICAgICAgCiAgICAKICAgICAgICAgICAgdmFyIHBvcHVwXzBhMTFiN2NlMzU4ZDQ3ZmNiZGY4YjcwYmZmYjRiODgwID0gTC5wb3B1cCh7bWF4V2lkdGg6ICcxMDAlJwogICAgICAgICAgICAKICAgICAgICAgICAgfSk7CgogICAgICAgICAgICAKICAgICAgICAgICAgICAgIHZhciBodG1sX2I0Mjg2ZTUxYWE0MzQyY2ViZGJhYzJhZDdhNGJhZjI2ID0gJChgPGRpdiBpZD0iaHRtbF9iNDI4NmU1MWFhNDM0MmNlYmRiYWMyYWQ3YTRiYWYyNiIgc3R5bGU9IndpZHRoOiAxMDAuMCU7IGhlaWdodDogMTAwLjAlOyI+cm9vbToxNDU0LjA8L2Rpdj5gKVswXTsKICAgICAgICAgICAgICAgIHBvcHVwXzBhMTFiN2NlMzU4ZDQ3ZmNiZGY4YjcwYmZmYjRiODgwLnNldENvbnRlbnQoaHRtbF9iNDI4NmU1MWFhNDM0MmNlYmRiYWMyYWQ3YTRiYWYyNik7CiAgICAgICAgICAgIAoKICAgICAgICAgICAgbWFya2VyXzRkNTNmMzZmNDIwZjQxNDJiMTlmMDQ0NjJiNjFhMzRmLmJpbmRQb3B1cChwb3B1cF8wYTExYjdjZTM1OGQ0N2ZjYmRmOGI3MGJmZmI0Yjg4MCkKICAgICAgICAgICAgOwoKICAgICAgICAgICAgCiAgICAgICAgCiAgICAKICAgICAgICB2YXIgbWFya2VyXzljMzgyNDFiODc2NDRmZGFiN2ZmY2ZkY2ZmYjE4NWU0ID0gTC5tYXJrZXIoCiAgICAgICAgICAgIFszMy42MywgLTExNC41OF0sCiAgICAgICAgICAgIHsKICAgICAgICAgICAgICAgIGljb246IG5ldyBMLkljb24uRGVmYXVsdCgpLAogICAgICAgICAgICAgICAgfQogICAgICAgICAgICApLmFkZFRvKG1hcF83YWJlMzYyOTM2ODc0NzE1ODA5NGEzOTRkMDFmZWU5Mik7CiAgICAgICAgCiAgICAKCiAgICAgICAgICAgICAgICB2YXIgaWNvbl81YmI3OTIyZGRjODI0YzkyYmJjYmU5OWU0Y2I4YTE1NCA9IEwuQXdlc29tZU1hcmtlcnMuaWNvbih7CiAgICAgICAgICAgICAgICAgICAgaWNvbjogJ2Nsb3VkJywKICAgICAgICAgICAgICAgICAgICBpY29uQ29sb3I6ICd5ZWxsb3cnLAogICAgICAgICAgICAgICAgICAgIG1hcmtlckNvbG9yOiAnZ3JlZW4nLAogICAgICAgICAgICAgICAgICAgIHByZWZpeDogJ2dseXBoaWNvbicsCiAgICAgICAgICAgICAgICAgICAgZXh0cmFDbGFzc2VzOiAnZmEtcm90YXRlLTAnCiAgICAgICAgICAgICAgICAgICAgfSk7CiAgICAgICAgICAgICAgICBtYXJrZXJfOWMzODI0MWI4NzY0NGZkYWI3ZmZjZmRjZmZiMTg1ZTQuc2V0SWNvbihpY29uXzViYjc5MjJkZGM4MjRjOTJiYmNiZTk5ZTRjYjhhMTU0KTsKICAgICAgICAgICAgCiAgICAKICAgICAgICAgICAgdmFyIHBvcHVwX2Y2MGFkMWQ5MjFhYzQ1NTU4ZGQwMTFkNGRkYTUwODllID0gTC5wb3B1cCh7bWF4V2lkdGg6ICcxMDAlJwogICAgICAgICAgICAKICAgICAgICAgICAgfSk7CgogICAgICAgICAgICAKICAgICAgICAgICAgICAgIHZhciBodG1sXzdmMzdlNWRjMDcwOTQzZWZiOGY1YTg0Yzg2ZDhkMmYzID0gJChgPGRpdiBpZD0iaHRtbF83ZjM3ZTVkYzA3MDk0M2VmYjhmNWE4NGM4NmQ4ZDJmMyIgc3R5bGU9IndpZHRoOiAxMDAuMCU7IGhlaWdodDogMTAwLjAlOyI+cm9vbToxMzg3LjA8L2Rpdj5gKVswXTsKICAgICAgICAgICAgICAgIHBvcHVwX2Y2MGFkMWQ5MjFhYzQ1NTU4ZGQwMTFkNGRkYTUwODllLnNldENvbnRlbnQoaHRtbF83ZjM3ZTVkYzA3MDk0M2VmYjhmNWE4NGM4NmQ4ZDJmMyk7CiAgICAgICAgICAgIAoKICAgICAgICAgICAgbWFya2VyXzljMzgyNDFiODc2NDRmZGFiN2ZmY2ZkY2ZmYjE4NWU0LmJpbmRQb3B1cChwb3B1cF9mNjBhZDFkOTIxYWM0NTU1OGRkMDExZDRkZGE1MDg5ZSkKICAgICAgICAgICAgOwoKICAgICAgICAgICAgCiAgICAgICAgCiAgICAKICAgICAgICB2YXIgbWFya2VyXzlmMWQ2OTRiNmI4OTQwNzhhMmU3MjNhODVmMzhhYjk0ID0gTC5tYXJrZXIoCiAgICAgICAgICAgIFszMy42MSwgLTExNC41OF0sCiAgICAgICAgICAgIHsKICAgICAgICAgICAgICAgIGljb246IG5ldyBMLkljb24uRGVmYXVsdCgpLAogICAgICAgICAgICAgICAgfQogICAgICAgICAgICApLmFkZFRvKG1hcF83YWJlMzYyOTM2ODc0NzE1ODA5NGEzOTRkMDFmZWU5Mik7CiAgICAgICAgCiAgICAKCiAgICAgICAgICAgICAgICB2YXIgaWNvbl8zNDdjZTgxOTcwNWE0MjdiOGY3YjYxOTllY2UyMWU5YiA9IEwuQXdlc29tZU1hcmtlcnMuaWNvbih7CiAgICAgICAgICAgICAgICAgICAgaWNvbjogJ2Nsb3VkJywKICAgICAgICAgICAgICAgICAgICBpY29uQ29sb3I6ICd5ZWxsb3cnLAogICAgICAgICAgICAgICAgICAgIG1hcmtlckNvbG9yOiAnYmx1ZScsCiAgICAgICAgICAgICAgICAgICAgcHJlZml4OiAnZ2x5cGhpY29uJywKICAgICAgICAgICAgICAgICAgICBleHRyYUNsYXNzZXM6ICdmYS1yb3RhdGUtMCcKICAgICAgICAgICAgICAgICAgICB9KTsKICAgICAgICAgICAgICAgIG1hcmtlcl85ZjFkNjk0YjZiODk0MDc4YTJlNzIzYTg1ZjM4YWI5NC5zZXRJY29uKGljb25fMzQ3Y2U4MTk3MDVhNDI3YjhmN2I2MTk5ZWNlMjFlOWIpOwogICAgICAgICAgICAKICAgIAogICAgICAgICAgICB2YXIgcG9wdXBfZDA0Y2EzNjM5NmVmNDY2M2EwMWM5ZDYxOWIxYzgwYjcgPSBMLnBvcHVwKHttYXhXaWR0aDogJzEwMCUnCiAgICAgICAgICAgIAogICAgICAgICAgICB9KTsKCiAgICAgICAgICAgIAogICAgICAgICAgICAgICAgdmFyIGh0bWxfMmY4YWQ4OWU5OTdkNDY4OWI2MDBhODUyOGNiNzEyZDUgPSAkKGA8ZGl2IGlkPSJodG1sXzJmOGFkODllOTk3ZDQ2ODliNjAwYTg1MjhjYjcxMmQ1IiBzdHlsZT0id2lkdGg6IDEwMC4wJTsgaGVpZ2h0OiAxMDAuMCU7Ij5yb29tOjI5MDcuMDwvZGl2PmApWzBdOwogICAgICAgICAgICAgICAgcG9wdXBfZDA0Y2EzNjM5NmVmNDY2M2EwMWM5ZDYxOWIxYzgwYjcuc2V0Q29udGVudChodG1sXzJmOGFkODllOTk3ZDQ2ODliNjAwYTg1MjhjYjcxMmQ1KTsKICAgICAgICAgICAgCgogICAgICAgICAgICBtYXJrZXJfOWYxZDY5NGI2Yjg5NDA3OGEyZTcyM2E4NWYzOGFiOTQuYmluZFBvcHVwKHBvcHVwX2QwNGNhMzYzOTZlZjQ2NjNhMDFjOWQ2MTliMWM4MGI3KQogICAgICAgICAgICA7CgogICAgICAgICAgICAKICAgICAgICAKICAgIAogICAgICAgIHZhciBtYXJrZXJfYWMzZGRlYjU2ZjYwNDQxYmJiOWViZWQxNTdmYTU1M2QgPSBMLm1hcmtlcigKICAgICAgICAgICAgWzM0LjgzLCAtMTE0LjU5XSwKICAgICAgICAgICAgewogICAgICAgICAgICAgICAgaWNvbjogbmV3IEwuSWNvbi5EZWZhdWx0KCksCiAgICAgICAgICAgICAgICB9CiAgICAgICAgICAgICkuYWRkVG8obWFwXzdhYmUzNjI5MzY4NzQ3MTU4MDk0YTM5NGQwMWZlZTkyKTsKICAgICAgICAKICAgIAoKICAgICAgICAgICAgICAgIHZhciBpY29uXzMwNTUxODE0YzIyNzQ5NmU4NWZkOTJhY2VkZTI2NGIzID0gTC5Bd2Vzb21lTWFya2Vycy5pY29uKHsKICAgICAgICAgICAgICAgICAgICBpY29uOiAnY2xvdWQnLAogICAgICAgICAgICAgICAgICAgIGljb25Db2xvcjogJ3llbGxvdycsCiAgICAgICAgICAgICAgICAgICAgbWFya2VyQ29sb3I6ICdncmVlbicsCiAgICAgICAgICAgICAgICAgICAgcHJlZml4OiAnZ2x5cGhpY29uJywKICAgICAgICAgICAgICAgICAgICBleHRyYUNsYXNzZXM6ICdmYS1yb3RhdGUtMCcKICAgICAgICAgICAgICAgICAgICB9KTsKICAgICAgICAgICAgICAgIG1hcmtlcl9hYzNkZGViNTZmNjA0NDFiYmI5ZWJlZDE1N2ZhNTUzZC5zZXRJY29uKGljb25fMzA1NTE4MTRjMjI3NDk2ZTg1ZmQ5MmFjZWRlMjY0YjMpOwogICAgICAgICAgICAKICAgIAogICAgICAgICAgICB2YXIgcG9wdXBfZjcyMGFhZmU3ZGY5NDAyYTkyODc5NTBkNGE3M2RlNTggPSBMLnBvcHVwKHttYXhXaWR0aDogJzEwMCUnCiAgICAgICAgICAgIAogICAgICAgICAgICB9KTsKCiAgICAgICAgICAgIAogICAgICAgICAgICAgICAgdmFyIGh0bWxfM2JkMTg4MTFlNzI2NDFmYjkzZjc4NDQ0ODEyOTU2ZjUgPSAkKGA8ZGl2IGlkPSJodG1sXzNiZDE4ODExZTcyNjQxZmI5M2Y3ODQ0NDgxMjk1NmY1IiBzdHlsZT0id2lkdGg6IDEwMC4wJTsgaGVpZ2h0OiAxMDAuMCU7Ij5yb29tOjgxMi4wPC9kaXY+YClbMF07CiAgICAgICAgICAgICAgICBwb3B1cF9mNzIwYWFmZTdkZjk0MDJhOTI4Nzk1MGQ0YTczZGU1OC5zZXRDb250ZW50KGh0bWxfM2JkMTg4MTFlNzI2NDFmYjkzZjc4NDQ0ODEyOTU2ZjUpOwogICAgICAgICAgICAKCiAgICAgICAgICAgIG1hcmtlcl9hYzNkZGViNTZmNjA0NDFiYmI5ZWJlZDE1N2ZhNTUzZC5iaW5kUG9wdXAocG9wdXBfZjcyMGFhZmU3ZGY5NDAyYTkyODc5NTBkNGE3M2RlNTgpCiAgICAgICAgICAgIDsKCiAgICAgICAgICAgIAogICAgICAgIAogICAgCiAgICAgICAgdmFyIG1hcmtlcl9hNGUwYTJjNjk2ZGE0NjZjYjU2YmViZjdjMmQxYzRiNyA9IEwubWFya2VyKAogICAgICAgICAgICBbMzMuNjEsIC0xMTQuNTldLAogICAgICAgICAgICB7CiAgICAgICAgICAgICAgICBpY29uOiBuZXcgTC5JY29uLkRlZmF1bHQoKSwKICAgICAgICAgICAgICAgIH0KICAgICAgICAgICAgKS5hZGRUbyhtYXBfN2FiZTM2MjkzNjg3NDcxNTgwOTRhMzk0ZDAxZmVlOTIpOwogICAgICAgIAogICAgCgogICAgICAgICAgICAgICAgdmFyIGljb25fMjUzYmZjMGI5YzZkNDk2N2EwM2UwMjE3NzlmOTQxNTkgPSBMLkF3ZXNvbWVNYXJrZXJzLmljb24oewogICAgICAgICAgICAgICAgICAgIGljb246ICdjbG91ZCcsCiAgICAgICAgICAgICAgICAgICAgaWNvbkNvbG9yOiAneWVsbG93JywKICAgICAgICAgICAgICAgICAgICBtYXJrZXJDb2xvcjogJ3JlZCcsCiAgICAgICAgICAgICAgICAgICAgcHJlZml4OiAnZ2x5cGhpY29uJywKICAgICAgICAgICAgICAgICAgICBleHRyYUNsYXNzZXM6ICdmYS1yb3RhdGUtMCcKICAgICAgICAgICAgICAgICAgICB9KTsKICAgICAgICAgICAgICAgIG1hcmtlcl9hNGUwYTJjNjk2ZGE0NjZjYjU2YmViZjdjMmQxYzRiNy5zZXRJY29uKGljb25fMjUzYmZjMGI5YzZkNDk2N2EwM2UwMjE3NzlmOTQxNTkpOwogICAgICAgICAgICAKICAgIAogICAgICAgICAgICB2YXIgcG9wdXBfZjAxMzllOWUwZGNlNDQ0MWE1YjQ0MTdhODA3ZGM1OGQgPSBMLnBvcHVwKHttYXhXaWR0aDogJzEwMCUnCiAgICAgICAgICAgIAogICAgICAgICAgICB9KTsKCiAgICAgICAgICAgIAogICAgICAgICAgICAgICAgdmFyIGh0bWxfZTY0MTNmMzI2OTgzNDRmYWJhZWE1ZTc3OTkyZDg4ZjcgPSAkKGA8ZGl2IGlkPSJodG1sX2U2NDEzZjMyNjk4MzQ0ZmFiYWVhNWU3Nzk5MmQ4OGY3IiBzdHlsZT0id2lkdGg6IDEwMC4wJTsgaGVpZ2h0OiAxMDAuMCU7Ij5yb29tOjQ3ODkuMDwvZGl2PmApWzBdOwogICAgICAgICAgICAgICAgcG9wdXBfZjAxMzllOWUwZGNlNDQ0MWE1YjQ0MTdhODA3ZGM1OGQuc2V0Q29udGVudChodG1sX2U2NDEzZjMyNjk4MzQ0ZmFiYWVhNWU3Nzk5MmQ4OGY3KTsKICAgICAgICAgICAgCgogICAgICAgICAgICBtYXJrZXJfYTRlMGEyYzY5NmRhNDY2Y2I1NmJlYmY3YzJkMWM0YjcuYmluZFBvcHVwKHBvcHVwX2YwMTM5ZTllMGRjZTQ0NDFhNWI0NDE3YTgwN2RjNThkKQogICAgICAgICAgICA7CgogICAgICAgICAgICAKICAgICAgICAKICAgIAogICAgICAgIHZhciBtYXJrZXJfOTlhMDZiY2M1ZDRiNGMyY2JlMjU3ZDliMTI5MDIwMDkgPSBMLm1hcmtlcigKICAgICAgICAgICAgWzM0LjgzLCAtMTE0LjZdLAogICAgICAgICAgICB7CiAgICAgICAgICAgICAgICBpY29uOiBuZXcgTC5JY29uLkRlZmF1bHQoKSwKICAgICAgICAgICAgICAgIH0KICAgICAgICAgICAgKS5hZGRUbyhtYXBfN2FiZTM2MjkzNjg3NDcxNTgwOTRhMzk0ZDAxZmVlOTIpOwogICAgICAgIAogICAgCgogICAgICAgICAgICAgICAgdmFyIGljb25fNjY5YzJhNjMwNjQ5NGJlMTg4NTcwZjE0ODMxY2E3YzUgPSBMLkF3ZXNvbWVNYXJrZXJzLmljb24oewogICAgICAgICAgICAgICAgICAgIGljb246ICdjbG91ZCcsCiAgICAgICAgICAgICAgICAgICAgaWNvbkNvbG9yOiAneWVsbG93JywKICAgICAgICAgICAgICAgICAgICBtYXJrZXJDb2xvcjogJ2dyZWVuJywKICAgICAgICAgICAgICAgICAgICBwcmVmaXg6ICdnbHlwaGljb24nLAogICAgICAgICAgICAgICAgICAgIGV4dHJhQ2xhc3NlczogJ2ZhLXJvdGF0ZS0wJwogICAgICAgICAgICAgICAgICAgIH0pOwogICAgICAgICAgICAgICAgbWFya2VyXzk5YTA2YmNjNWQ0YjRjMmNiZTI1N2Q5YjEyOTAyMDA5LnNldEljb24oaWNvbl82NjljMmE2MzA2NDk0YmUxODg1NzBmMTQ4MzFjYTdjNSk7CiAgICAgICAgICAgIAogICAgCiAgICAgICAgICAgIHZhciBwb3B1cF8wZjZlNjFmZTY0OWI0YjU5OTgwNWUwNTI1NWQzYWVhMiA9IEwucG9wdXAoe21heFdpZHRoOiAnMTAwJScKICAgICAgICAgICAgCiAgICAgICAgICAgIH0pOwoKICAgICAgICAgICAgCiAgICAgICAgICAgICAgICB2YXIgaHRtbF8xNGUyZDkyYTE1MzI0YjI4OTI3MGIwZDgyZGMzOWFkYyA9ICQoYDxkaXYgaWQ9Imh0bWxfMTRlMmQ5MmExNTMyNGIyODkyNzBiMGQ4MmRjMzlhZGMiIHN0eWxlPSJ3aWR0aDogMTAwLjAlOyBoZWlnaHQ6IDEwMC4wJTsiPnJvb206MTQ5Ny4wPC9kaXY+YClbMF07CiAgICAgICAgICAgICAgICBwb3B1cF8wZjZlNjFmZTY0OWI0YjU5OTgwNWUwNTI1NWQzYWVhMi5zZXRDb250ZW50KGh0bWxfMTRlMmQ5MmExNTMyNGIyODkyNzBiMGQ4MmRjMzlhZGMpOwogICAgICAgICAgICAKCiAgICAgICAgICAgIG1hcmtlcl85OWEwNmJjYzVkNGI0YzJjYmUyNTdkOWIxMjkwMjAwOS5iaW5kUG9wdXAocG9wdXBfMGY2ZTYxZmU2NDliNGI1OTk4MDVlMDUyNTVkM2FlYTIpCiAgICAgICAgICAgIDsKCiAgICAgICAgICAgIAogICAgICAgIAo8L3NjcmlwdD4= onload=\"this.contentDocument.open();this.contentDocument.write(atob(this.getAttribute('data-html')));this.contentDocument.close();\" allowfullscreen webkitallowfullscreen mozallowfullscreen></iframe></div></div>"
            ],
            "text/plain": [
              "<folium.folium.Map at 0x7fd98d4cbef0>"
            ]
          },
          "metadata": {
            "tags": []
          },
          "execution_count": 48
        }
      ]
    },
    {
      "cell_type": "markdown",
      "metadata": {
        "id": "VDGWc15EtvzD",
        "colab_type": "text"
      },
      "source": [
        "### 7.5 조건을 이용한 데이터 선택"
      ]
    },
    {
      "cell_type": "code",
      "metadata": {
        "id": "rcPIHDrAZnAM",
        "colab_type": "code",
        "outputId": "bb7e502a-8e90-424f-c9e3-c7ea6869909b",
        "colab": {
          "base_uri": "https://localhost:8080/",
          "height": 297
        }
      },
      "source": [
        "import seaborn as sns\n",
        "sns.distplot(data_tr['longitude'])"
      ],
      "execution_count": 49,
      "outputs": [
        {
          "output_type": "execute_result",
          "data": {
            "text/plain": [
              "<matplotlib.axes._subplots.AxesSubplot at 0x7fd98ddf92b0>"
            ]
          },
          "metadata": {
            "tags": []
          },
          "execution_count": 49
        },
        {
          "output_type": "display_data",
          "data": {
            "image/png": "[encoded data removed]",
            "text/plain": [
              "<Figure size 432x288 with 1 Axes>"
            ]
          },
          "metadata": {
            "tags": []
          }
        }
      ]
    },
    {
      "cell_type": "code",
      "metadata": {
        "id": "ahkU06nkZnSM",
        "colab_type": "code",
        "outputId": "d6addfe7-fa34-4ebf-8498-e03e9da18a5c",
        "colab": {
          "base_uri": "https://localhost:8080/",
          "height": 300
        }
      },
      "source": [
        "data_tr_long = data_tr[data_tr.longitude <= -120]\n",
        "sns.distplot(data_tr_long['longitude'])"
      ],
      "execution_count": 50,
      "outputs": [
        {
          "output_type": "execute_result",
          "data": {
            "text/plain": [
              "<matplotlib.axes._subplots.AxesSubplot at 0x7fd990015748>"
            ]
          },
          "metadata": {
            "tags": []
          },
          "execution_count": 50
        },
        {
          "output_type": "display_data",
          "data": {
            "image/png": "[encoded data removed]",
            "text/plain": [
              "<Figure size 432x288 with 1 Axes>"
            ]
          },
          "metadata": {
            "tags": []
          }
        }
      ]
    },
    {
      "cell_type": "code",
      "metadata": {
        "id": "TVZoOz9na1X_",
        "colab_type": "code",
        "outputId": "8375803b-9d0b-444a-8d0d-01e5638f000a",
        "colab": {
          "base_uri": "https://localhost:8080/",
          "height": 297
        }
      },
      "source": [
        "data_tr_long = data_tr[ (data_tr.longitude >= -123) & (data_tr.longitude <= -121) ]\n",
        "sns.distplot(data_tr_long['longitude'])"
      ],
      "execution_count": 51,
      "outputs": [
        {
          "output_type": "execute_result",
          "data": {
            "text/plain": [
              "<matplotlib.axes._subplots.AxesSubplot at 0x7fd99001db38>"
            ]
          },
          "metadata": {
            "tags": []
          },
          "execution_count": 51
        },
        {
          "output_type": "display_data",
          "data": {
            "image/png": "[encoded data removed]",
            "text/plain": [
              "<Figure size 432x288 with 1 Axes>"
            ]
          },
          "metadata": {
            "tags": []
          }
        }
      ]
    },
    {
      "cell_type": "code",
      "metadata": {
        "id": "IabU2wXHeBu-",
        "colab_type": "code",
        "outputId": "4f644f3c-7518-4d1c-f6f5-1b8bb032286e",
        "colab": {
          "base_uri": "https://localhost:8080/",
          "height": 297
        }
      },
      "source": [
        "data_tr_long = data_tr.loc[ (data_tr.longitude >= -123) & (data_tr.longitude <= -121) ]\n",
        "sns.distplot(data_tr_long['longitude'])"
      ],
      "execution_count": 52,
      "outputs": [
        {
          "output_type": "execute_result",
          "data": {
            "text/plain": [
              "<matplotlib.axes._subplots.AxesSubplot at 0x7fd98ff5bb00>"
            ]
          },
          "metadata": {
            "tags": []
          },
          "execution_count": 52
        },
        {
          "output_type": "display_data",
          "data": {
            "image/png": "[encoded data removed]",
            "text/plain": [
              "<Figure size 432x288 with 1 Axes>"
            ]
          },
          "metadata": {
            "tags": []
          }
        }
      ]
    },
    {
      "cell_type": "code",
      "metadata": {
        "id": "7Ml_4L6teFoV",
        "colab_type": "code",
        "outputId": "d5600791-ec16-4914-9f22-713f5a6b398f",
        "colab": {
          "base_uri": "https://localhost:8080/",
          "height": 297
        }
      },
      "source": [
        "data_tr_long = data_tr[ (data_tr.longitude <= -122) | (data_tr.longitude >= -116) ]\n",
        "sns.scatterplot(x=\"longitude\", y=\"latitude\", data=data_tr_long)"
      ],
      "execution_count": 53,
      "outputs": [
        {
          "output_type": "execute_result",
          "data": {
            "text/plain": [
              "<matplotlib.axes._subplots.AxesSubplot at 0x7fd98fe27ef0>"
            ]
          },
          "metadata": {
            "tags": []
          },
          "execution_count": 53
        },
        {
          "output_type": "display_data",
          "data": {
            "image/png": "[encoded data removed]",
            "text/plain": [
              "<Figure size 432x288 with 1 Axes>"
            ]
          },
          "metadata": {
            "tags": []
          }
        }
      ]
    },
    {
      "cell_type": "markdown",
      "metadata": {
        "id": "JoUewqdSj2YI",
        "colab_type": "text"
      },
      "source": [
        "### 두개의 데이터 셋을 하나로 만들기\n",
        "  * append 함수를 이용"
      ]
    },
    {
      "cell_type": "code",
      "metadata": {
        "id": "4f2KCRY-j2Ug",
        "colab_type": "code",
        "outputId": "248880c7-58ee-4a1d-8360-0f3d3b161597",
        "colab": {
          "base_uri": "https://localhost:8080/",
          "height": 263
        }
      },
      "source": [
        "base_dir = \"/content/sample_data/\"\n",
        "\n",
        "data_tr = pd.read_csv(base_dir + \"california_housing_train.csv\")\n",
        "data_test = pd.read_csv(base_dir + \"california_housing_test.csv\")\n",
        "\n",
        "data_all = data_tr.append(data_test)\n",
        "print(data_all.shape)\n",
        "print(data_all.iloc[16995:17005])"
      ],
      "execution_count": 56,
      "outputs": [
        {
          "output_type": "stream",
          "text": [
            "(20000, 9)\n",
            "       longitude  latitude  ...  median_income  median_house_value\n",
            "16995    -124.26     40.58  ...         2.3571            111400.0\n",
            "16996    -124.27     40.69  ...         2.5179             79000.0\n",
            "16997    -124.30     41.84  ...         3.0313            103600.0\n",
            "16998    -124.30     41.80  ...         1.9797             85800.0\n",
            "16999    -124.35     40.54  ...         3.0147             94600.0\n",
            "0        -122.05     37.37  ...         6.6085            344700.0\n",
            "1        -118.30     34.26  ...         3.5990            176500.0\n",
            "2        -117.81     33.78  ...         5.7934            270500.0\n",
            "3        -118.36     33.82  ...         6.1359            330000.0\n",
            "4        -119.67     36.33  ...         2.9375             81700.0\n",
            "\n",
            "[10 rows x 9 columns]\n"
          ],
          "name": "stdout"
        }
      ]
    },
    {
      "cell_type": "markdown",
      "metadata": {
        "id": "kRWd3PmWot8H",
        "colab_type": "text"
      },
      "source": [
        "### 데이터의 인덱스 번호를 초기화\n",
        "  * [].reset_index() 함수를 사용"
      ]
    },
    {
      "cell_type": "code",
      "metadata": {
        "id": "UQjWNZFaj2Pf",
        "colab_type": "code",
        "outputId": "2db674d7-498a-48d0-dad1-48c44247393d",
        "colab": {
          "base_uri": "https://localhost:8080/",
          "height": 246
        }
      },
      "source": [
        "data_all = data_all.reset_index(drop=True)\n",
        "print(data_all.iloc[16995:17005])"
      ],
      "execution_count": 58,
      "outputs": [
        {
          "output_type": "stream",
          "text": [
            "       longitude  latitude  ...  median_income  median_house_value\n",
            "16995    -124.26     40.58  ...         2.3571            111400.0\n",
            "16996    -124.27     40.69  ...         2.5179             79000.0\n",
            "16997    -124.30     41.84  ...         3.0313            103600.0\n",
            "16998    -124.30     41.80  ...         1.9797             85800.0\n",
            "16999    -124.35     40.54  ...         3.0147             94600.0\n",
            "17000    -122.05     37.37  ...         6.6085            344700.0\n",
            "17001    -118.30     34.26  ...         3.5990            176500.0\n",
            "17002    -117.81     33.78  ...         5.7934            270500.0\n",
            "17003    -118.36     33.82  ...         6.1359            330000.0\n",
            "17004    -119.67     36.33  ...         2.9375             81700.0\n",
            "\n",
            "[10 rows x 9 columns]\n"
          ],
          "name": "stdout"
        }
      ]
    },
    {
      "cell_type": "code",
      "metadata": {
        "id": "kMa62AkDj2Go",
        "colab_type": "code",
        "outputId": "f535ee3e-5d4a-441c-e28c-9e9fd0dd0b20",
        "colab": {
          "base_uri": "https://localhost:8080/",
          "height": 284
        }
      },
      "source": [
        "data_all.describe()"
      ],
      "execution_count": 59,
      "outputs": [
        {
          "output_type": "execute_result",
          "data": {
            "text/html": [
              "<div>\n",
              "<style scoped>\n",
              "    .dataframe tbody tr th:only-of-type {\n",
              "        vertical-align: middle;\n",
              "    }\n",
              "\n",
              "    .dataframe tbody tr th {\n",
              "        vertical-align: top;\n",
              "    }\n",
              "\n",
              "    .dataframe thead th {\n",
              "        text-align: right;\n",
              "    }\n",
              "</style>\n",
              "<table border=\"1\" class=\"dataframe\">\n",
              "  <thead>\n",
              "    <tr style=\"text-align: right;\">\n",
              "      <th></th>\n",
              "      <th>longitude</th>\n",
              "      <th>latitude</th>\n",
              "      <th>housing_median_age</th>\n",
              "      <th>total_rooms</th>\n",
              "      <th>total_bedrooms</th>\n",
              "      <th>population</th>\n",
              "      <th>households</th>\n",
              "      <th>median_income</th>\n",
              "      <th>median_house_value</th>\n",
              "    </tr>\n",
              "  </thead>\n",
              "  <tbody>\n",
              "    <tr>\n",
              "      <th>count</th>\n",
              "      <td>20000.000000</td>\n",
              "      <td>20000.000000</td>\n",
              "      <td>20000.000000</td>\n",
              "      <td>20000.000000</td>\n",
              "      <td>20000.000000</td>\n",
              "      <td>20000.000000</td>\n",
              "      <td>20000.000000</td>\n",
              "      <td>20000.000000</td>\n",
              "      <td>20000.000000</td>\n",
              "    </tr>\n",
              "    <tr>\n",
              "      <th>mean</th>\n",
              "      <td>-119.566172</td>\n",
              "      <td>35.626750</td>\n",
              "      <td>28.627750</td>\n",
              "      <td>2637.051550</td>\n",
              "      <td>537.991800</td>\n",
              "      <td>1425.557650</td>\n",
              "      <td>499.525450</td>\n",
              "      <td>3.872132</td>\n",
              "      <td>207082.716750</td>\n",
              "    </tr>\n",
              "    <tr>\n",
              "      <th>std</th>\n",
              "      <td>2.003609</td>\n",
              "      <td>2.136141</td>\n",
              "      <td>12.582229</td>\n",
              "      <td>2176.314757</td>\n",
              "      <td>420.631119</td>\n",
              "      <td>1131.048487</td>\n",
              "      <td>381.729517</td>\n",
              "      <td>1.900356</td>\n",
              "      <td>115557.055856</td>\n",
              "    </tr>\n",
              "    <tr>\n",
              "      <th>min</th>\n",
              "      <td>-124.350000</td>\n",
              "      <td>32.540000</td>\n",
              "      <td>1.000000</td>\n",
              "      <td>2.000000</td>\n",
              "      <td>1.000000</td>\n",
              "      <td>3.000000</td>\n",
              "      <td>1.000000</td>\n",
              "      <td>0.499900</td>\n",
              "      <td>14999.000000</td>\n",
              "    </tr>\n",
              "    <tr>\n",
              "      <th>25%</th>\n",
              "      <td>-121.790000</td>\n",
              "      <td>33.930000</td>\n",
              "      <td>18.000000</td>\n",
              "      <td>1451.000000</td>\n",
              "      <td>296.000000</td>\n",
              "      <td>788.000000</td>\n",
              "      <td>280.000000</td>\n",
              "      <td>2.562500</td>\n",
              "      <td>119800.000000</td>\n",
              "    </tr>\n",
              "    <tr>\n",
              "      <th>50%</th>\n",
              "      <td>-118.490000</td>\n",
              "      <td>34.250000</td>\n",
              "      <td>29.000000</td>\n",
              "      <td>2126.000000</td>\n",
              "      <td>434.000000</td>\n",
              "      <td>1166.000000</td>\n",
              "      <td>409.000000</td>\n",
              "      <td>3.536000</td>\n",
              "      <td>179800.000000</td>\n",
              "    </tr>\n",
              "    <tr>\n",
              "      <th>75%</th>\n",
              "      <td>-118.000000</td>\n",
              "      <td>37.710000</td>\n",
              "      <td>37.000000</td>\n",
              "      <td>3149.000000</td>\n",
              "      <td>647.000000</td>\n",
              "      <td>1724.000000</td>\n",
              "      <td>604.000000</td>\n",
              "      <td>4.745325</td>\n",
              "      <td>265000.000000</td>\n",
              "    </tr>\n",
              "    <tr>\n",
              "      <th>max</th>\n",
              "      <td>-114.310000</td>\n",
              "      <td>41.950000</td>\n",
              "      <td>52.000000</td>\n",
              "      <td>37937.000000</td>\n",
              "      <td>6445.000000</td>\n",
              "      <td>35682.000000</td>\n",
              "      <td>6082.000000</td>\n",
              "      <td>15.000100</td>\n",
              "      <td>500001.000000</td>\n",
              "    </tr>\n",
              "  </tbody>\n",
              "</table>\n",
              "</div>"
            ],
            "text/plain": [
              "          longitude      latitude  ...  median_income  median_house_value\n",
              "count  20000.000000  20000.000000  ...   20000.000000        20000.000000\n",
              "mean    -119.566172     35.626750  ...       3.872132       207082.716750\n",
              "std        2.003609      2.136141  ...       1.900356       115557.055856\n",
              "min     -124.350000     32.540000  ...       0.499900        14999.000000\n",
              "25%     -121.790000     33.930000  ...       2.562500       119800.000000\n",
              "50%     -118.490000     34.250000  ...       3.536000       179800.000000\n",
              "75%     -118.000000     37.710000  ...       4.745325       265000.000000\n",
              "max     -114.310000     41.950000  ...      15.000100       500001.000000\n",
              "\n",
              "[8 rows x 9 columns]"
            ]
          },
          "metadata": {
            "tags": []
          },
          "execution_count": 59
        }
      ]
    },
    {
      "cell_type": "code",
      "metadata": {
        "id": "n57ZOw1wwc72",
        "colab_type": "code",
        "outputId": "6d62dbd3-77a8-491f-df6a-b813117913d4",
        "colab": {
          "base_uri": "https://localhost:8080/",
          "height": 297
        }
      },
      "source": [
        "sns.scatterplot(x=\"longitude\", y=\"latitude\", data=data_all)"
      ],
      "execution_count": 60,
      "outputs": [
        {
          "output_type": "execute_result",
          "data": {
            "text/plain": [
              "<matplotlib.axes._subplots.AxesSubplot at 0x7fd98fd9c400>"
            ]
          },
          "metadata": {
            "tags": []
          },
          "execution_count": 60
        },
        {
          "output_type": "display_data",
          "data": {
            "image/png": "[encoded data removed]",
            "text/plain": [
              "<Figure size 432x288 with 1 Axes>"
            ]
          },
          "metadata": {
            "tags": []
          }
        }
      ]
    },
    {
      "cell_type": "code",
      "metadata": {
        "id": "fkRjQIKXieE3",
        "colab_type": "code",
        "outputId": "54ad2a90-dcd1-488c-8f7a-09035d273809",
        "colab": {
          "base_uri": "https://localhost:8080/",
          "height": 926
        }
      },
      "source": [
        "print(data_all.describe())\n",
        "### -122미만, -122이상~-119미만, -119이상~-118미만, -118이상\n",
        "data01 = data_all[data_all['longitude'] < -122]\n",
        "data02 = data_all[ (data_all['longitude'] >= -122) &\n",
        "                    (data_all['longitude'] < -119) ]\n",
        "data03 = data_all[ (data_all['longitude'] >= -119) &\n",
        "                    (data_all['longitude'] < -118) ]\n",
        "data04 = data_all[data_all['longitude'] >= -118]\n",
        "\n",
        "f, axes = plt.subplots(2, 2, figsize=(12, 12))\n",
        "axes[0,0].set_ylim([30, 45])\n",
        "axes[0,1].set_ylim([30, 45])\n",
        "axes[1,0].set_ylim([30, 45])\n",
        "axes[1,1].set_ylim([30, 45])\n",
        "\n",
        "sns.scatterplot(x=\"longitude\", y=\"latitude\", data=data01, ax=axes[0, 0])\n",
        "sns.scatterplot(x=\"longitude\", y=\"latitude\", data=data02, ax=axes[0, 1])\n",
        "sns.scatterplot(x=\"longitude\", y=\"latitude\", data=data03, ax=axes[1, 0])\n",
        "sns.scatterplot(x=\"longitude\", y=\"latitude\", data=data04, ax=axes[1, 1])"
      ],
      "execution_count": 61,
      "outputs": [
        {
          "output_type": "stream",
          "text": [
            "          longitude      latitude  ...  median_income  median_house_value\n",
            "count  20000.000000  20000.000000  ...   20000.000000        20000.000000\n",
            "mean    -119.566172     35.626750  ...       3.872132       207082.716750\n",
            "std        2.003609      2.136141  ...       1.900356       115557.055856\n",
            "min     -124.350000     32.540000  ...       0.499900        14999.000000\n",
            "25%     -121.790000     33.930000  ...       2.562500       119800.000000\n",
            "50%     -118.490000     34.250000  ...       3.536000       179800.000000\n",
            "75%     -118.000000     37.710000  ...       4.745325       265000.000000\n",
            "max     -114.310000     41.950000  ...      15.000100       500001.000000\n",
            "\n",
            "[8 rows x 9 columns]\n"
          ],
          "name": "stdout"
        },
        {
          "output_type": "execute_result",
          "data": {
            "text/plain": [
              "<matplotlib.axes._subplots.AxesSubplot at 0x7fd98fa58128>"
            ]
          },
          "metadata": {
            "tags": []
          },
          "execution_count": 61
        },
        {
          "output_type": "display_data",
          "data": {
            "image/png": "[encoded data removed]",
            "text/plain": [
              "<Figure size 864x864 with 4 Axes>"
            ]
          },
          "metadata": {
            "tags": []
          }
        }
      ]
    },
    {
      "cell_type": "code",
      "metadata": {
        "id": "ppBj_RIrjEYR",
        "colab_type": "code",
        "outputId": "e233027a-cba9-44e4-fdc6-2a0006405358",
        "colab": {
          "base_uri": "https://localhost:8080/",
          "height": 34
        }
      },
      "source": [
        "data01.to_csv('data_01.csv', index=False)\n",
        "data02.to_csv('data_02.csv', index=False)\n",
        "data03.to_csv('data_03.csv', index=False)\n",
        "data04.to_csv('data_04.csv', index=False)\n",
        "\n",
        "print(os.listdir())"
      ],
      "execution_count": 62,
      "outputs": [
        {
          "output_type": "stream",
          "text": [
            "['.config', 'data.xlsx', 'test7.html', 'data_04.csv', 'data.csv', 'data_01.csv', 'data_03.csv', 'data_02.csv', 'sample_data']\n"
          ],
          "name": "stdout"
        }
      ]
    },
    {
      "cell_type": "markdown",
      "metadata": {
        "id": "KhPg3Nh8zNdY",
        "colab_type": "text"
      },
      "source": [
        "### 데이터를 그룹화하여 요약 값 확인\n",
        " * 네 개의 데이터를 읽어온다.\n",
        " * 각각의 데이터 셋에 새로운 변수(컬럼)을 생성."
      ]
    },
    {
      "cell_type": "code",
      "metadata": {
        "id": "J_lA2-eXpCRX",
        "colab_type": "code",
        "colab": {
          "base_uri": "https://localhost:8080/",
          "height": 87
        },
        "outputId": "fb5ed2b2-dc9f-4187-b497-140eb9a4fda1"
      },
      "source": [
        "data01 = pd.read_csv(\"data_01.csv\")\n",
        "data02 = pd.read_csv(\"data_02.csv\")\n",
        "data03 = pd.read_csv(\"data_03.csv\")\n",
        "data04 = pd.read_csv(\"data_04.csv\")\n",
        "\n",
        "print(\"각 데이터 행열 : {}\".format(data01.shape) )\n",
        "print(\"각 데이터 행열 : {}\".format(data02.shape) )\n",
        "print(\"각 데이터 행열 : {}\".format(data03.shape) )\n",
        "print(\"각 데이터 행열 : {}\".format(data04.shape) )"
      ],
      "execution_count": 63,
      "outputs": [
        {
          "output_type": "stream",
          "text": [
            "각 데이터 행열 : (3831, 9)\n",
            "각 데이터 행열 : (5486, 9)\n",
            "각 데이터 행열 : (5681, 9)\n",
            "각 데이터 행열 : (5002, 9)\n"
          ],
          "name": "stdout"
        }
      ]
    },
    {
      "cell_type": "code",
      "metadata": {
        "id": "lRIZneCgpFfk",
        "colab_type": "code",
        "colab": {}
      },
      "source": [
        "# 새로운 컬럼 생성\n",
        "data01['group_lat'] = 1\n",
        "data02['group_lat'] = 2\n",
        "data03['group_lat'] = 3\n",
        "data04['group_lat'] = 4"
      ],
      "execution_count": 0,
      "outputs": []
    },
    {
      "cell_type": "markdown",
      "metadata": {
        "id": "iKQco0QYpVOC",
        "colab_type": "text"
      },
      "source": [
        "### 한번에 여러개 파일 합치기"
      ]
    },
    {
      "cell_type": "code",
      "metadata": {
        "id": "0c6q4c2spHqq",
        "colab_type": "code",
        "colab": {
          "base_uri": "https://localhost:8080/",
          "height": 34
        },
        "outputId": "6fcd4341-b260-4266-9251-1c6896594a26"
      },
      "source": [
        "data_all = data01.append([data02, data03, data04], ignore_index = True)\n",
        "data_all.group_lat.unique()  # 새 컬럼의 유일한 값 확인"
      ],
      "execution_count": 67,
      "outputs": [
        {
          "output_type": "execute_result",
          "data": {
            "text/plain": [
              "array([1, 2, 3, 4])"
            ]
          },
          "metadata": {
            "tags": []
          },
          "execution_count": 67
        }
      ]
    },
    {
      "cell_type": "markdown",
      "metadata": {
        "id": "uPLcHlrjpbcs",
        "colab_type": "text"
      },
      "source": [
        "### 새로운 컬럼을 활용하여 집 값의 중위값을 표시"
      ]
    },
    {
      "cell_type": "code",
      "metadata": {
        "id": "K0z7CE8GpSnI",
        "colab_type": "code",
        "colab": {
          "base_uri": "https://localhost:8080/",
          "height": 403
        },
        "outputId": "2975ecd7-55d2-498a-b0da-3cd3641f80cd"
      },
      "source": [
        "print(\"전체 데이터 행열 :{}\".format(data_all.shape))\n",
        "print(\"전체 데이터 컬럼명 :{}\".format(data_all.columns))\n",
        "print(\"group_lat 컬럼의 값 : {}\".format(data_all.group_lat.unique()) )\n",
        "sns.barplot(x=\"group_lat\", y=\"median_house_value\", data=data_all)"
      ],
      "execution_count": 68,
      "outputs": [
        {
          "output_type": "stream",
          "text": [
            "전체 데이터 행열 :(20000, 10)\n",
            "전체 데이터 컬럼명 :Index(['longitude', 'latitude', 'housing_median_age', 'total_rooms',\n",
            "       'total_bedrooms', 'population', 'households', 'median_income',\n",
            "       'median_house_value', 'group_lat'],\n",
            "      dtype='object')\n",
            "group_lat 컬럼의 값 : [1 2 3 4]\n"
          ],
          "name": "stdout"
        },
        {
          "output_type": "execute_result",
          "data": {
            "text/plain": [
              "<matplotlib.axes._subplots.AxesSubplot at 0x7fd98fd74dd8>"
            ]
          },
          "metadata": {
            "tags": []
          },
          "execution_count": 68
        },
        {
          "output_type": "display_data",
          "data": {
            "image/png": "[encoded data removed]",
            "text/plain": [
              "<Figure size 432x288 with 1 Axes>"
            ]
          },
          "metadata": {
            "tags": []
          }
        }
      ]
    },
    {
      "cell_type": "markdown",
      "metadata": {
        "id": "A4xNVeTFplTS",
        "colab_type": "text"
      },
      "source": [
        "### 값들의 데이터 개수 알아보기"
      ]
    },
    {
      "cell_type": "code",
      "metadata": {
        "id": "KUJLuBRJpaJG",
        "colab_type": "code",
        "colab": {
          "base_uri": "https://localhost:8080/",
          "height": 105
        },
        "outputId": "97eab288-a881-4642-c25c-1151901af9be"
      },
      "source": [
        "print(data_all['group_lat'].value_counts() )"
      ],
      "execution_count": 69,
      "outputs": [
        {
          "output_type": "stream",
          "text": [
            "3    5681\n",
            "2    5486\n",
            "4    5002\n",
            "1    3831\n",
            "Name: group_lat, dtype: int64\n"
          ],
          "name": "stdout"
        }
      ]
    },
    {
      "cell_type": "code",
      "metadata": {
        "id": "hUUtGfunpgp1",
        "colab_type": "code",
        "colab": {
          "base_uri": "https://localhost:8080/",
          "height": 105
        },
        "outputId": "d89130fa-3134-4625-9d8d-9289fc3e2473"
      },
      "source": [
        "print(pd.value_counts(data_all['group_lat']) )"
      ],
      "execution_count": 70,
      "outputs": [
        {
          "output_type": "stream",
          "text": [
            "3    5681\n",
            "2    5486\n",
            "4    5002\n",
            "1    3831\n",
            "Name: group_lat, dtype: int64\n"
          ],
          "name": "stdout"
        }
      ]
    },
    {
      "cell_type": "markdown",
      "metadata": {
        "id": "bs3bf_FLpo_B",
        "colab_type": "text"
      },
      "source": [
        "### 데이터를 그룹화하여 이에 대한 요약값을 확인하기"
      ]
    },
    {
      "cell_type": "code",
      "metadata": {
        "id": "zduWFhMOph87",
        "colab_type": "code",
        "colab": {
          "base_uri": "https://localhost:8080/",
          "height": 510
        },
        "outputId": "6d9a6e0e-c162-4134-f7f8-881b51c6a357"
      },
      "source": [
        "### 지역별 집 값 알아보기\n",
        "grouped = data_all.groupby('group_lat')  # 그룹화\n",
        "print( \"행정구역 인구 평균 :\\n \", grouped.mean()['population'] )    # 행정 구역 인구 데이터의 평균\n",
        "print( \"소득 평균 :\\n \",grouped.mean()['median_income'] ) # 소득 데이터의 평균\n",
        "print( \"방 개수 평균 :\\n \",grouped.mean()['total_rooms'] )   # 방 개수 데이터의 평균\n",
        "print( \"세대 수 평균 :\\n \",grouped.mean()['households'] )    # 세대 수 데이터의 평균"
      ],
      "execution_count": 71,
      "outputs": [
        {
          "output_type": "stream",
          "text": [
            "행정구역 인구 평균 :\n",
            "  group_lat\n",
            "1    1199.107022\n",
            "2    1371.886438\n",
            "3    1471.122162\n",
            "4    1606.109556\n",
            "Name: population, dtype: float64\n",
            "소득 평균 :\n",
            "  group_lat\n",
            "1    4.112725\n",
            "2    3.529840\n",
            "3    3.904002\n",
            "4    4.027080\n",
            "Name: median_income, dtype: float64\n",
            "방 개수 평균 :\n",
            "  group_lat\n",
            "1    2457.613678\n",
            "2    2609.436930\n",
            "3    2410.067594\n",
            "4    3062.564574\n",
            "Name: total_rooms, dtype: float64\n",
            "세대 수 평균 :\n",
            "  group_lat\n",
            "1    466.478204\n",
            "2    474.076376\n",
            "3    505.227953\n",
            "4    546.271092\n",
            "Name: households, dtype: float64\n"
          ],
          "name": "stdout"
        }
      ]
    },
    {
      "cell_type": "markdown",
      "metadata": {
        "id": "6t8Qikafpv7Z",
        "colab_type": "text"
      },
      "source": [
        "### 그룹화한 결과를 시각화하여 확인하기"
      ]
    },
    {
      "cell_type": "code",
      "metadata": {
        "id": "S-lJ--GFpkP0",
        "colab_type": "code",
        "colab": {
          "base_uri": "https://localhost:8080/",
          "height": 731
        },
        "outputId": "243db033-3651-46a5-91b4-c1330b1f0a86"
      },
      "source": [
        "# 2행 2열의 그래프 만들고 전체 크기 지정 \n",
        "fig ,axes = plt.subplots(nrows=2, ncols=2)  # 2행 2열의 구조 \n",
        "fig.set_size_inches(12,12)  # 전체 크기\n",
        "\n",
        "# 그룹화하기\n",
        "grouped = data_all.groupby('group_lat').mean()\n",
        "\n",
        "# 막대 그래프로 확인해 보기 \n",
        "sns.barplot(x=grouped.index, y=\"population\", data=grouped, ax= axes[0][0])\n",
        "sns.barplot(x=grouped.index, y=\"median_income\", data=grouped, ax= axes[0][1])\n",
        "sns.barplot(x=grouped.index, y=\"total_rooms\", data=grouped, ax= axes[1][0])\n",
        "sns.barplot(x=grouped.index, y=\"households\", data=grouped, ax= axes[1][1])\n",
        "\n",
        "# 각각의 그래프에 제목을 넣기\n",
        "axes[0][0].title.set_text('population')\n",
        "axes[0][1].title.set_text('median_income')\n",
        "axes[1][0].title.set_text('total_rooms')\n",
        "axes[1][1].title.set_text('households')\n"
      ],
      "execution_count": 72,
      "outputs": [
        {
          "output_type": "display_data",
          "data": {
            "image/png": "[encoded data removed]",
            "text/plain": [
              "<Figure size 864x864 with 4 Axes>"
            ]
          },
          "metadata": {
            "tags": []
          }
        }
      ]
    },
    {
      "cell_type": "code",
      "metadata": {
        "id": "IcZHvTrcpvkW",
        "colab_type": "code",
        "colab": {
          "base_uri": "https://localhost:8080/",
          "height": 614
        },
        "outputId": "614792fd-a663-4fcf-b406-70a27b8867d3"
      },
      "source": [
        "### 지역별 집 값 알아보기\n",
        "grouped = data_all.groupby('group_lat')  # 그룹화\n",
        "print( grouped.mean()['median_house_value'] )  # 지역별 집 값 평균\n",
        "print( grouped.sum()['median_house_value'] )  # 지역별 집값의 전체 합 \n",
        "print( grouped.std()['median_house_value'] )  # 지역별 집값의 표준편차\n",
        "\n",
        "grouped = grouped.mean()\n",
        "sns.barplot(x=grouped.index, y=\"median_house_value\", data=grouped)"
      ],
      "execution_count": 73,
      "outputs": [
        {
          "output_type": "stream",
          "text": [
            "group_lat\n",
            "1    244581.258418\n",
            "2    161318.769595\n",
            "3    239442.813237\n",
            "4    191802.107557\n",
            "Name: median_house_value, dtype: float64\n",
            "group_lat\n",
            "1    9.369908e+08\n",
            "2    8.849948e+08\n",
            "3    1.360275e+09\n",
            "4    9.593941e+08\n",
            "Name: median_house_value, dtype: float64\n",
            "group_lat\n",
            "1    128465.584053\n",
            "2     96476.318617\n",
            "3    117564.610356\n",
            "4    100284.984009\n",
            "Name: median_house_value, dtype: float64\n"
          ],
          "name": "stdout"
        },
        {
          "output_type": "execute_result",
          "data": {
            "text/plain": [
              "<matplotlib.axes._subplots.AxesSubplot at 0x7fd98d2b4f98>"
            ]
          },
          "metadata": {
            "tags": []
          },
          "execution_count": 73
        },
        {
          "output_type": "display_data",
          "data": {
            "image/png": "[encoded data removed]",
            "text/plain": [
              "<Figure size 432x288 with 1 Axes>"
            ]
          },
          "metadata": {
            "tags": []
          }
        }
      ]
    },
    {
      "cell_type": "code",
      "metadata": {
        "id": "Iz2hA881p1nX",
        "colab_type": "code",
        "colab": {}
      },
      "source": [
        ""
      ],
      "execution_count": 0,
      "outputs": []
    }
  ]
}