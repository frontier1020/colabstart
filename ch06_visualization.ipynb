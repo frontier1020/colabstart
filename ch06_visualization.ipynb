{
  "nbformat": 4,
  "nbformat_minor": 0,
  "metadata": {
    "colab": {
      "name": "ch06_visualization.ipynb",
      "provenance": [],
      "authorship_tag": "ABX9TyO2bPRB/A/XQjeYnnvGxyzh",
      "include_colab_link": true
    },
    "kernelspec": {
      "name": "python3",
      "display_name": "Python 3"
    }
  },
  "cells": [
    {
      "cell_type": "markdown",
      "metadata": {
        "id": "view-in-github",
        "colab_type": "text"
      },
      "source": [
        "<a href=\"https://colab.research.google.com/github/frontier1020/colabstart/blob/master/ch06_visualization.ipynb\" target=\"_parent\"><img src=\"https://colab.research.google.com/assets/colab-badge.svg\" alt=\"Open In Colab\"/></a>"
      ]
    },
    {
      "cell_type": "markdown",
      "metadata": {
        "id": "PSEO09LtMAhS",
        "colab_type": "text"
      },
      "source": [
        "### Python 시각화"
      ]
    },
    {
      "cell_type": "markdown",
      "metadata": {
        "id": "kDyIUlKcHCE2",
        "colab_type": "text"
      },
      "source": [
        "### 6-1 시각화 라이브러리 소개\n",
        "### 6-2 음식점 Tip 데이터 셋을 시각화 해보기\n",
        "### 6-3 항공기 승객에 대한 데이터 시각화 해보기\n",
        "### 6-4 네이버 영화 리뷰에 대한 데이터 시각화 해보기\n",
        "### 6-5 지도 정보 데이터 시각화 해보기\n",
        "### 6-6 poltly를 활용한 반응형 시각화 해보기\n",
        "### 6-7 내 사진 이미지 시각화 해보기\n",
        "### 6-8 기타 시각화 도구\n",
        "### 6-9 네트워크 데이터 시각화 해보기\n",
        "### 6-10 프로젝트 - 미세 먼지 데이터 시각화\n",
        "### 6-11 프로젝트 - \n"
      ]
    },
    {
      "cell_type": "code",
      "metadata": {
        "id": "1DS2LCBbHo0p",
        "colab_type": "code",
        "colab": {}
      },
      "source": [
        "### 6-1 시각화 라이브러리 소개\n",
        "### 6-2 음식점 Tip 데이터 셋을 시각화 해보기\n",
        "### 6-3 항공기 승객에 대한 데이터 시각화 해보기\n",
        "### 6-4 네이버 영화 리뷰에 대한 데이터 시각화 해보기\n",
        "### 6-5 지도 정보 데이터 시각화 해보기\n",
        "### 6-6 poltly를 활용한 반응형 시각화 해보기\n",
        "### 6-7 내 사진 이미지 시각화 해보기\n",
        "### 6-8 기타 시각화 도구\n",
        "### 6-9 네트워크 데이터 시각화 해보기\n",
        "### 6-10 프로젝트 - 미세 먼지 데이터 시각화\n",
        "### 6-11 프로젝트 - \n"
      ],
      "execution_count": 0,
      "outputs": []
    },
    {
      "cell_type": "markdown",
      "metadata": {
        "id": "19wuN86QHrpu",
        "colab_type": "text"
      },
      "source": [
        "### 6-1 시각화 라이브러리 소개\n",
        "* 라이브러리 불러오기"
      ]
    },
    {
      "cell_type": "code",
      "metadata": {
        "id": "gZy0j6EDHu9Z",
        "colab_type": "code",
        "colab": {}
      },
      "source": [
        ""
      ],
      "execution_count": 0,
      "outputs": []
    }
  ]
}