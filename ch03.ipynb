{
  "nbformat": 4,
  "nbformat_minor": 0,
  "metadata": {
    "colab": {
      "name": "ch03.ipynb",
      "provenance": [],
      "include_colab_link": true
    },
    "kernelspec": {
      "name": "python3",
      "display_name": "Python 3"
    }
  },
  "cells": [
    {
      "cell_type": "markdown",
      "metadata": {
        "id": "view-in-github",
        "colab_type": "text"
      },
      "source": [
        "<a href=\"https://colab.research.google.com/github/frontier1020/colabstart/blob/master/ch03.ipynb\" target=\"_parent\"><img src=\"https://colab.research.google.com/assets/colab-badge.svg\" alt=\"Open In Colab\"/></a>"
      ]
    },
    {
      "cell_type": "markdown",
      "metadata": {
        "id": "MuH7tzQHma-4",
        "colab_type": "text"
      },
      "source": [
        "### 3-3 웹 데이터 수집 기본"
      ]
    },
    {
      "cell_type": "code",
      "metadata": {
        "id": "J35n0ipW6kGX",
        "colab_type": "code",
        "colab": {}
      },
      "source": [
        "from urllib.request import urlopen"
      ],
      "execution_count": 0,
      "outputs": []
    },
    {
      "cell_type": "code",
      "metadata": {
        "id": "aQRD3oO66p8m",
        "colab_type": "code",
        "outputId": "1b99bea2-d687-4da0-9181-865d4a89a94f",
        "colab": {
          "base_uri": "https://localhost:8080/",
          "height": 35
        }
      },
      "source": [
        "url = \"https://pythonstart.github.io/web/\"\n",
        "page = urlopen(url)\n",
        "page"
      ],
      "execution_count": 0,
      "outputs": [
        {
          "output_type": "execute_result",
          "data": {
            "text/plain": [
              "<http.client.HTTPResponse at 0x7f54b3108c88>"
            ]
          },
          "metadata": {
            "tags": []
          },
          "execution_count": 2
        }
      ]
    },
    {
      "cell_type": "code",
      "metadata": {
        "id": "GvSmg7lH6z1h",
        "colab_type": "code",
        "colab": {}
      },
      "source": [
        "from bs4 import BeautifulSoup"
      ],
      "execution_count": 0,
      "outputs": []
    },
    {
      "cell_type": "code",
      "metadata": {
        "id": "LWbgj4hX9612",
        "colab_type": "code",
        "outputId": "7bb14465-ba5b-4452-b6d5-0309592b802b",
        "colab": {
          "base_uri": "https://localhost:8080/",
          "height": 381
        }
      },
      "source": [
        "soup = BeautifulSoup(page, 'lxml')\n",
        "soup"
      ],
      "execution_count": 0,
      "outputs": [
        {
          "output_type": "execute_result",
          "data": {
            "text/plain": [
              "<html>\n",
              "<head>\n",
              "<title>나의 웹 페이지</title>\n",
              "</head>\n",
              "<body>\n",
              "<h1> my web page </h1>\n",
              "<ul>\n",
              "<a href=\"./01.html\" name=\"link_get\"> 01. 제목 가져오기(title) </a> <br/>\n",
              "<a href=\"./02.html\" name=\"text_get\"> 02. 텍스트 가져오기(p) </a> <br/>\n",
              "<a href=\"./03.html\" name=\"link_get\"> 03. 링크 가져오기(a) </a> <br/>\n",
              "<a href=\"https://pythonstart.github.io/web/04.html\"> 04. 이미지 가져오기(img) </a> <br/>\n",
              "<a href=\"./05.html\"> 05. 리스트 정보 가져오기(ul,ol) </a> <br/>\n",
              "<a href=\"./06.html\"> 06. id를 활용한 정보 획득 </a> <br/>\n",
              "<a href=\"./07.html\"> 07. class를 활용한 정보 획득 </a> <br/>\n",
              "<a href=\"./08.html\"> 08. 하나의 이미지 다운로드 </a> <br/>\n",
              "<a href=\"https://pythonstart.github.io/web/09.html\"> 09. 여러개의 이미지 다운로드 </a> <br/>\n",
              "<a href=\"./10.html\" id=\"rank\"> 10. 랭킹 정보 가져오기(웹 크롤링) </a> <br/>\n",
              "</ul>\n",
              "</body>\n",
              "</html>"
            ]
          },
          "metadata": {
            "tags": []
          },
          "execution_count": 4
        }
      ]
    },
    {
      "cell_type": "code",
      "metadata": {
        "id": "Ct5VR8ln-nzD",
        "colab_type": "code",
        "outputId": "c8787e90-604b-4a93-c33d-eeb656a7a97d",
        "colab": {
          "base_uri": "https://localhost:8080/",
          "height": 35
        }
      },
      "source": [
        "soup.title"
      ],
      "execution_count": 0,
      "outputs": [
        {
          "output_type": "execute_result",
          "data": {
            "text/plain": [
              "<title>나의 웹 페이지</title>"
            ]
          },
          "metadata": {
            "tags": []
          },
          "execution_count": 5
        }
      ]
    },
    {
      "cell_type": "markdown",
      "metadata": {
        "id": "4i9eNgpkH2sK",
        "colab_type": "text"
      },
      "source": [
        "### 소스코드 3.2.10"
      ]
    },
    {
      "cell_type": "code",
      "metadata": {
        "id": "i7Tidz4vTTuK",
        "colab_type": "code",
        "colab": {
          "base_uri": "https://localhost:8080/",
          "height": 210
        },
        "outputId": "fadfcb74-5c60-449f-f2bc-02be11132ac1"
      },
      "source": [
        "from urllib.request import urlopen\n",
        "from bs4 import BeautifulSoup\n",
        "\n",
        "url = \"https://pythonstart.github.io/web/02.html\"\n",
        "page = urlopen(url)\n",
        "soup = BeautifulSoup(page, 'lxml')\n",
        "print(soup) "
      ],
      "execution_count": 2,
      "outputs": [
        {
          "output_type": "stream",
          "text": [
            "<html>\n",
            "<head>\n",
            "<title>나의 첫번째 페이지</title>\n",
            "</head>\n",
            "<body>\n",
            "<p> 여기는 두번째 단계 </p>\n",
            "<p> 01 시작이 반이다 </p>\n",
            "<p> 02 포기하지말고 화이팅! </p>\n",
            "<p> 03 응원합니다. </p>\n",
            "</body>\n",
            "</html>\n"
          ],
          "name": "stdout"
        }
      ]
    },
    {
      "cell_type": "code",
      "metadata": {
        "id": "qKMlCXeVTVVO",
        "colab_type": "code",
        "colab": {
          "base_uri": "https://localhost:8080/",
          "height": 34
        },
        "outputId": "b91b8dae-17b9-460e-8628-d205e0266208"
      },
      "source": [
        "### 첫번째 p 태그 정보 가져오기\n",
        "print(soup.p)"
      ],
      "execution_count": 8,
      "outputs": [
        {
          "output_type": "stream",
          "text": [
            "<p> 여기는 두번째 단계 </p>\n"
          ],
          "name": "stdout"
        }
      ]
    },
    {
      "cell_type": "code",
      "metadata": {
        "id": "JoHXOvTzUgxz",
        "colab_type": "code",
        "colab": {
          "base_uri": "https://localhost:8080/",
          "height": 34
        },
        "outputId": "41dcdeef-a7ae-4e90-85df-d28f89c4b4f7"
      },
      "source": [
        "### 첫번째 p 요소의 텍스트 정보 가져오기\n",
        "print(soup.p.text)"
      ],
      "execution_count": 7,
      "outputs": [
        {
          "output_type": "stream",
          "text": [
            " 여기는 두번째 단계 \n"
          ],
          "name": "stdout"
        }
      ]
    },
    {
      "cell_type": "code",
      "metadata": {
        "id": "yaco9qKTU6e0",
        "colab_type": "code",
        "colab": {
          "base_uri": "https://localhost:8080/",
          "height": 157
        },
        "outputId": "cac8497c-2444-442f-9d12-8f42b0b1ad53"
      },
      "source": [
        "from urllib.request import urlopen\n",
        "from bs4 import BeautifulSoup\n",
        "url = \"https://pythonstart.github.io/web/03.html\"  # 웹 페이지 URL \n",
        "page = urlopen(url)                    # 웹 페이지 정보 가져오기 \n",
        "soup = BeautifulSoup(page, 'lxml')   # BeautifulSoup를 이용한 구조화\n",
        "print(soup)                            # HTML 정보 확인하기 "
      ],
      "execution_count": 13,
      "outputs": [
        {
          "output_type": "stream",
          "text": [
            "<html>\n",
            "<body>\n",
            "<a href=\"https://www.naver.com/\">네이버</a> <br/>\n",
            "<a href=\"https://www.google.co.kr/\">구글</a> <br/>\n",
            "<a href=\"https://www.microsoft.com/ko-kr\">마이크로 소프트</a> <br/>\n",
            "<a href=\"https://www.kakaocorp.com/\">카카오</a> <br/>\n",
            "</body>\n",
            "</html>\n"
          ],
          "name": "stdout"
        }
      ]
    },
    {
      "cell_type": "code",
      "metadata": {
        "id": "kslTaYYFdjpM",
        "colab_type": "code",
        "colab": {
          "base_uri": "https://localhost:8080/",
          "height": 70
        },
        "outputId": "e6f77c49-7107-4d4f-9768-b4a802c2a594"
      },
      "source": [
        "### 첫번째 a태그의 요소 정보 가져오기\n",
        "print(soup.a)          # 요소의 전체 정보\n",
        "print(soup.a['href'])  # href 속성 정보\n",
        "print(soup.a.text)     # 요소의 text 정보"
      ],
      "execution_count": 14,
      "outputs": [
        {
          "output_type": "stream",
          "text": [
            "<a href=\"https://www.naver.com/\">네이버</a>\n",
            "https://www.naver.com/\n",
            "네이버\n"
          ],
          "name": "stdout"
        }
      ]
    },
    {
      "cell_type": "markdown",
      "metadata": {
        "id": "ShiF9CT_dz1d",
        "colab_type": "text"
      },
      "source": [
        "### 웹 페이지의 정보 가져오기"
      ]
    },
    {
      "cell_type": "code",
      "metadata": {
        "id": "zGfPJL2FjIkJ",
        "colab_type": "code",
        "colab": {
          "base_uri": "https://localhost:8080/",
          "height": 300
        },
        "outputId": "38c5bd2d-bd13-4bc0-a4d6-b035d1543833"
      },
      "source": [
        "from urllib.request import urlopen\n",
        "from bs4 import BeautifulSoup\n",
        "url = \"https://pythonstart.github.io/web/04.html\"  # 웹 페이지 URL \n",
        "page = urlopen(url)                    # 웹 페이지 정보 가져오기 \n",
        "soup = BeautifulSoup(page, 'lxml')   # BeautifulSoup를 이용한 구조화\n",
        "print(soup)                            # HTML 정보 확인하기\n"
      ],
      "execution_count": 15,
      "outputs": [
        {
          "output_type": "stream",
          "text": [
            "<html>\n",
            "<head>\n",
            "<title> 하나의 이미지 가져오기 </title>\n",
            "</head>\n",
            "<body>\n",
            "<div class=\"img01\">\n",
            "<p> 당신이 좋아할지도 모르는 이미지 </p>\n",
            "<div class=\"itemlike\" style=\"width: 322px; height: 214px; display: block;\"><img height=\"214px\" src=\"dog01.jpg\" width=\"322px\"/></div>\n",
            "<div class=\"itemlike\" style=\"width: 322px; height: 214px; display: block;\"><img height=\"214px\" src=\"dog02.jpg\" width=\"322px\"/></div>\n",
            "<a href=\"https://pixabay.com/ko/?utm_source=link-attribution&amp;utm_medium=referral&amp;utm_campaign=image&amp;utm_content=1785760\">Pixabay</a>로부터 입수된 \n",
            "<a href=\"https://pixabay.com/ko/users/kim_hester-3648659/?utm_source=link-attribution&amp;utm_medium=referral&amp;utm_campaign=image&amp;utm_content=1785760\">kim_hester</a>님의 이미지 입니다.\n",
            "</div>\n",
            "</body>\n",
            "</html>\n",
            "\n"
          ],
          "name": "stdout"
        }
      ]
    },
    {
      "cell_type": "code",
      "metadata": {
        "id": "_m3LYTm7jI1Z",
        "colab_type": "code",
        "colab": {
          "base_uri": "https://localhost:8080/",
          "height": 34
        },
        "outputId": "2f30b736-39fc-49c1-99cd-81cdd3cd9b97"
      },
      "source": [
        "print(soup.img)"
      ],
      "execution_count": 16,
      "outputs": [
        {
          "output_type": "stream",
          "text": [
            "<img height=\"214px\" src=\"dog01.jpg\" width=\"322px\"/>\n"
          ],
          "name": "stdout"
        }
      ]
    },
    {
      "cell_type": "code",
      "metadata": {
        "id": "peUao0h8jiTZ",
        "colab_type": "code",
        "colab": {
          "base_uri": "https://localhost:8080/",
          "height": 34
        },
        "outputId": "73aa2a45-094f-49e8-a38d-43ff48c9f502"
      },
      "source": [
        "print(soup.img['src'])"
      ],
      "execution_count": 17,
      "outputs": [
        {
          "output_type": "stream",
          "text": [
            "dog01.jpg\n"
          ],
          "name": "stdout"
        }
      ]
    },
    {
      "cell_type": "markdown",
      "metadata": {
        "id": "VDM3qFMfjlhE",
        "colab_type": "text"
      },
      "source": [
        "### 리스트 정보 가져오기"
      ]
    },
    {
      "cell_type": "code",
      "metadata": {
        "id": "M6xyGl7QlUzw",
        "colab_type": "code",
        "colab": {
          "base_uri": "https://localhost:8080/",
          "height": 263
        },
        "outputId": "e7c60ee6-3c37-49d5-ce93-466c22ce90fb"
      },
      "source": [
        "from urllib.request import urlopen\n",
        "from bs4 import BeautifulSoup\n",
        "url = \"https://pythonstart.github.io/web/05.html\"  # 웹 페이지 URL \n",
        "page = urlopen(url)                    # 웹 페이지 정보 가져오기 \n",
        "soup = BeautifulSoup(page, 'lxml')   # BeautifulSoup를 이용한 구조화\n",
        "print(soup)                            # HTML 정보 확인하기"
      ],
      "execution_count": 29,
      "outputs": [
        {
          "output_type": "stream",
          "text": [
            "<html>\n",
            "<body>\n",
            "<ul>\n",
            "<li>김치찌개</li>\n",
            "<li>순두부찌개</li>\n",
            "<li>부대찌개</li>\n",
            "</ul>\n",
            "<ol>\n",
            "<li>오렌지</li>\n",
            "<li>수박</li>\n",
            "<li>사과</li>\n",
            "</ol>\n",
            "</body>\n",
            "</html>\n"
          ],
          "name": "stdout"
        }
      ]
    },
    {
      "cell_type": "code",
      "metadata": {
        "id": "xlufk_7ElVTJ",
        "colab_type": "code",
        "colab": {
          "base_uri": "https://localhost:8080/",
          "height": 34
        },
        "outputId": "cdcc0be1-3e24-4c73-9a8c-69f97c5bb9bd"
      },
      "source": [
        "soup.li.text"
      ],
      "execution_count": 30,
      "outputs": [
        {
          "output_type": "execute_result",
          "data": {
            "text/plain": [
              "'김치찌개'"
            ]
          },
          "metadata": {
            "tags": []
          },
          "execution_count": 30
        }
      ]
    },
    {
      "cell_type": "code",
      "metadata": {
        "id": "rIwXEdJsla7t",
        "colab_type": "code",
        "colab": {
          "base_uri": "https://localhost:8080/",
          "height": 122
        },
        "outputId": "04fbd9c6-8b5c-42e6-e7dc-855809d04363"
      },
      "source": [
        "soup.find_all('li')"
      ],
      "execution_count": 31,
      "outputs": [
        {
          "output_type": "execute_result",
          "data": {
            "text/plain": [
              "[<li>김치찌개</li>,\n",
              " <li>순두부찌개</li>,\n",
              " <li>부대찌개</li>,\n",
              " <li>오렌지</li>,\n",
              " <li>수박</li>,\n",
              " <li>사과</li>]"
            ]
          },
          "metadata": {
            "tags": []
          },
          "execution_count": 31
        }
      ]
    },
    {
      "cell_type": "code",
      "metadata": {
        "id": "L9mrhUAWlfiI",
        "colab_type": "code",
        "colab": {
          "base_uri": "https://localhost:8080/",
          "height": 122
        },
        "outputId": "30a31892-bbbe-4606-a4bd-dd4ea9887b60"
      },
      "source": [
        "li_dat = soup.find_all('li')\n",
        "for val in li_dat:\n",
        "  print(val)"
      ],
      "execution_count": 32,
      "outputs": [
        {
          "output_type": "stream",
          "text": [
            "<li>김치찌개</li>\n",
            "<li>순두부찌개</li>\n",
            "<li>부대찌개</li>\n",
            "<li>오렌지</li>\n",
            "<li>수박</li>\n",
            "<li>사과</li>\n"
          ],
          "name": "stdout"
        }
      ]
    },
    {
      "cell_type": "code",
      "metadata": {
        "id": "92eu25X4nOQq",
        "colab_type": "code",
        "colab": {
          "base_uri": "https://localhost:8080/",
          "height": 122
        },
        "outputId": "ec99038e-a735-44c4-dd0a-9667ee18c115"
      },
      "source": [
        "li_dat = soup.find_all('li')\n",
        "for val in li_dat:\n",
        "  print(val.text)"
      ],
      "execution_count": 33,
      "outputs": [
        {
          "output_type": "stream",
          "text": [
            "김치찌개\n",
            "순두부찌개\n",
            "부대찌개\n",
            "오렌지\n",
            "수박\n",
            "사과\n"
          ],
          "name": "stdout"
        }
      ]
    },
    {
      "cell_type": "code",
      "metadata": {
        "id": "mmrp_H7LnpmK",
        "colab_type": "code",
        "colab": {
          "base_uri": "https://localhost:8080/",
          "height": 140
        },
        "outputId": "27c1d4e0-bc92-4cd9-8e09-0f110bf74cb2"
      },
      "source": [
        "all_list = [ ]\n",
        "li_dat = soup.find_all('li')\n",
        "for val in li_dat:\n",
        "  print(val.text)\n",
        "  all_list.append(val.text)\n",
        "all_list"
      ],
      "execution_count": 35,
      "outputs": [
        {
          "output_type": "stream",
          "text": [
            "김치찌개\n",
            "순두부찌개\n",
            "부대찌개\n",
            "오렌지\n",
            "수박\n",
            "사과\n"
          ],
          "name": "stdout"
        },
        {
          "output_type": "execute_result",
          "data": {
            "text/plain": [
              "['김치찌개', '순두부찌개', '부대찌개', '오렌지', '수박', '사과']"
            ]
          },
          "metadata": {
            "tags": []
          },
          "execution_count": 35
        }
      ]
    },
    {
      "cell_type": "code",
      "metadata": {
        "id": "2QG7yymVnwzB",
        "colab_type": "code",
        "colab": {}
      },
      "source": [
        ""
      ],
      "execution_count": 0,
      "outputs": []
    }
  ]
}