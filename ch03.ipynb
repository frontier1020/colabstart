{
  "nbformat": 4,
  "nbformat_minor": 0,
  "metadata": {
    "colab": {
      "name": "ch03.ipynb",
      "provenance": [],
      "include_colab_link": true
    },
    "kernelspec": {
      "name": "python3",
      "display_name": "Python 3"
    }
  },
  "cells": [
    {
      "cell_type": "markdown",
      "metadata": {
        "id": "view-in-github",
        "colab_type": "text"
      },
      "source": [
        "<a href=\"https://colab.research.google.com/github/frontier1020/colabstart/blob/master/ch03.ipynb\" target=\"_parent\"><img src=\"https://colab.research.google.com/assets/colab-badge.svg\" alt=\"Open In Colab\"/></a>"
      ]
    },
    {
      "cell_type": "markdown",
      "metadata": {
        "id": "MuH7tzQHma-4",
        "colab_type": "text"
      },
      "source": [
        "### 3-3 웹 데이터 수집 기본"
      ]
    },
    {
      "cell_type": "code",
      "metadata": {
        "id": "J35n0ipW6kGX",
        "colab_type": "code",
        "colab": {}
      },
      "source": [
        "from urllib.request import urlopen"
      ],
      "execution_count": 0,
      "outputs": []
    },
    {
      "cell_type": "code",
      "metadata": {
        "id": "aQRD3oO66p8m",
        "colab_type": "code",
        "outputId": "0b22621a-6ee6-4e1d-9fd2-10fccd7cfd47",
        "colab": {
          "base_uri": "https://localhost:8080/",
          "height": 34
        }
      },
      "source": [
        "url = \"https://pythonstart.github.io/web/\"\n",
        "page = urlopen(url)\n",
        "page"
      ],
      "execution_count": 30,
      "outputs": [
        {
          "output_type": "execute_result",
          "data": {
            "text/plain": [
              "<http.client.HTTPResponse at 0x7ff049811c18>"
            ]
          },
          "metadata": {
            "tags": []
          },
          "execution_count": 30
        }
      ]
    },
    {
      "cell_type": "code",
      "metadata": {
        "id": "GvSmg7lH6z1h",
        "colab_type": "code",
        "colab": {}
      },
      "source": [
        "from bs4 import BeautifulSoup"
      ],
      "execution_count": 0,
      "outputs": []
    },
    {
      "cell_type": "code",
      "metadata": {
        "id": "LWbgj4hX9612",
        "colab_type": "code",
        "outputId": "4f9080c3-2b75-495d-9ad4-9fd770879d8b",
        "colab": {
          "base_uri": "https://localhost:8080/",
          "height": 388
        }
      },
      "source": [
        "soup = BeautifulSoup(page, 'lxml')\n",
        "soup"
      ],
      "execution_count": 32,
      "outputs": [
        {
          "output_type": "execute_result",
          "data": {
            "text/plain": [
              "<html>\n",
              "<head>\n",
              "<title>나의 웹 페이지</title>\n",
              "</head>\n",
              "<body>\n",
              "<h1> my web page </h1>\n",
              "<ul>\n",
              "<a href=\"./01.html\" name=\"link_get\" target=\"_blank\"> 01. 제목 가져오기(title) </a> <br/>\n",
              "<a href=\"./02.html\" name=\"text_get\" target=\"_blank\"> 02. 텍스트 가져오기(p) </a> <br/>\n",
              "<a href=\"./03.html\" name=\"link_get\" target=\"_blank\"> 03. 링크 가져오기(a) </a> <br/>\n",
              "<a href=\"https://pythonstart.github.io/web/04.html\" target=\"_blank\"> 04. 이미지 정보 가져오기(img) </a> <br/>\n",
              "<a href=\"./05.html\" target=\"_blank\"> 05. 리스트 정보 가져오기(ul,ol) </a> <br/>\n",
              "<a href=\"./06.html\" target=\"_blank\"> 06. id를 활용한 정보 획득 </a> <br/>\n",
              "<a href=\"./07.html\" target=\"_blank\"> 07. class를 활용한 정보 획득 </a> <br/>\n",
              "<a href=\"./08.html\" target=\"_blank\"> 08. 하나의 이미지 다운로드 </a> <br/>\n",
              "<a href=\"https://pythonstart.github.io/web/09.html\" target=\"_blank\"> 09. 여러개의 이미지 다운로드 </a> <br/>\n",
              "<a href=\"./10.html\" id=\"rank\" target=\"_blank\"> 10. 랭킹 정보 가져오기(웹 크롤링) </a> <br/>\n",
              "</ul>\n",
              "</body>\n",
              "</html>"
            ]
          },
          "metadata": {
            "tags": []
          },
          "execution_count": 32
        }
      ]
    },
    {
      "cell_type": "code",
      "metadata": {
        "id": "Ct5VR8ln-nzD",
        "colab_type": "code",
        "outputId": "c8787e90-604b-4a93-c33d-eeb656a7a97d",
        "colab": {
          "base_uri": "https://localhost:8080/",
          "height": 35
        }
      },
      "source": [
        "soup.title"
      ],
      "execution_count": 0,
      "outputs": [
        {
          "output_type": "execute_result",
          "data": {
            "text/plain": [
              "<title>나의 웹 페이지</title>"
            ]
          },
          "metadata": {
            "tags": []
          },
          "execution_count": 5
        }
      ]
    },
    {
      "cell_type": "markdown",
      "metadata": {
        "id": "4i9eNgpkH2sK",
        "colab_type": "text"
      },
      "source": [
        "### 소스코드 3.2.10"
      ]
    },
    {
      "cell_type": "code",
      "metadata": {
        "id": "i7Tidz4vTTuK",
        "colab_type": "code",
        "outputId": "ade81b1c-d955-4d3c-da40-1e25568ca1cf",
        "colab": {
          "base_uri": "https://localhost:8080/",
          "height": 210
        }
      },
      "source": [
        "from urllib.request import urlopen\n",
        "from bs4 import BeautifulSoup\n",
        "\n",
        "url = \"https://pythonstart.github.io/web/02.html\"\n",
        "page = urlopen(url)\n",
        "soup = BeautifulSoup(page, 'lxml')\n",
        "print(soup) "
      ],
      "execution_count": 33,
      "outputs": [
        {
          "output_type": "stream",
          "text": [
            "<html>\n",
            "<head>\n",
            "<title>나의 첫번째 페이지</title>\n",
            "</head>\n",
            "<body>\n",
            "<p> 여기는 두번째 단계 </p>\n",
            "<p> 01 시작이 반이다 </p>\n",
            "<p> 02 포기하지말고 화이팅! </p>\n",
            "<p> 03 응원합니다. </p>\n",
            "</body>\n",
            "</html>\n"
          ],
          "name": "stdout"
        }
      ]
    },
    {
      "cell_type": "code",
      "metadata": {
        "id": "qKMlCXeVTVVO",
        "colab_type": "code",
        "outputId": "b91b8dae-17b9-460e-8628-d205e0266208",
        "colab": {
          "base_uri": "https://localhost:8080/",
          "height": 34
        }
      },
      "source": [
        "### 첫번째 p 태그 정보 가져오기\n",
        "print(soup.p)"
      ],
      "execution_count": 0,
      "outputs": [
        {
          "output_type": "stream",
          "text": [
            "<p> 여기는 두번째 단계 </p>\n"
          ],
          "name": "stdout"
        }
      ]
    },
    {
      "cell_type": "code",
      "metadata": {
        "id": "JoHXOvTzUgxz",
        "colab_type": "code",
        "outputId": "41dcdeef-a7ae-4e90-85df-d28f89c4b4f7",
        "colab": {
          "base_uri": "https://localhost:8080/",
          "height": 34
        }
      },
      "source": [
        "### 첫번째 p 요소의 텍스트 정보 가져오기\n",
        "print(soup.p.text)"
      ],
      "execution_count": 0,
      "outputs": [
        {
          "output_type": "stream",
          "text": [
            " 여기는 두번째 단계 \n"
          ],
          "name": "stdout"
        }
      ]
    },
    {
      "cell_type": "code",
      "metadata": {
        "id": "yaco9qKTU6e0",
        "colab_type": "code",
        "outputId": "cac8497c-2444-442f-9d12-8f42b0b1ad53",
        "colab": {
          "base_uri": "https://localhost:8080/",
          "height": 157
        }
      },
      "source": [
        "from urllib.request import urlopen\n",
        "from bs4 import BeautifulSoup\n",
        "url = \"https://pythonstart.github.io/web/03.html\"  # 웹 페이지 URL \n",
        "page = urlopen(url)                    # 웹 페이지 정보 가져오기 \n",
        "soup = BeautifulSoup(page, 'lxml')   # BeautifulSoup를 이용한 구조화\n",
        "print(soup)                            # HTML 정보 확인하기 "
      ],
      "execution_count": 0,
      "outputs": [
        {
          "output_type": "stream",
          "text": [
            "<html>\n",
            "<body>\n",
            "<a href=\"https://www.naver.com/\">네이버</a> <br/>\n",
            "<a href=\"https://www.google.co.kr/\">구글</a> <br/>\n",
            "<a href=\"https://www.microsoft.com/ko-kr\">마이크로 소프트</a> <br/>\n",
            "<a href=\"https://www.kakaocorp.com/\">카카오</a> <br/>\n",
            "</body>\n",
            "</html>\n"
          ],
          "name": "stdout"
        }
      ]
    },
    {
      "cell_type": "code",
      "metadata": {
        "id": "kslTaYYFdjpM",
        "colab_type": "code",
        "outputId": "e6f77c49-7107-4d4f-9768-b4a802c2a594",
        "colab": {
          "base_uri": "https://localhost:8080/",
          "height": 70
        }
      },
      "source": [
        "### 첫번째 a태그의 요소 정보 가져오기\n",
        "print(soup.a)          # 요소의 전체 정보\n",
        "print(soup.a['href'])  # href 속성 정보\n",
        "print(soup.a.text)     # 요소의 text 정보"
      ],
      "execution_count": 0,
      "outputs": [
        {
          "output_type": "stream",
          "text": [
            "<a href=\"https://www.naver.com/\">네이버</a>\n",
            "https://www.naver.com/\n",
            "네이버\n"
          ],
          "name": "stdout"
        }
      ]
    },
    {
      "cell_type": "markdown",
      "metadata": {
        "id": "ShiF9CT_dz1d",
        "colab_type": "text"
      },
      "source": [
        "### 웹 페이지의 정보 가져오기"
      ]
    },
    {
      "cell_type": "code",
      "metadata": {
        "id": "zGfPJL2FjIkJ",
        "colab_type": "code",
        "outputId": "38c5bd2d-bd13-4bc0-a4d6-b035d1543833",
        "colab": {
          "base_uri": "https://localhost:8080/",
          "height": 300
        }
      },
      "source": [
        "from urllib.request import urlopen\n",
        "from bs4 import BeautifulSoup\n",
        "url = \"https://pythonstart.github.io/web/04.html\"  # 웹 페이지 URL \n",
        "page = urlopen(url)                    # 웹 페이지 정보 가져오기 \n",
        "soup = BeautifulSoup(page, 'lxml')   # BeautifulSoup를 이용한 구조화\n",
        "print(soup)                            # HTML 정보 확인하기\n"
      ],
      "execution_count": 0,
      "outputs": [
        {
          "output_type": "stream",
          "text": [
            "<html>\n",
            "<head>\n",
            "<title> 하나의 이미지 가져오기 </title>\n",
            "</head>\n",
            "<body>\n",
            "<div class=\"img01\">\n",
            "<p> 당신이 좋아할지도 모르는 이미지 </p>\n",
            "<div class=\"itemlike\" style=\"width: 322px; height: 214px; display: block;\"><img height=\"214px\" src=\"dog01.jpg\" width=\"322px\"/></div>\n",
            "<div class=\"itemlike\" style=\"width: 322px; height: 214px; display: block;\"><img height=\"214px\" src=\"dog02.jpg\" width=\"322px\"/></div>\n",
            "<a href=\"https://pixabay.com/ko/?utm_source=link-attribution&amp;utm_medium=referral&amp;utm_campaign=image&amp;utm_content=1785760\">Pixabay</a>로부터 입수된 \n",
            "<a href=\"https://pixabay.com/ko/users/kim_hester-3648659/?utm_source=link-attribution&amp;utm_medium=referral&amp;utm_campaign=image&amp;utm_content=1785760\">kim_hester</a>님의 이미지 입니다.\n",
            "</div>\n",
            "</body>\n",
            "</html>\n",
            "\n"
          ],
          "name": "stdout"
        }
      ]
    },
    {
      "cell_type": "code",
      "metadata": {
        "id": "_m3LYTm7jI1Z",
        "colab_type": "code",
        "outputId": "2f30b736-39fc-49c1-99cd-81cdd3cd9b97",
        "colab": {
          "base_uri": "https://localhost:8080/",
          "height": 34
        }
      },
      "source": [
        "print(soup.img)"
      ],
      "execution_count": 0,
      "outputs": [
        {
          "output_type": "stream",
          "text": [
            "<img height=\"214px\" src=\"dog01.jpg\" width=\"322px\"/>\n"
          ],
          "name": "stdout"
        }
      ]
    },
    {
      "cell_type": "code",
      "metadata": {
        "id": "peUao0h8jiTZ",
        "colab_type": "code",
        "outputId": "73aa2a45-094f-49e8-a38d-43ff48c9f502",
        "colab": {
          "base_uri": "https://localhost:8080/",
          "height": 34
        }
      },
      "source": [
        "print(soup.img['src'])"
      ],
      "execution_count": 0,
      "outputs": [
        {
          "output_type": "stream",
          "text": [
            "dog01.jpg\n"
          ],
          "name": "stdout"
        }
      ]
    },
    {
      "cell_type": "markdown",
      "metadata": {
        "id": "VDM3qFMfjlhE",
        "colab_type": "text"
      },
      "source": [
        "### 리스트 정보 가져오기"
      ]
    },
    {
      "cell_type": "code",
      "metadata": {
        "id": "M6xyGl7QlUzw",
        "colab_type": "code",
        "outputId": "e7c60ee6-3c37-49d5-ce93-466c22ce90fb",
        "colab": {
          "base_uri": "https://localhost:8080/",
          "height": 263
        }
      },
      "source": [
        "from urllib.request import urlopen\n",
        "from bs4 import BeautifulSoup\n",
        "url = \"https://pythonstart.github.io/web/05.html\"  # 웹 페이지 URL \n",
        "page = urlopen(url)                    # 웹 페이지 정보 가져오기 \n",
        "soup = BeautifulSoup(page, 'lxml')   # BeautifulSoup를 이용한 구조화\n",
        "print(soup)                            # HTML 정보 확인하기"
      ],
      "execution_count": 0,
      "outputs": [
        {
          "output_type": "stream",
          "text": [
            "<html>\n",
            "<body>\n",
            "<ul>\n",
            "<li>김치찌개</li>\n",
            "<li>순두부찌개</li>\n",
            "<li>부대찌개</li>\n",
            "</ul>\n",
            "<ol>\n",
            "<li>오렌지</li>\n",
            "<li>수박</li>\n",
            "<li>사과</li>\n",
            "</ol>\n",
            "</body>\n",
            "</html>\n"
          ],
          "name": "stdout"
        }
      ]
    },
    {
      "cell_type": "code",
      "metadata": {
        "id": "xlufk_7ElVTJ",
        "colab_type": "code",
        "outputId": "cdcc0be1-3e24-4c73-9a8c-69f97c5bb9bd",
        "colab": {
          "base_uri": "https://localhost:8080/",
          "height": 34
        }
      },
      "source": [
        "soup.li.text"
      ],
      "execution_count": 0,
      "outputs": [
        {
          "output_type": "execute_result",
          "data": {
            "text/plain": [
              "'김치찌개'"
            ]
          },
          "metadata": {
            "tags": []
          },
          "execution_count": 30
        }
      ]
    },
    {
      "cell_type": "code",
      "metadata": {
        "id": "rIwXEdJsla7t",
        "colab_type": "code",
        "outputId": "04fbd9c6-8b5c-42e6-e7dc-855809d04363",
        "colab": {
          "base_uri": "https://localhost:8080/",
          "height": 122
        }
      },
      "source": [
        "soup.find_all('li')"
      ],
      "execution_count": 0,
      "outputs": [
        {
          "output_type": "execute_result",
          "data": {
            "text/plain": [
              "[<li>김치찌개</li>,\n",
              " <li>순두부찌개</li>,\n",
              " <li>부대찌개</li>,\n",
              " <li>오렌지</li>,\n",
              " <li>수박</li>,\n",
              " <li>사과</li>]"
            ]
          },
          "metadata": {
            "tags": []
          },
          "execution_count": 31
        }
      ]
    },
    {
      "cell_type": "code",
      "metadata": {
        "id": "L9mrhUAWlfiI",
        "colab_type": "code",
        "outputId": "30a31892-bbbe-4606-a4bd-dd4ea9887b60",
        "colab": {
          "base_uri": "https://localhost:8080/",
          "height": 122
        }
      },
      "source": [
        "li_dat = soup.find_all('li')\n",
        "for val in li_dat:\n",
        "  print(val)"
      ],
      "execution_count": 0,
      "outputs": [
        {
          "output_type": "stream",
          "text": [
            "<li>김치찌개</li>\n",
            "<li>순두부찌개</li>\n",
            "<li>부대찌개</li>\n",
            "<li>오렌지</li>\n",
            "<li>수박</li>\n",
            "<li>사과</li>\n"
          ],
          "name": "stdout"
        }
      ]
    },
    {
      "cell_type": "code",
      "metadata": {
        "id": "92eu25X4nOQq",
        "colab_type": "code",
        "outputId": "ec99038e-a735-44c4-dd0a-9667ee18c115",
        "colab": {
          "base_uri": "https://localhost:8080/",
          "height": 122
        }
      },
      "source": [
        "li_dat = soup.find_all('li')\n",
        "for val in li_dat:\n",
        "  print(val.text)"
      ],
      "execution_count": 0,
      "outputs": [
        {
          "output_type": "stream",
          "text": [
            "김치찌개\n",
            "순두부찌개\n",
            "부대찌개\n",
            "오렌지\n",
            "수박\n",
            "사과\n"
          ],
          "name": "stdout"
        }
      ]
    },
    {
      "cell_type": "code",
      "metadata": {
        "id": "mmrp_H7LnpmK",
        "colab_type": "code",
        "outputId": "27c1d4e0-bc92-4cd9-8e09-0f110bf74cb2",
        "colab": {
          "base_uri": "https://localhost:8080/",
          "height": 140
        }
      },
      "source": [
        "all_list = [ ]\n",
        "li_dat = soup.find_all('li')\n",
        "for val in li_dat:\n",
        "  print(val.text)\n",
        "  all_list.append(val.text)\n",
        "all_list"
      ],
      "execution_count": 0,
      "outputs": [
        {
          "output_type": "stream",
          "text": [
            "김치찌개\n",
            "순두부찌개\n",
            "부대찌개\n",
            "오렌지\n",
            "수박\n",
            "사과\n"
          ],
          "name": "stdout"
        },
        {
          "output_type": "execute_result",
          "data": {
            "text/plain": [
              "['김치찌개', '순두부찌개', '부대찌개', '오렌지', '수박', '사과']"
            ]
          },
          "metadata": {
            "tags": []
          },
          "execution_count": 35
        }
      ]
    },
    {
      "cell_type": "markdown",
      "metadata": {
        "id": "2QG7yymVnwzB",
        "colab_type": "text"
      },
      "source": [
        "### id를 활용한 정보 획득"
      ]
    },
    {
      "cell_type": "code",
      "metadata": {
        "id": "XdjG073kXSl6",
        "colab_type": "code",
        "colab": {
          "base_uri": "https://localhost:8080/",
          "height": 228
        },
        "outputId": "d7d1be60-5a62-4a6d-bfc1-4e1b432170c7"
      },
      "source": [
        "from urllib.request import urlopen\n",
        "from bs4 import BeautifulSoup\n",
        "url = \"https://pythonstart.github.io/web/06.html\"  # 웹 페이지 URL \n",
        "page = urlopen(url)                    \n",
        "soup = BeautifulSoup(page, 'lxml')  \n",
        "print(soup)                           "
      ],
      "execution_count": 34,
      "outputs": [
        {
          "output_type": "stream",
          "text": [
            "<html>\n",
            "<body>\n",
            "<div>\n",
            "오늘의 코스닥 주가는\n",
            "<span id=\"today_kosdaq\">650\n",
            "</span></div>\n",
            "<div>\n",
            "오늘의 코스피 주가는\n",
            "<span id=\"today_kospi\">2400\n",
            "</span></div>\n",
            "</body>\n",
            "</html>\n"
          ],
          "name": "stdout"
        }
      ]
    },
    {
      "cell_type": "markdown",
      "metadata": {
        "id": "QG5cBfQmXUCv",
        "colab_type": "text"
      },
      "source": [
        "### 01 코스닥 주가 가져오기"
      ]
    },
    {
      "cell_type": "code",
      "metadata": {
        "id": "w9XRwA4kXacT",
        "colab_type": "code",
        "colab": {
          "base_uri": "https://localhost:8080/",
          "height": 52
        },
        "outputId": "1eebe8e8-d66e-462b-8aee-db5541fce846"
      },
      "source": [
        "soup.find(\"span\", id=\"today_kosdaq\")"
      ],
      "execution_count": 38,
      "outputs": [
        {
          "output_type": "execute_result",
          "data": {
            "text/plain": [
              "<span id=\"today_kosdaq\">650\n",
              "</span>"
            ]
          },
          "metadata": {
            "tags": []
          },
          "execution_count": 38
        }
      ]
    },
    {
      "cell_type": "code",
      "metadata": {
        "id": "76tBzWgZXhdq",
        "colab_type": "code",
        "colab": {
          "base_uri": "https://localhost:8080/",
          "height": 52
        },
        "outputId": "446ad8fa-0d73-4291-8c05-710b338b8d4b"
      },
      "source": [
        "kosdaq = soup.find(\"span\", id=\"today_kosdaq\").text\n",
        "print(\"코스닥 주가 지수는 :\", kosdaq) "
      ],
      "execution_count": 39,
      "outputs": [
        {
          "output_type": "stream",
          "text": [
            "코스닥 주가 지수는 : 650\n",
            "\n"
          ],
          "name": "stdout"
        }
      ]
    },
    {
      "cell_type": "markdown",
      "metadata": {
        "id": "cLyWZIEsZGWK",
        "colab_type": "text"
      },
      "source": [
        "### 실습 \n",
        "* 코스피 주가 지수를 가져와 보기"
      ]
    },
    {
      "cell_type": "markdown",
      "metadata": {
        "id": "Ae-4RW-LZYCk",
        "colab_type": "text"
      },
      "source": [
        "### class를 활용한 정보가져오기"
      ]
    },
    {
      "cell_type": "code",
      "metadata": {
        "id": "8KLFyVweeFRZ",
        "colab_type": "code",
        "colab": {
          "base_uri": "https://localhost:8080/",
          "height": 562
        },
        "outputId": "20c3f659-eee7-4776-aa83-4c82421f82a2"
      },
      "source": [
        "from urllib.request import urlopen\n",
        "from bs4 import BeautifulSoup\n",
        "url = \"https://pythonstart.github.io/web/07.html\"  \n",
        "page = urlopen(url)                    \n",
        "soup = BeautifulSoup(page, 'lxml')   \n",
        "print(soup)                            "
      ],
      "execution_count": 41,
      "outputs": [
        {
          "output_type": "stream",
          "text": [
            "<html>\n",
            "<body>\n",
            "<div class=\"character\">\n",
            "오늘의 인기 캐릭터\n",
            "<ul>\n",
            "<li class=\"game\">파이터</li>\n",
            "<li class=\"game\">솔루히</li>\n",
            "<li class=\"game\">무적대장</li>\n",
            "<li class=\"game\">수호대장</li>\n",
            "</ul>\n",
            "</div>\n",
            "<div class=\"word\">\n",
            "오늘의 인기 키워드\n",
            "<ul>\n",
            "<li class=\"kw\">냉면</li>\n",
            "<li class=\"kw\">감자</li>\n",
            "<li class=\"kw\">오늘의 영화</li>\n",
            "<li class=\"kw\">할수있어</li>\n",
            "</ul>\n",
            "</div>\n",
            "<div class=\"comment\">\n",
            "오늘의 인기 댓글\n",
            "<ul>\n",
            "<li>냉면이 맛있어 보인다.</li>\n",
            "<li>연기가 조금 어색해.</li>\n",
            "<li>오늘의 영화로서 손색이 없어.</li>\n",
            "<li>할수 있다는 맘이 생겨.</li>\n",
            "</ul>\n",
            "</div>\n",
            "</body>\n",
            "</html>\n"
          ],
          "name": "stdout"
        }
      ]
    },
    {
      "cell_type": "markdown",
      "metadata": {
        "id": "s_2PXhiReIRW",
        "colab_type": "text"
      },
      "source": [
        "### 오늘의 인기 캐릭터 가져오기"
      ]
    },
    {
      "cell_type": "code",
      "metadata": {
        "id": "zw4LsFbBeM1d",
        "colab_type": "code",
        "colab": {
          "base_uri": "https://localhost:8080/",
          "height": 87
        },
        "outputId": "1331ddef-805f-4e7a-ca4c-9e680b534c83"
      },
      "source": [
        "dat = soup.find_all(\"li\", class_=\"game\")\n",
        "dat"
      ],
      "execution_count": 42,
      "outputs": [
        {
          "output_type": "execute_result",
          "data": {
            "text/plain": [
              "[<li class=\"game\">파이터</li>,\n",
              " <li class=\"game\">솔루히</li>,\n",
              " <li class=\"game\">무적대장</li>,\n",
              " <li class=\"game\">수호대장</li>]"
            ]
          },
          "metadata": {
            "tags": []
          },
          "execution_count": 42
        }
      ]
    },
    {
      "cell_type": "code",
      "metadata": {
        "id": "mcY5SB0EeTeA",
        "colab_type": "code",
        "colab": {
          "base_uri": "https://localhost:8080/",
          "height": 87
        },
        "outputId": "6d8b4800-06af-472f-9fd1-f1b78564c445"
      },
      "source": [
        "for i in dat:\n",
        "  print(i.text)"
      ],
      "execution_count": 43,
      "outputs": [
        {
          "output_type": "stream",
          "text": [
            "파이터\n",
            "솔루히\n",
            "무적대장\n",
            "수호대장\n"
          ],
          "name": "stdout"
        }
      ]
    },
    {
      "cell_type": "markdown",
      "metadata": {
        "id": "eq2ftZdleXGP",
        "colab_type": "text"
      },
      "source": [
        "### 실습해 보기\n",
        "* 오늘의 인기 키워드 가져오기"
      ]
    },
    {
      "cell_type": "markdown",
      "metadata": {
        "id": "omL4mn_beam0",
        "colab_type": "text"
      },
      "source": [
        "### 오늘의 인기 댓글 가져오기"
      ]
    },
    {
      "cell_type": "code",
      "metadata": {
        "id": "sw1f3VudfTYw",
        "colab_type": "code",
        "colab": {
          "base_uri": "https://localhost:8080/",
          "height": 175
        },
        "outputId": "2ea9bb26-b716-4071-b66b-12a1faa56134"
      },
      "source": [
        "dat = soup.find(\"div\", class_=\"comment\")\n",
        "dat"
      ],
      "execution_count": 24,
      "outputs": [
        {
          "output_type": "execute_result",
          "data": {
            "text/plain": [
              "<div class=\"comment\">\n",
              "오늘의 인기 댓글\n",
              "<ul>\n",
              "<li>냉면이 맛있어 보인다.</li>\n",
              "<li>연기가 조금 어색해.</li>\n",
              "<li>오늘의 영화로서 손색이 없어.</li>\n",
              "<li>할수 있다는 맘이 생겨.</li>\n",
              "</ul>\n",
              "</div>"
            ]
          },
          "metadata": {
            "tags": []
          },
          "execution_count": 24
        }
      ]
    },
    {
      "cell_type": "code",
      "metadata": {
        "id": "nLPBQpQNfZCv",
        "colab_type": "code",
        "colab": {
          "base_uri": "https://localhost:8080/",
          "height": 87
        },
        "outputId": "ca4d8dee-97be-4083-f29a-802a85e6f74a"
      },
      "source": [
        "com = dat.find_all(\"li\")\n",
        "com"
      ],
      "execution_count": 25,
      "outputs": [
        {
          "output_type": "execute_result",
          "data": {
            "text/plain": [
              "[<li>냉면이 맛있어 보인다.</li>,\n",
              " <li>연기가 조금 어색해.</li>,\n",
              " <li>오늘의 영화로서 손색이 없어.</li>,\n",
              " <li>할수 있다는 맘이 생겨.</li>]"
            ]
          },
          "metadata": {
            "tags": []
          },
          "execution_count": 25
        }
      ]
    },
    {
      "cell_type": "code",
      "metadata": {
        "id": "okJ-hpR9fjo9",
        "colab_type": "code",
        "colab": {
          "base_uri": "https://localhost:8080/",
          "height": 87
        },
        "outputId": "3c5965ce-7ff5-40dc-e407-5b3cfcb6cac9"
      },
      "source": [
        "for txt in com:\n",
        "  print(txt.text)"
      ],
      "execution_count": 26,
      "outputs": [
        {
          "output_type": "stream",
          "text": [
            "냉면이 맛있어 보인다.\n",
            "연기가 조금 어색해.\n",
            "오늘의 영화로서 손색이 없어.\n",
            "할수 있다는 맘이 생겨.\n"
          ],
          "name": "stdout"
        }
      ]
    },
    {
      "cell_type": "markdown",
      "metadata": {
        "id": "alhT541IfooX",
        "colab_type": "text"
      },
      "source": [
        "### 하나의 이미지 다운로드"
      ]
    },
    {
      "cell_type": "code",
      "metadata": {
        "id": "_NiX_Zw_frTT",
        "colab_type": "code",
        "colab": {
          "base_uri": "https://localhost:8080/",
          "height": 157
        },
        "outputId": "308a458f-05ad-46ca-b11d-d43287100b8b"
      },
      "source": [
        "from urllib.request import urlopen\n",
        "from bs4 import BeautifulSoup\n",
        "url = \"https://pythonstart.github.io/web/08.html\"  \n",
        "page = urlopen(url)                    \n",
        "soup = BeautifulSoup(page, 'lxml')   \n",
        "print(soup) "
      ],
      "execution_count": 44,
      "outputs": [
        {
          "output_type": "stream",
          "text": [
            "<html>\n",
            "<head>\n",
            "<title> 하나의 이미지 가져오기 </title>\n",
            "</head>\n",
            "<body>\n",
            "<img height=\"500\" src=\"dog01.jpg\" width=\"500\"/>\n",
            "</body>\n",
            "</html>\n"
          ],
          "name": "stdout"
        }
      ]
    },
    {
      "cell_type": "code",
      "metadata": {
        "id": "fWOWnxiRgTrU",
        "colab_type": "code",
        "colab": {
          "base_uri": "https://localhost:8080/",
          "height": 34
        },
        "outputId": "18a3d15e-81f1-421a-d4a5-f40776b9c733"
      },
      "source": [
        "# https://pythonstart.github.io/web/dog01.jpg\n",
        "base_url = \"https://pythonstart.github.io/web/\"\n",
        "img_url = soup.img['src']\n",
        "all_url = base_url + img_url\n",
        "print(all_url)"
      ],
      "execution_count": 45,
      "outputs": [
        {
          "output_type": "stream",
          "text": [
            "https://pythonstart.github.io/web/dog01.jpg\n"
          ],
          "name": "stdout"
        }
      ]
    },
    {
      "cell_type": "code",
      "metadata": {
        "id": "uq3WuzrUg8Ro",
        "colab_type": "code",
        "colab": {
          "base_uri": "https://localhost:8080/",
          "height": 34
        },
        "outputId": "e76f3e1b-0bf4-4d72-f0b4-ff3ba1f77101"
      },
      "source": [
        "# 이미지 다운로드\n",
        "from urllib.request import urlretrieve\n",
        "urlretrieve(all_url, \"dog01.jpg\")\n",
        "\n",
        "# 이미지 다운로드 확인\n",
        "!ls"
      ],
      "execution_count": 46,
      "outputs": [
        {
          "output_type": "stream",
          "text": [
            "dog01.jpg  sample_data\n"
          ],
          "name": "stdout"
        }
      ]
    },
    {
      "cell_type": "code",
      "metadata": {
        "id": "aBt7zNjOhScT",
        "colab_type": "code",
        "colab": {}
      },
      "source": [
        "## https://pythonstart.github.io/web/dog01.jpg\n",
        "## https://pythonstart.github.io/web/dog02.jpg"
      ],
      "execution_count": 0,
      "outputs": []
    },
    {
      "cell_type": "code",
      "metadata": {
        "id": "1EiqkF_gy9qq",
        "colab_type": "code",
        "colab": {
          "base_uri": "https://localhost:8080/",
          "height": 54
        },
        "outputId": "915582bd-584c-4f95-8e4e-a7cad68b512d"
      },
      "source": [
        "!uname -a"
      ],
      "execution_count": 47,
      "outputs": [
        {
          "output_type": "stream",
          "text": [
            "Linux 5f45fa7d7f0f 4.14.137+ #1 SMP Thu Aug 8 02:47:02 PDT 2019 x86_64 x86_64 x86_64 GNU/Linux\n"
          ],
          "name": "stdout"
        }
      ]
    },
    {
      "cell_type": "code",
      "metadata": {
        "id": "EcaHFVbOy-zy",
        "colab_type": "code",
        "colab": {}
      },
      "source": [
        ""
      ],
      "execution_count": 0,
      "outputs": []
    }
  ]
}