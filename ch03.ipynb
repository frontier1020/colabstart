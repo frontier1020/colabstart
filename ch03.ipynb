{
  "nbformat": 4,
  "nbformat_minor": 0,
  "metadata": {
    "colab": {
      "name": "ch03.ipynb",
      "provenance": [],
      "include_colab_link": true
    },
    "kernelspec": {
      "name": "python3",
      "display_name": "Python 3"
    }
  },
  "cells": [
    {
      "cell_type": "markdown",
      "metadata": {
        "id": "view-in-github",
        "colab_type": "text"
      },
      "source": [
        "<a href=\"https://colab.research.google.com/github/frontier1020/colabstart/blob/master/ch03.ipynb\" target=\"_parent\"><img src=\"https://colab.research.google.com/assets/colab-badge.svg\" alt=\"Open In Colab\"/></a>"
      ]
    },
    {
      "cell_type": "markdown",
      "metadata": {
        "id": "MuH7tzQHma-4",
        "colab_type": "text"
      },
      "source": [
        "### 3-3 웹 데이터 수집 기본"
      ]
    },
    {
      "cell_type": "code",
      "metadata": {
        "id": "J35n0ipW6kGX",
        "colab_type": "code",
        "colab": {}
      },
      "source": [
        "from urllib.request import urlopen"
      ],
      "execution_count": 0,
      "outputs": []
    },
    {
      "cell_type": "code",
      "metadata": {
        "id": "aQRD3oO66p8m",
        "colab_type": "code",
        "outputId": "1b99bea2-d687-4da0-9181-865d4a89a94f",
        "colab": {
          "base_uri": "https://localhost:8080/",
          "height": 35
        }
      },
      "source": [
        "url = \"https://pythonstart.github.io/web/\"\n",
        "page = urlopen(url)\n",
        "page"
      ],
      "execution_count": 0,
      "outputs": [
        {
          "output_type": "execute_result",
          "data": {
            "text/plain": [
              "<http.client.HTTPResponse at 0x7f54b3108c88>"
            ]
          },
          "metadata": {
            "tags": []
          },
          "execution_count": 2
        }
      ]
    },
    {
      "cell_type": "code",
      "metadata": {
        "id": "GvSmg7lH6z1h",
        "colab_type": "code",
        "colab": {}
      },
      "source": [
        "from bs4 import BeautifulSoup"
      ],
      "execution_count": 0,
      "outputs": []
    },
    {
      "cell_type": "code",
      "metadata": {
        "id": "LWbgj4hX9612",
        "colab_type": "code",
        "outputId": "7bb14465-ba5b-4452-b6d5-0309592b802b",
        "colab": {
          "base_uri": "https://localhost:8080/",
          "height": 381
        }
      },
      "source": [
        "soup = BeautifulSoup(page, 'lxml')\n",
        "soup"
      ],
      "execution_count": 0,
      "outputs": [
        {
          "output_type": "execute_result",
          "data": {
            "text/plain": [
              "<html>\n",
              "<head>\n",
              "<title>나의 웹 페이지</title>\n",
              "</head>\n",
              "<body>\n",
              "<h1> my web page </h1>\n",
              "<ul>\n",
              "<a href=\"./01.html\" name=\"link_get\"> 01. 제목 가져오기(title) </a> <br/>\n",
              "<a href=\"./02.html\" name=\"text_get\"> 02. 텍스트 가져오기(p) </a> <br/>\n",
              "<a href=\"./03.html\" name=\"link_get\"> 03. 링크 가져오기(a) </a> <br/>\n",
              "<a href=\"https://pythonstart.github.io/web/04.html\"> 04. 이미지 가져오기(img) </a> <br/>\n",
              "<a href=\"./05.html\"> 05. 리스트 정보 가져오기(ul,ol) </a> <br/>\n",
              "<a href=\"./06.html\"> 06. id를 활용한 정보 획득 </a> <br/>\n",
              "<a href=\"./07.html\"> 07. class를 활용한 정보 획득 </a> <br/>\n",
              "<a href=\"./08.html\"> 08. 하나의 이미지 다운로드 </a> <br/>\n",
              "<a href=\"https://pythonstart.github.io/web/09.html\"> 09. 여러개의 이미지 다운로드 </a> <br/>\n",
              "<a href=\"./10.html\" id=\"rank\"> 10. 랭킹 정보 가져오기(웹 크롤링) </a> <br/>\n",
              "</ul>\n",
              "</body>\n",
              "</html>"
            ]
          },
          "metadata": {
            "tags": []
          },
          "execution_count": 4
        }
      ]
    },
    {
      "cell_type": "code",
      "metadata": {
        "id": "Ct5VR8ln-nzD",
        "colab_type": "code",
        "outputId": "c8787e90-604b-4a93-c33d-eeb656a7a97d",
        "colab": {
          "base_uri": "https://localhost:8080/",
          "height": 35
        }
      },
      "source": [
        "soup.title"
      ],
      "execution_count": 0,
      "outputs": [
        {
          "output_type": "execute_result",
          "data": {
            "text/plain": [
              "<title>나의 웹 페이지</title>"
            ]
          },
          "metadata": {
            "tags": []
          },
          "execution_count": 5
        }
      ]
    },
    {
      "cell_type": "code",
      "metadata": {
        "id": "4i9eNgpkH2sK",
        "colab_type": "code",
        "colab": {}
      },
      "source": [
        ""
      ],
      "execution_count": 0,
      "outputs": []
    }
  ]
}